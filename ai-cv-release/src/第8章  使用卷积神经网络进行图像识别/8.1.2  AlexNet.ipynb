{
 "cells": [
  {
   "cell_type": "markdown",
   "metadata": {},
   "source": [
    "LRN算法\n",
    "\n",
    "作者：谢文伟\n",
    "\n",
    "邮件：jim.xie.cn@outlook.com\n",
    "\n",
    "主页：https://github.com/jim-xie-cn/ai-cv"
   ]
  },
  {
   "cell_type": "code",
   "execution_count": null,
   "metadata": {},
   "outputs": [],
   "source": [
    "import tensorflow as tf\n",
    "import numpy as np\n",
    "#生成输入数据（特征图），batch=2,weight=4,height=4,channel=3\n",
    "x = np.array([i for i in range(1,97)])\n",
    "x = x.reshape([2,4,4,3]) #特征图格式为[batch,width,heigh,channel]\n",
    "#进行区域归一化（LRN）\n",
    "y = tf.nn.lrn(input=x)\n",
    "with tf.Session() as sess:\n",
    "    print(\"输入特征图\")\n",
    "    print(x)\n",
    "    print('区域归一化（LRN）后特征图')\n",
    "    print(y.eval())"
   ]
  },
  {
   "cell_type": "code",
   "execution_count": null,
   "metadata": {},
   "outputs": [],
   "source": []
  }
 ],
 "metadata": {
  "celltoolbar": "Raw Cell Format",
  "kernelspec": {
   "display_name": "Python 3",
   "language": "python",
   "name": "python3"
  },
  "language_info": {
   "codemirror_mode": {
    "name": "ipython",
    "version": 3
   },
   "file_extension": ".py",
   "mimetype": "text/x-python",
   "name": "python",
   "nbconvert_exporter": "python",
   "pygments_lexer": "ipython3",
   "version": "3.7.9"
  }
 },
 "nbformat": 4,
 "nbformat_minor": 2
}
