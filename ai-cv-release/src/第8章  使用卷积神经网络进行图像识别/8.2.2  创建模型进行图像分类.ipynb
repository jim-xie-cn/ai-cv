{
 "cells": [
  {
   "cell_type": "markdown",
   "metadata": {},
   "source": [
    "创建卷积神经网络模型\n",
    "\n",
    "作者：谢文伟\n",
    "\n",
    "邮件：jim.xie.cn@outlook.com\n",
    "\n",
    "主页：https://github.com/jim-xie-cn/ai-cv"
   ]
  },
  {
   "cell_type": "markdown",
   "metadata": {},
   "source": [
    "# 读取cifar-10样本"
   ]
  },
  {
   "cell_type": "markdown",
   "metadata": {},
   "source": [
    "导入用的的Python包"
   ]
  },
  {
   "cell_type": "code",
   "execution_count": null,
   "metadata": {},
   "outputs": [],
   "source": [
    "import pickle as pk\n",
    "import cv2\n",
    "import numpy as np\n",
    "from keras import utils as np_utils\n",
    "from matplotlib import pyplot as plt\n",
    "plt.rcParams['font.sans-serif']=['SimHei'] #使用中文字体"
   ]
  },
  {
   "cell_type": "markdown",
   "metadata": {},
   "source": [
    "读取类别对应的标签"
   ]
  },
  {
   "cell_type": "code",
   "execution_count": null,
   "metadata": {},
   "outputs": [],
   "source": [
    "label_names=[]\n",
    "with open('./dataset/cifar-10-batches-py/batches.meta','rb') as fo:\n",
    "    dataset = pk.load(fo,encoding='bytes')\n",
    "    label_names=[x.decode('utf-8') for x in dataset[b'label_names']]"
   ]
  },
  {
   "cell_type": "markdown",
   "metadata": {},
   "source": [
    "读取训练集数据"
   ]
  },
  {
   "cell_type": "code",
   "execution_count": null,
   "metadata": {},
   "outputs": [],
   "source": [
    "#样本中图像数据格式为3x32x32.转换为32x32x3格式\n",
    "def preprocess(image):\n",
    "    return image.transpose(1,2,0)\n",
    "train_labels,train_images=[],[]\n",
    "#训练集被分成5个文件，分别读取每个文件，并合并到一起\n",
    "for i in range(1,6):\n",
    "    with open('./dataset/cifar-10-batches-py/data_batch_%d'%i,'rb') as fo:\n",
    "        dataset = pk.load(fo,encoding='bytes')\n",
    "        img = np.reshape(dataset[b'data'],(10000,3,32,32))\n",
    "        images = [preprocess(x) for x in img]\n",
    "        train_images.extend(images)\n",
    "        train_labels.extend(dataset[b'labels'])\n",
    "#转换为numpy数组，并将类别转换为one-hot编码\n",
    "train_labels = np.array(train_labels)\n",
    "train_images = np.array(train_images)\n",
    "train_labels  = np_utils.to_categorical(train_labels,10)"
   ]
  },
  {
   "cell_type": "markdown",
   "metadata": {},
   "source": [
    "读取测试集数据"
   ]
  },
  {
   "cell_type": "code",
   "execution_count": null,
   "metadata": {},
   "outputs": [],
   "source": [
    "test_labels,test_images=[],[]\n",
    "with open('./dataset/cifar-10-batches-py/test_batch','rb') as fo:\n",
    "    dataset = pk.load(fo,encoding='bytes')\n",
    "    img = np.reshape(dataset[b'data'],(10000,3,32,32))\n",
    "    test_images = [preprocess(x) for x in img]\n",
    "    test_labels = dataset[b'labels']\n",
    "#转换为numpy数组，并将类别转换为one-hot编码\n",
    "test_labels = np.array(test_labels)\n",
    "test_images = np.array(test_images)\n",
    "test_labels  = np_utils.to_categorical(test_labels,10)"
   ]
  },
  {
   "cell_type": "markdown",
   "metadata": {},
   "source": [
    "显示部分样本图像"
   ]
  },
  {
   "cell_type": "code",
   "execution_count": null,
   "metadata": {},
   "outputs": [],
   "source": [
    "#每行显示7幅图，共有5行\n",
    "fig,ax = plt.subplots(5,7,figsize=(12,12))\n",
    "def ShowImg(id,title,img):\n",
    "    x,y = divmod(id,7)   #根据编号计算图像显示的位置\n",
    "    ax[x,y].imshow(img)\n",
    "    ax[x,y].set_title(title,fontsize=16)\n",
    "    ax[x,y].axis('off')\n",
    "for i in range(35):\n",
    "    label  = np.argmax(train_labels[i]) #将one-hot编号转换为类别编号\n",
    "    ShowImg(i,label_names[label],train_images[i])"
   ]
  },
  {
   "cell_type": "markdown",
   "metadata": {},
   "source": [
    "# 创建卷积神经网络模型"
   ]
  },
  {
   "cell_type": "markdown",
   "metadata": {},
   "source": [
    "创建LeNet-5"
   ]
  },
  {
   "cell_type": "code",
   "execution_count": null,
   "metadata": {},
   "outputs": [],
   "source": [
    "from keras.models import Sequential\n",
    "from keras.layers import Conv2D,AveragePooling2D,Flatten,Dense\n",
    "model = Sequential()\n",
    "#第一个卷积层需指定输入图像的大小，这里指定input_shape=(32,32,3)\n",
    "model.add(Conv2D(filters=6, kernel_size=5, strides=1,activation='tanh',input_shape=(32,32,3),padding = 'same'))\n",
    "model.add(AveragePooling2D(pool_size=2, strides =2,padding='valid'))\n",
    "model.add(Conv2D(filters=16, kernel_size=5, strides=1,activation='tanh',padding='valid'))\n",
    "model.add(AveragePooling2D(pool_size=2, strides=2,padding='valid')) \n",
    "model.add(Conv2D(filters=120,kernel_size=5,strides=1,activation='tanh',padding='valid'))\n",
    "model.add(Flatten())\n",
    "model.add(Dense(units=84,activation='tanh'))\n",
    "#最后一个全连接层需指定输出维度，这里是10个分类，所以指定units=10\n",
    "model.add(Dense(units=10, activation='softmax'))"
   ]
  },
  {
   "cell_type": "markdown",
   "metadata": {},
   "source": [
    "训练模型"
   ]
  },
  {
   "cell_type": "code",
   "execution_count": null,
   "metadata": {
    "scrolled": false
   },
   "outputs": [],
   "source": [
    "model.compile(loss='categorical_crossentropy', optimizer='adam', metrics=['accuracy']) #编译模型\n",
    "#训练模型\n",
    "measure=model.fit(train_images, train_labels,validation_data = (test_images,test_labels),\n",
    "                            batch_size=200, epochs=2, verbose=1)\n",
    "#在测试集上评估模型\n",
    "score = model.evaluate(test_images, test_labels, verbose=1)\n",
    "print(\"模型在测试集上得分\", score)"
   ]
  },
  {
   "cell_type": "markdown",
   "metadata": {},
   "source": [
    "模型评估"
   ]
  },
  {
   "cell_type": "code",
   "execution_count": null,
   "metadata": {},
   "outputs": [],
   "source": [
    "from sklearn.metrics import confusion_matrix,accuracy_score\n",
    "from sklearn.metrics import precision_score,recall_score,f1_score\n",
    "from sklearn.metrics import classification_report\n",
    "import pandas as pd\n",
    "y_predict = model.predict_classes(test_images) #使用模型进行分类\n",
    "y_true = [np.argmax(x) for x in test_labels]        #将one-hot编号转换为类别编号\n",
    "cm = confusion_matrix(y_true, y_predict)\n",
    "conf_matrix = pd.DataFrame(cm, index=label_names, columns=label_names)\n",
    "display('混淆矩阵',conf_matrix)\n",
    "print(\"分类报告:\\n\",classification_report(y_true, y_predict,target_names=label_names))"
   ]
  },
  {
   "cell_type": "markdown",
   "metadata": {},
   "source": [
    "评估和使用模型"
   ]
  },
  {
   "cell_type": "code",
   "execution_count": null,
   "metadata": {
    "scrolled": false
   },
   "outputs": [],
   "source": [
    "#对测试集的图像进行分类，显示前35幅图像的分类结果\n",
    "labels = model.predict_classes(test_images)\n",
    "fig,ax = plt.subplots(5,7,figsize=(12,12)) #每行显示7幅图，共有5行\n",
    "def ShowImg(id,title,img):\n",
    "    x,y = divmod(id,7)                           #根据编号计算图像显示的位置\n",
    "    ax[x,y].imshow(img)\n",
    "    ax[x,y].set_title(title,fontsize=16)\n",
    "    ax[x,y].axis('off')\n",
    "for i in range(0,35):\n",
    "    label = np.argmax(labels[i]) #将one-hot编号转换为类别编号\n",
    "    ShowImg(i,label_names[label],test_images[i])"
   ]
  },
  {
   "cell_type": "markdown",
   "metadata": {},
   "source": [
    "持久化"
   ]
  },
  {
   "cell_type": "code",
   "execution_count": null,
   "metadata": {},
   "outputs": [],
   "source": [
    "from keras.models import model_from_json\n",
    "from keras.models import load_model\n",
    "#保存模型\n",
    "model.save(\"./models/lenet-5-model.h5\") #保存整个模型\n",
    "model.save_weights('./models/lenet-5-weights.hdf5') #保存模型的权重参数\n",
    "with open(\"./models/lenet-5-arch.json\", \"w\") as json_file:\n",
    "    json_file.write(model.to_json()) #保存模型结构\n",
    "#保存训练记录\n",
    "with open(\"./models/lenet-5-history.pickle\", \"wb\") as file_pi:\n",
    "    pk.dump(measure.history, file_pi) \n",
    "#读取(装载)模型\n",
    "new_model = load_model('./models/lenet-5-model.h5')            #读取并装载整个模型\n",
    "with open('./models/lenet-5-arch.json', 'r') as file:\n",
    "    model_json = file.read()\n",
    "    new_model = model_from_json(model_json)                        #装载模型结构\n",
    "    new_model.load_weights(\"./models/lenet-5-weights.hdf5\")  #读取并装载模型参数\n",
    "#读取训练记录\n",
    "with open(\"./models/lenet-5-history.pickle\", 'rb') as f:             \n",
    "    history = pk.load(f) "
   ]
  },
  {
   "cell_type": "code",
   "execution_count": null,
   "metadata": {},
   "outputs": [],
   "source": []
  }
 ],
 "metadata": {
  "kernelspec": {
   "display_name": "Python 3",
   "language": "python",
   "name": "python3"
  },
  "language_info": {
   "codemirror_mode": {
    "name": "ipython",
    "version": 3
   },
   "file_extension": ".py",
   "mimetype": "text/x-python",
   "name": "python",
   "nbconvert_exporter": "python",
   "pygments_lexer": "ipython3",
   "version": "3.7.9"
  }
 },
 "nbformat": 4,
 "nbformat_minor": 4
}
