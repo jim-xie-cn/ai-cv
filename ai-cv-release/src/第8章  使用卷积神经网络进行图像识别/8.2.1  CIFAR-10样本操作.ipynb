{
 "cells": [
  {
   "cell_type": "markdown",
   "metadata": {},
   "source": [
    "cifar样本操作\n",
    "\n",
    "作者：谢文伟\n",
    "\n",
    "邮件：jim.xie.cn@outlook.com\n",
    "\n",
    "主页：https://github.com/jim-xie-cn/ai-cv"
   ]
  },
  {
   "cell_type": "markdown",
   "metadata": {},
   "source": [
    "导入用的的Python包"
   ]
  },
  {
   "cell_type": "code",
   "execution_count": null,
   "metadata": {},
   "outputs": [],
   "source": [
    "import pickle as pk\n",
    "import cv2\n",
    "import numpy as np\n",
    "from keras import utils as np_utils\n",
    "from matplotlib import pyplot as plt\n",
    "plt.rcParams['font.sans-serif']=['SimHei'] #使用中文字体"
   ]
  },
  {
   "cell_type": "markdown",
   "metadata": {},
   "source": [
    "读取类别对应的标签"
   ]
  },
  {
   "cell_type": "code",
   "execution_count": null,
   "metadata": {},
   "outputs": [],
   "source": [
    "label_names=[]\n",
    "with open('./dataset/cifar-10-batches-py/batches.meta','rb') as fo:\n",
    "    dataset = pk.load(fo,encoding='bytes')\n",
    "    label_names=[x.decode('utf-8') for x in dataset[b'label_names']]"
   ]
  },
  {
   "cell_type": "markdown",
   "metadata": {},
   "source": [
    "读取训练集数据"
   ]
  },
  {
   "cell_type": "code",
   "execution_count": null,
   "metadata": {},
   "outputs": [],
   "source": [
    "#样本中图像数据格式为3x32x32.转换为32x32x3格式\n",
    "def preprocess(image):\n",
    "    return image.transpose(1,2,0)\n",
    "train_labels,train_images=[],[]\n",
    "#训练集被分成5个文件，分别读取每个文件，并合并到一起\n",
    "for i in range(1,6):\n",
    "    with open('./dataset/cifar-10-batches-py/data_batch_%d'%i,'rb') as fo:\n",
    "        dataset = pk.load(fo,encoding='bytes')\n",
    "        img = np.reshape(dataset[b'data'],(10000,3,32,32))\n",
    "        images = [preprocess(x) for x in img]\n",
    "        train_images.extend(images)\n",
    "        train_labels.extend(dataset[b'labels'])\n",
    "#转换为numpy数组，并将类别转换为one-hot编码\n",
    "train_labels = np.array(train_labels)\n",
    "train_images = np.array(train_images)\n",
    "train_labels  = np_utils.to_categorical(train_labels,10)"
   ]
  },
  {
   "cell_type": "markdown",
   "metadata": {},
   "source": [
    "读取测试集数据"
   ]
  },
  {
   "cell_type": "code",
   "execution_count": null,
   "metadata": {},
   "outputs": [],
   "source": [
    "test_labels,test_images=[],[]\n",
    "with open('./dataset/cifar-10-batches-py/test_batch','rb') as fo:\n",
    "    dataset = pk.load(fo,encoding='bytes')\n",
    "    img = np.reshape(dataset[b'data'],(10000,3,32,32))\n",
    "    test_images = [preprocess(x) for x in img]\n",
    "    test_labels = dataset[b'labels']\n",
    "#转换为numpy数组，并将类别转换为one-hot编码\n",
    "test_labels = np.array(test_labels)\n",
    "test_images = np.array(test_images)\n",
    "test_labels  = np_utils.to_categorical(test_labels,10)"
   ]
  },
  {
   "cell_type": "markdown",
   "metadata": {},
   "source": [
    "显示部分样本图像"
   ]
  },
  {
   "cell_type": "code",
   "execution_count": null,
   "metadata": {},
   "outputs": [],
   "source": [
    "#每行显示7幅图，共有5行\n",
    "fig,ax = plt.subplots(5,7,figsize=(12,12))\n",
    "def ShowImg(id,title,img):\n",
    "    x,y = divmod(id,7)   #根据编号计算图像显示的位置\n",
    "    ax[x,y].imshow(img)\n",
    "    ax[x,y].set_title(title,fontsize=16)\n",
    "    ax[x,y].axis('off')\n",
    "for i in range(35):\n",
    "    label  = np.argmax(train_labels[i]) #将one-hot编号转换为类别编号\n",
    "    ShowImg(i,label_names[label],train_images[i])"
   ]
  },
  {
   "cell_type": "code",
   "execution_count": null,
   "metadata": {},
   "outputs": [],
   "source": []
  }
 ],
 "metadata": {
  "kernelspec": {
   "display_name": "Python 3",
   "language": "python",
   "name": "python3"
  },
  "language_info": {
   "codemirror_mode": {
    "name": "ipython",
    "version": 3
   },
   "file_extension": ".py",
   "mimetype": "text/x-python",
   "name": "python",
   "nbconvert_exporter": "python",
   "pygments_lexer": "ipython3",
   "version": "3.7.9"
  }
 },
 "nbformat": 4,
 "nbformat_minor": 4
}
