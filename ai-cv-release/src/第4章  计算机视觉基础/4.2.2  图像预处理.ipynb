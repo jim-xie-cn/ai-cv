{
 "cells": [
  {
   "cell_type": "markdown",
   "metadata": {
    "scrolled": true
   },
   "source": [
    "图像预处理\n",
    "\n",
    "作者：谢文伟\n",
    "\n",
    "邮件：jim.xie.cn@outlook.com\n",
    "\n",
    "主页：https://github.com/jim-xie-cn/ai-cv"
   ]
  },
  {
   "cell_type": "markdown",
   "metadata": {},
   "source": [
    "导入用到的开发库"
   ]
  },
  {
   "cell_type": "code",
   "execution_count": null,
   "metadata": {},
   "outputs": [],
   "source": [
    "from matplotlib import pyplot as plt\n",
    "import numpy as np\n",
    "import cv2\n",
    "plt.rcParams['font.sans-serif']=['SimHei'] #使用中文字体"
   ]
  },
  {
   "cell_type": "markdown",
   "metadata": {},
   "source": [
    "灰度化、二值化与色彩变换"
   ]
  },
  {
   "cell_type": "code",
   "execution_count": null,
   "metadata": {
    "scrolled": true
   },
   "outputs": [],
   "source": [
    "bgr_img= cv2.imread('./images/qian_dao_hu.jpg')#读取图片文件，得到图像数组，默认是BGR格式\n",
    "rgb_img= cv2.cvtColor(bgr_img.copy(),cv2.COLOR_BGR2RGB)#转换为RGB格式\n",
    "gray = cv2.cvtColor(rgb_img.copy(),cv2.COLOR_RGB2GRAY)#灰度化，转换为灰度图\n",
    "#二值化，转换为二值图，灰度值在80～255之间的设为纯白(255)，其他的为纯黑(0)\n",
    "ret, binary = cv2.threshold(gray.copy(), 80, 255, cv2.THRESH_BINARY)\n",
    "binary = cv2.bitwise_not(binary)\n",
    "hsv = cv2.cvtColor(rgb_img, cv2.COLOR_BGR2HSV)#色彩变换，将RGB格式转换为HSV格式"
   ]
  },
  {
   "cell_type": "code",
   "execution_count": null,
   "metadata": {},
   "outputs": [],
   "source": [
    "#显示不同类型的图像"
   ]
  },
  {
   "cell_type": "code",
   "execution_count": null,
   "metadata": {},
   "outputs": [],
   "source": [
    "fig,ax = plt.subplots(2,2,figsize=(10,12))\n",
    "plt.subplot(2,2,1)\n",
    "plt.imshow(rgb_img)\n",
    "plt.subplot(2,2,2)\n",
    "plt.imshow(hsv)\n",
    "plt.subplot(2,2,3)\n",
    "plt.imshow(gray,cmap='gray')\n",
    "plt.subplot(2,2,4)\n",
    "plt.imshow(binary,cmap=plt.get_cmap('binary'))"
   ]
  },
  {
   "cell_type": "markdown",
   "metadata": {},
   "source": [
    "# 几何变换"
   ]
  },
  {
   "cell_type": "markdown",
   "metadata": {},
   "source": [
    "图像镜像翻转"
   ]
  },
  {
   "cell_type": "code",
   "execution_count": null,
   "metadata": {
    "scrolled": true
   },
   "outputs": [],
   "source": [
    "bgr_img= cv2.imread('./images/qian_dao_hu.jpg')#读取并显示原始图像\n",
    "rgb_img= cv2.cvtColor(bgr_img.copy(),cv2.COLOR_BGR2RGB)\n",
    "dst1=cv2.flip(rgb_img.copy(),1) #水平翻转\n",
    "dst2=cv2.flip(rgb_img.copy(),0) #垂直翻转\n",
    "dst3=cv2.flip(rgb_img.copy(),-1)#对角翻转"
   ]
  },
  {
   "cell_type": "markdown",
   "metadata": {},
   "source": [
    "显示变换后的图像"
   ]
  },
  {
   "cell_type": "code",
   "execution_count": null,
   "metadata": {
    "scrolled": false
   },
   "outputs": [],
   "source": [
    "plt.imshow(rgb_img)\n",
    "plt.show()\n",
    "plt.imshow(dst1)\n",
    "plt.show()\n",
    "plt.imshow(dst2)\n",
    "plt.show()\n",
    "plt.imshow(dst2)\n",
    "plt.show()"
   ]
  },
  {
   "cell_type": "markdown",
   "metadata": {},
   "source": [
    "平移、缩放与旋转"
   ]
  },
  {
   "cell_type": "code",
   "execution_count": null,
   "metadata": {
    "scrolled": false
   },
   "outputs": [],
   "source": [
    "bgr_img= cv2.imread('./images/qian_dao_hu.jpg')#读取并显示原始图像\n",
    "rgb_img= cv2.cvtColor(bgr_img.copy(),cv2.COLOR_BGR2RGB)\n",
    "plt.imshow(rgb_img);plt.show()\n",
    "[height,width]=rgb_img.shape[0:2] #得到图像的高和宽\n",
    "#图像平移，水平移动200个像素，垂直移动200个像素\n",
    "mt = np.float32([[1,0,200],[0,1,200]])\n",
    "dst=cv2.warpAffine(rgb_img.copy(),mt,(width+50,height+100))\n",
    "plt.imshow(dst) ; plt.show()\n",
    "#图像缩放，缩小为原来的一半，并向右，向下平移200个像素\n",
    "mt = np.float32([[0.5,0,200],[0,0.5,200]])\n",
    "dst=cv2.warpAffine(rgb_img.copy(),mt,(width,height))\n",
    "plt.imshow(dst) ; plt.show()\n",
    "#图像旋转，顺时针旋转45度，并向右，向下平移200个像素\n",
    "mt = np.float32([[0.7,-0.7,200],[0.7,0.7,200]])\n",
    "dst=cv2.warpAffine(rgb_img.copy(),mt,(width,height))\n",
    "plt.imshow(dst) ; plt.show()"
   ]
  },
  {
   "cell_type": "markdown",
   "metadata": {},
   "source": [
    "图像去噪"
   ]
  },
  {
   "cell_type": "code",
   "execution_count": null,
   "metadata": {
    "scrolled": false
   },
   "outputs": [],
   "source": [
    "#读取元素图像\n",
    "raw_img = cv2.imread('./images/noise-gray.jpg') #原图\n",
    "#几种常见去噪方法\n",
    "mean_img = cv2.blur(raw_img, (9,9)) #均值滤波 \n",
    "gau_img = cv2.GaussianBlur(raw_img, (9,9), 0) #高斯滤波\n",
    "median_img = cv2.medianBlur(raw_img, 9) #中值滤波\n",
    "blur_img = cv2.bilateralFilter(raw_img,9,68,68) #双边滤波\n",
    "#显示结果\n",
    "fig = plt.figure(figsize=(16,12))\n",
    "def ShowImg(id,title,img):\n",
    "    ax=fig.add_subplot(1,5,id)\n",
    "    ax.imshow(img,cmap='gray')\n",
    "    plt.title(title)\n",
    "ShowImg(1,'原图',raw_img);\n",
    "ShowImg(2,'均值滤波',mean_img);\n",
    "ShowImg(3,'高斯滤波',gau_img)\n",
    "ShowImg(4,'中值滤波',median_img)\n",
    "ShowImg(5,'双边滤波',blur_img);"
   ]
  },
  {
   "cell_type": "markdown",
   "metadata": {},
   "source": [
    "图像增强"
   ]
  },
  {
   "cell_type": "code",
   "execution_count": null,
   "metadata": {
    "scrolled": false
   },
   "outputs": [],
   "source": [
    "#读取元素图像，并转换为灰度图\n",
    "raw_img = cv2.imread('./images/noise-gray.jpg')\n",
    "gray_img= cv2.cvtColor(raw_img.copy(),cv2.COLOR_BGR2GRAY)\n",
    "equ_img = cv2.equalizeHist(gray_img) #直方图均衡化\n",
    "ret, binary = cv2.threshold(gray_img.copy(), 100, 255, cv2.THRESH_BINARY)\n",
    "#显示结果\n",
    "fig = plt.figure(figsize=(16,12))\n",
    "def ShowImg(id,title,img):\n",
    "    ax=fig.add_subplot(1,3,id)\n",
    "    ax.imshow(img,cmap='gray')\n",
    "    plt.title(title)\n",
    "ShowImg(1,'原图',gray_img);ShowImg(2,'直方图均衡化后',equ_img);ShowImg(3,'二值化后',binary)"
   ]
  },
  {
   "cell_type": "code",
   "execution_count": null,
   "metadata": {},
   "outputs": [],
   "source": [
    "plt.hist(gray_img.ravel(), 256)\n",
    "plt.title('直方图')\n",
    "plt.show()"
   ]
  },
  {
   "cell_type": "code",
   "execution_count": null,
   "metadata": {},
   "outputs": [],
   "source": []
  }
 ],
 "metadata": {
  "celltoolbar": "Raw Cell Format",
  "kernelspec": {
   "display_name": "Python 3",
   "language": "python",
   "name": "python3"
  },
  "language_info": {
   "codemirror_mode": {
    "name": "ipython",
    "version": 3
   },
   "file_extension": ".py",
   "mimetype": "text/x-python",
   "name": "python",
   "nbconvert_exporter": "python",
   "pygments_lexer": "ipython3",
   "version": "3.7.9"
  }
 },
 "nbformat": 4,
 "nbformat_minor": 2
}
