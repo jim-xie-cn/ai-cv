{
 "cells": [
  {
   "cell_type": "markdown",
   "metadata": {},
   "source": [
    "多项式回归\n",
    "\n",
    "作者：谢文伟\n",
    "\n",
    "邮件：jim.xie.cn@outlook.com\n",
    "\n",
    "主页：https://github.com/jim-xie-cn/ai-cv"
   ]
  },
  {
   "cell_type": "raw",
   "metadata": {},
   "source": [
    "导入开发库"
   ]
  },
  {
   "cell_type": "code",
   "execution_count": null,
   "metadata": {},
   "outputs": [],
   "source": [
    "#引用以下包做数据处理\n",
    "import numpy as np\n",
    "import pandas as pd\n",
    "from sklearn import preprocessing\n",
    "from sklearn.linear_model import LinearRegression\n",
    "from sklearn.datasets import make_regression\n",
    "from sklearn.linear_model import Ridge,Lasso,ElasticNet\n",
    "from sklearn.preprocessing import PolynomialFeatures\n",
    "#引用以下包做数据可视化\n",
    "import matplotlib.pyplot as plt\n",
    "from mpl_toolkits.mplot3d import Axes3D\n",
    "import seaborn as sns\n",
    "from warnings import filterwarnings"
   ]
  },
  {
   "cell_type": "raw",
   "metadata": {},
   "source": [
    "初始化开发环境"
   ]
  },
  {
   "cell_type": "code",
   "execution_count": null,
   "metadata": {},
   "outputs": [],
   "source": [
    "filterwarnings('ignore')\n",
    "pd.set_option('display.float_format',lambda x:'%.2f'%x) #不使用科学计数法\n",
    "sns.set(font_scale=1.5) #设置统计图字体大小\n",
    "plt.rcParams['font.sans-serif']=['SimHei'] #在统计图上显示中文\n",
    "plt.style.use({'figure.figsize':(24, 8)})  #设置画布大小"
   ]
  },
  {
   "cell_type": "code",
   "execution_count": null,
   "metadata": {},
   "outputs": [],
   "source": [
    "train_x,train_y=make_regression(n_samples=500000,n_features=1,n_targets=1,noise=3000)\n",
    "test_x,test_y=make_regression(n_samples=100,n_features=1,n_targets=1,noise=30)\n",
    "poly = PolynomialFeatures(degree=30) #使用多项式对训练数据进行展开，最高使用30次项\n",
    "new_train_x = poly.fit_transform(train_x)\n",
    "print(\"原始数据结构:\",train_x.shape,\"多项式转换后结构:\",new_train_x.shape)\n",
    "model = Ridge() #使用训练岭回归模型，并预测\n",
    "model.fit(new_train_x, train_y)\n",
    "new_test_x = poly.fit_transform(test_x) #对测试数据进行多项式转换\n",
    "pred_y = model.predict(new_test_x) #对测试数据进行预测\n",
    "df=pd.DataFrame()\n",
    "df['变量(X)']=test_x.squeeze()\n",
    "df['真实值(Y)']=test_y\n",
    "df['预测值(Y)']=pred_y\n",
    "sns.scatterplot(x='变量(X)',y='真实值(Y)',data=df) #使用散点图显示真实值\n",
    "sns.lineplot(x='变量(X)',y='预测值(Y)',data=df,color='red')#折线图显示预测值"
   ]
  },
  {
   "cell_type": "code",
   "execution_count": null,
   "metadata": {},
   "outputs": [],
   "source": []
  }
 ],
 "metadata": {
  "kernelspec": {
   "display_name": "Python 3",
   "language": "python",
   "name": "python3"
  },
  "language_info": {
   "codemirror_mode": {
    "name": "ipython",
    "version": 3
   },
   "file_extension": ".py",
   "mimetype": "text/x-python",
   "name": "python",
   "nbconvert_exporter": "python",
   "pygments_lexer": "ipython3",
   "version": "3.7.9"
  }
 },
 "nbformat": 4,
 "nbformat_minor": 4
}
