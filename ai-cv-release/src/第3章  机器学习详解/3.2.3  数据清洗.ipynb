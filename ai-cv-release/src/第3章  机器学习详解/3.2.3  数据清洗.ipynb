{
 "cells": [
  {
   "cell_type": "raw",
   "metadata": {},
   "source": [
    "数据清洗\n",
    "\n",
    "作者：谢文伟\n",
    "\n",
    "邮件：jim.xie.cn@outlook.com\n",
    "\n",
    "主页：https://github.com/jim-xie-cn/ai-cv"
   ]
  },
  {
   "cell_type": "raw",
   "metadata": {},
   "source": [
    "导入开发库"
   ]
  },
  {
   "cell_type": "code",
   "execution_count": null,
   "metadata": {},
   "outputs": [],
   "source": [
    "#引用以下包做数据处理\n",
    "import numpy as np\n",
    "import pandas as pd\n",
    "from sklearn import preprocessing\n",
    "from scipy.stats import norm,skewnorm\n",
    "#引用以下包做数据可视化\n",
    "import matplotlib.pyplot as plt\n",
    "import seaborn as sns\n",
    "from warnings import filterwarnings"
   ]
  },
  {
   "cell_type": "raw",
   "metadata": {},
   "source": [
    "初始化开发环境"
   ]
  },
  {
   "cell_type": "code",
   "execution_count": null,
   "metadata": {},
   "outputs": [],
   "source": [
    "filterwarnings('ignore')\n",
    "pd.set_option('display.float_format',lambda x:'%.2f'%x) #不使用科学计数法\n",
    "sns.set(font_scale=1.5) #设置统计图字体大小\n",
    "plt.rcParams['font.sans-serif']=['SimHei'] #在统计图上显示中文\n",
    "plt.style.use({'figure.figsize':(24, 8)})  #设置画布大小"
   ]
  },
  {
   "cell_type": "markdown",
   "metadata": {},
   "source": [
    "# 数据清洗"
   ]
  },
  {
   "cell_type": "code",
   "execution_count": null,
   "metadata": {},
   "outputs": [],
   "source": [
    "#读取样本，并设置第二条记录的身高，第四条记录的体重为空值，第5条记录的身高为异常值\n",
    "df = pd.read_csv(\"./dataset/bmi/500_Person_Gender_Height_Weight_Index.csv\")\n",
    "df = df.rename(columns={'Gender':'性别','Height':'身高','Weight':'体重','Index':'等级'})\n",
    "df['身高'][1]=np.nan\n",
    "df['体重'][3]=np.nan\n",
    "df['身高'][5]=1197\n",
    "df['身高'][5] = df['身高'].mean() #将第5个身高异常值替换成样本平均值\n",
    "df['体重'].fillna(method='ffill',inplace=True) #将体重空值替换成前近邻值\n",
    "df.dropna(inplace=True) #删除有空值的行\n",
    "df.head(6) #显示数据清洗后的，前6条记录"
   ]
  },
  {
   "cell_type": "code",
   "execution_count": null,
   "metadata": {},
   "outputs": [],
   "source": []
  },
  {
   "cell_type": "code",
   "execution_count": null,
   "metadata": {},
   "outputs": [],
   "source": []
  }
 ],
 "metadata": {
  "kernelspec": {
   "display_name": "Python 3",
   "language": "python",
   "name": "python3"
  },
  "language_info": {
   "codemirror_mode": {
    "name": "ipython",
    "version": 3
   },
   "file_extension": ".py",
   "mimetype": "text/x-python",
   "name": "python",
   "nbconvert_exporter": "python",
   "pygments_lexer": "ipython3",
   "version": "3.7.9"
  }
 },
 "nbformat": 4,
 "nbformat_minor": 4
}
