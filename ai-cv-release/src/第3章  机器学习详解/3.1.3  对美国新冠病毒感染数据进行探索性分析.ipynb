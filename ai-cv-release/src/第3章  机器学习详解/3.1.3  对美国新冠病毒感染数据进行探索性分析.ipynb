{
 "cells": [
  {
   "cell_type": "raw",
   "metadata": {},
   "source": [
    "对美国新冠病毒感染数据进行探索性分析\n",
    "\n",
    "作者：谢文伟\n",
    "\n",
    "邮件：jim.xie.cn@outlook.com\n",
    "\n",
    "主页：https://github.com/jim-xie-cn/ai-cv"
   ]
  },
  {
   "cell_type": "raw",
   "metadata": {},
   "source": [
    "导入开发库"
   ]
  },
  {
   "cell_type": "code",
   "execution_count": null,
   "metadata": {
    "scrolled": false
   },
   "outputs": [],
   "source": [
    "import random\n",
    "import matplotlib.pyplot as plt\n",
    "import numpy as np\n",
    "import seaborn as sns\n",
    "import pandas as pd\n",
    "from scipy.stats import bernoulli,norm,geom,poisson,expon,binom\n",
    "from warnings import filterwarnings\n",
    "from sklearn import preprocessing"
   ]
  },
  {
   "cell_type": "raw",
   "metadata": {},
   "source": [
    "初始化开发环境"
   ]
  },
  {
   "cell_type": "code",
   "execution_count": null,
   "metadata": {},
   "outputs": [],
   "source": [
    "filterwarnings('ignore')\n",
    "pd.set_option('display.float_format',lambda x:'%.2f'%x) #不使用科学计数法\n",
    "sns.set(font_scale=1.5) #设置统计图字体大小\n",
    "plt.rcParams['font.sans-serif']=['SimHei'] #在统计图上显示中文\n",
    "plt.style.use({'figure.figsize':(24, 8)})  #设置画布大小"
   ]
  },
  {
   "cell_type": "markdown",
   "metadata": {},
   "source": [
    "# 读取样本"
   ]
  },
  {
   "cell_type": "raw",
   "metadata": {},
   "source": [
    " us.csv: 全国日汇总数据\n",
    " us-states.csv：州日汇总数据\n",
    " us-counties.csv：县日汇总数据"
   ]
  },
  {
   "cell_type": "code",
   "execution_count": null,
   "metadata": {
    "scrolled": false
   },
   "outputs": [],
   "source": [
    "df_us = pd.read_csv('./dataset/covid/us.csv')\n",
    "df_state = pd.read_csv('./dataset/covid/us-states.csv')\n",
    "df_county = pd.read_csv('./dataset/covid/us-counties.csv')"
   ]
  },
  {
   "cell_type": "markdown",
   "metadata": {},
   "source": [
    "# 日期类型转换并按日期排序"
   ]
  },
  {
   "cell_type": "code",
   "execution_count": null,
   "metadata": {},
   "outputs": [],
   "source": [
    "df_us['date'] = pd.to_datetime(df_us['date'])\n",
    "df_us['date'] = df_us['date'].apply(lambda x: x.strftime('%Y-%m-%d'))\n",
    "df_state['date'] = pd.to_datetime(df_state['date'])\n",
    "df_state['date'] = df_state['date'].apply(lambda x: x.strftime('%Y-%m-%d'))\n",
    "df_county['date'] = pd.to_datetime(df_county['date'])\n",
    "df_county['date'] = df_county['date'].apply(lambda x: x.strftime('%Y-%m-%d'))\n",
    "df_us.sort_values('date',ascending=True,inplace=True)\n",
    "df_state.sort_values('date',ascending=True,inplace=True)\n",
    "df_county.sort_values('date',ascending=True,inplace=True)"
   ]
  },
  {
   "cell_type": "markdown",
   "metadata": {},
   "source": [
    "# 查看数据结构"
   ]
  },
  {
   "cell_type": "raw",
   "metadata": {},
   "source": [
    "date: 数据上报日期\n",
    "cases:感染人数\n",
    "deaths:死亡人数\n",
    "state:州名称\n",
    "fips:联邦代码\n",
    "county:县名称"
   ]
  },
  {
   "cell_type": "code",
   "execution_count": null,
   "metadata": {},
   "outputs": [],
   "source": [
    "print(\"国家汇总数据(%d)\"%df_us.size)\n",
    "print(\"时间范围:\",df_us['date'].min(),df_us['date'].max())\n",
    "df_us.info()\n",
    "print(\"州汇总数据(%d):\"%df_state.size)\n",
    "print(\"时间范围:\",df_state['date'].min(),df_state['date'].max())\n",
    "df_state.info()\n",
    "print(\"县汇总数据(%d):\"%df_county.size)\n",
    "print(\"时间范围:\",df_county['date'].min(),df_county['date'].max())\n",
    "df_county.info()"
   ]
  },
  {
   "cell_type": "markdown",
   "metadata": {},
   "source": [
    "# 样本质量检查"
   ]
  },
  {
   "cell_type": "code",
   "execution_count": null,
   "metadata": {
    "scrolled": false
   },
   "outputs": [],
   "source": [
    "print(\"国家数据空值检查\")\n",
    "print(df_us.isnull().sum())\n",
    "print(\"州数据空值检查\")\n",
    "print(df_state.isnull().sum())\n",
    "print(\"县数据空值检查\")\n",
    "print(df_county.isnull().sum())\n",
    "sample_ts = pd.to_datetime(df_us['date'])\n",
    "sample_ts = sample_ts.apply(lambda x: x.strftime('%Y-%m-%d'))\n",
    "idx = pd.date_range(df_us.date.min(), df_us.date.max(),freq='d')\n",
    "idx = idx.format(formatter=lambda x: x.strftime('%Y-%m-%d'))\n",
    "for dt in idx:\n",
    "    if not dt in sample_ts.tolist():\n",
    "        print(\"缺失日期：\",dt)"
   ]
  },
  {
   "cell_type": "markdown",
   "metadata": {},
   "source": [
    "# 检查数据是否正确 \n",
    "分别统计国家、州、县数据的每天感染人数和死亡人数，然后再判断数据是否一致"
   ]
  },
  {
   "cell_type": "code",
   "execution_count": null,
   "metadata": {
    "scrolled": false
   },
   "outputs": [],
   "source": [
    "gf_us = df_us.groupby('date')\n",
    "test_us = pd.DataFrame()\n",
    "for dt,value in gf_us:\n",
    "    cases = int(value['cases'].sum())\n",
    "    deaths = int(value['deaths'].sum())\n",
    "    df = pd.DataFrame([[dt,cases,deaths]], columns=['date','cases','deaths'])\n",
    "    test_us = test_us.append(df, ignore_index=True)\n",
    "test_us = test_us.set_index('date')\n",
    "gf_state = df_state.groupby('date')\n",
    "test_state = pd.DataFrame()\n",
    "for dt,value in gf_state:\n",
    "    cases = int(value['cases'].sum())\n",
    "    deaths = int(value['deaths'].sum())\n",
    "    df = pd.DataFrame([[dt,cases,deaths]], columns=['date','cases','deaths'])\n",
    "    test_state = test_state.append(df, ignore_index=True)\n",
    "test_state = test_state.set_index('date')\n",
    "gf_county = df_county.groupby('date')\n",
    "test_county = pd.DataFrame()\n",
    "for dt,value in gf_county:\n",
    "    cases = int(value['cases'].sum())\n",
    "    deaths = int(value['deaths'].sum())\n",
    "    df = pd.DataFrame([[dt,cases,deaths]], columns=['date','cases','deaths'])\n",
    "    test_county = test_county.append(df, ignore_index=True)\n",
    "test_county = test_county.set_index('date')\n",
    "compare = test_us.compare(test_state,align_axis=1,keep_shape=False,keep_equal=False)\n",
    "print(\"国家数据VS州数据：不同的样本数 \",compare.values.size)\n",
    "compare = test_us.compare(test_county,align_axis=1,keep_shape=False,keep_equal=False)\n",
    "print(\"国家数据VS县数据：不同的样本数 \",compare.values.size)"
   ]
  },
  {
   "cell_type": "markdown",
   "metadata": {},
   "source": [
    "# 熟悉数据分布范围"
   ]
  },
  {
   "cell_type": "code",
   "execution_count": null,
   "metadata": {},
   "outputs": [],
   "source": [
    "print(\"国家数据统计\")\n",
    "print(df_us.describe())\n",
    "print(\"州数据统计\")\n",
    "print(df_state.describe())\n",
    "print(\"县数据统计\")\n",
    "print(df_county.describe())"
   ]
  },
  {
   "cell_type": "markdown",
   "metadata": {},
   "source": [
    "# 数据集成"
   ]
  },
  {
   "cell_type": "code",
   "execution_count": null,
   "metadata": {},
   "outputs": [],
   "source": [
    "df_summary = df_us.copy()\n",
    "df_summary['case_increase'] = df_summary['cases'].diff()\n",
    "df_summary['death_increase'] = df_summary['deaths'].diff()\n",
    "gf_state = df_state.groupby('date')\n",
    "state_count = []\n",
    "for dt,value in gf_state:\n",
    "    count = len(value['state'].unique())\n",
    "    state_count.append(count)\n",
    "df_summary['state_count'] = pd.Series(state_count)\n",
    "df_summary.set_index('date',inplace=True)\n",
    "\n",
    "df_total = pd.DataFrame()\n",
    "df_total['date'] = df_state['date']\n",
    "df_total['cases'] = df_state['cases']\n",
    "df_total['deaths'] = df_state['deaths']\n",
    "df_total['case_increase'] = df_state['cases'].diff()\n",
    "df_total['death_increase'] = df_state['deaths'].diff()\n",
    "df_total['state'] = df_state['state']\n",
    "df_total['state_code'] = df_state['fips']"
   ]
  },
  {
   "cell_type": "markdown",
   "metadata": {
    "scrolled": false
   },
   "source": [
    "# 单变量分析"
   ]
  },
  {
   "cell_type": "code",
   "execution_count": null,
   "metadata": {
    "scrolled": false
   },
   "outputs": [],
   "source": [
    "df_us['case_increase'] = df_us['cases'].diff()\n",
    "df_us['death_increase'] = df_us['deaths'].diff()\n",
    "plt.rcParams['font.sans-serif']=['SimHei'] #显示中文\n",
    "fig,axes=plt.subplots(2,2,figsize=(16,10))\n",
    "ax = sns.lineplot(x=df_us.index, y=\"cases\",data=df_us,ax=axes[0,0])\n",
    "ax.set_title('感染人数趋势图')\n",
    "ax.ticklabel_format(style='plain')\n",
    "ax = sns.lineplot(x=df_us.index, y=\"case_increase\",data=df_us,ax=axes[1,0])\n",
    "ax.set_title('感染人数增长趋势图')\n",
    "ax = sns.lineplot(x=df_us.index, y=\"deaths\",data=df_us,ax=axes[0,1])\n",
    "ax.set_title('死亡人数趋势图')\n",
    "ax = sns.lineplot(x=df_us.index, y=\"death_increase\",data=df_us,ax=axes[1,1])\n",
    "ax.set_title('死亡人数增长趋势图')"
   ]
  },
  {
   "cell_type": "markdown",
   "metadata": {},
   "source": [
    "# 多变量分析"
   ]
  },
  {
   "cell_type": "code",
   "execution_count": null,
   "metadata": {},
   "outputs": [],
   "source": [
    "df_state['month'] = pd.to_datetime(df_state['date']).dt.month\n",
    "pt = df_state.pivot_table(index='state',columns='month',values='cases',aggfunc=np.mean)\n",
    "plt.style.use({'figure.figsize':(16, 6)})\n",
    "cmap = sns.cubehelix_palette(start = 1, rot = 30, gamma=0.8, as_cmap = True)\n",
    "sns.heatmap(pt,cmap=cmap,linewidths=0.01,annot=False)"
   ]
  },
  {
   "cell_type": "raw",
   "metadata": {},
   "source": [
    "特征之间的相关系数"
   ]
  },
  {
   "cell_type": "code",
   "execution_count": null,
   "metadata": {},
   "outputs": [],
   "source": [
    "df_us.corr()"
   ]
  },
  {
   "cell_type": "code",
   "execution_count": null,
   "metadata": {},
   "outputs": [],
   "source": []
  }
 ],
 "metadata": {
  "kernelspec": {
   "display_name": "Python 3",
   "language": "python",
   "name": "python3"
  },
  "language_info": {
   "codemirror_mode": {
    "name": "ipython",
    "version": 3
   },
   "file_extension": ".py",
   "mimetype": "text/x-python",
   "name": "python",
   "nbconvert_exporter": "python",
   "pygments_lexer": "ipython3",
   "version": "3.7.9"
  }
 },
 "nbformat": 4,
 "nbformat_minor": 2
}
