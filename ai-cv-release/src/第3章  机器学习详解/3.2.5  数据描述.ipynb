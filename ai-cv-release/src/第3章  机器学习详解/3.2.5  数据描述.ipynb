{
 "cells": [
  {
   "cell_type": "markdown",
   "metadata": {},
   "source": [
    "数据描述\n",
    "\n",
    "作者：谢文伟\n",
    "\n",
    "邮件：jim.xie.cn@outlook.com\n",
    "\n",
    "主页：https://github.com/jim-xie-cn/ai-cv"
   ]
  },
  {
   "cell_type": "raw",
   "metadata": {},
   "source": [
    "导入开发库"
   ]
  },
  {
   "cell_type": "code",
   "execution_count": null,
   "metadata": {},
   "outputs": [],
   "source": [
    "#引用以下包做数据处理\n",
    "import numpy as np\n",
    "import pandas as pd\n",
    "from sklearn import preprocessing\n",
    "from scipy.stats import norm,skewnorm\n",
    "#引用以下包做数据可视化\n",
    "import matplotlib.pyplot as plt\n",
    "import seaborn as sns\n",
    "from warnings import filterwarnings"
   ]
  },
  {
   "cell_type": "raw",
   "metadata": {},
   "source": [
    "初始化开发环境"
   ]
  },
  {
   "cell_type": "code",
   "execution_count": null,
   "metadata": {},
   "outputs": [],
   "source": [
    "filterwarnings('ignore')\n",
    "pd.set_option('display.float_format',lambda x:'%.2f'%x) #不使用科学计数法\n",
    "sns.set(font_scale=1.5) #设置统计图字体大小\n",
    "plt.rcParams['font.sans-serif']=['SimHei'] #在统计图上显示中文\n",
    "plt.style.use({'figure.figsize':(24, 8)})  #设置画布大小"
   ]
  },
  {
   "cell_type": "markdown",
   "metadata": {},
   "source": [
    "# 偏度"
   ]
  },
  {
   "cell_type": "code",
   "execution_count": null,
   "metadata": {},
   "outputs": [],
   "source": [
    "plt.style.use({'figure.figsize':(18, 3)})\n",
    "fig,axes=plt.subplots(1,3)\n",
    "a= -3\n",
    "x = np.linspace(skewnorm.ppf(0.01, a),skewnorm.ppf(0.99, a), 50)\n",
    "y = skewnorm.pdf(x,a)\n",
    "axes[0].plot(x,y)\n",
    "axes[0].fill(x,y,'b',alpha=0.5)\n",
    "axes[0].set_title(\"偏度:%04f\"%a)\n",
    "axes[0].set_xlabel(\"左偏\")\n",
    "a= 0\n",
    "x = np.linspace(skewnorm.ppf(0.01, a),skewnorm.ppf(0.99, a), 50)\n",
    "y = skewnorm.pdf(x,a)\n",
    "axes[1].plot(x,y)\n",
    "axes[1].fill(x,y,'b',alpha=0.5)\n",
    "axes[1].set_title(\"偏度:%04f\"%a)\n",
    "axes[1].set_xlabel(\"正太分布\")\n",
    "a= 3\n",
    "x = np.linspace(skewnorm.ppf(0.01, a),skewnorm.ppf(0.99, a), 50)\n",
    "y = skewnorm.pdf(x,a)\n",
    "axes[2].plot(x,y)\n",
    "axes[2].fill(x,y,'b',alpha=0.5)\n",
    "axes[2].set_title(\"偏度:%04f\"%a)\n",
    "axes[2].set_xlabel(\"右偏\")"
   ]
  },
  {
   "cell_type": "markdown",
   "metadata": {},
   "source": [
    "# 峰度"
   ]
  },
  {
   "cell_type": "code",
   "execution_count": null,
   "metadata": {},
   "outputs": [],
   "source": [
    "plt.style.use({'figure.figsize':(18, 3)})\n",
    "fig,axes=plt.subplots(1,3)\n",
    "plt.figure(figsize=(12,4))\n",
    "x = np.arange(-10, 10, 0.1)\n",
    "df1 = pd.DataFrame()\n",
    "df1['x'] = pd.Series(x)\n",
    "arr = norm.pdf(x, 0, 0.5)\n",
    "df1['more'] = pd.Series(arr)\n",
    "#ax=sns.lineplot(x='x',y='more',size=500,data=df,ax=axes[2])\n",
    "axes[2].plot(x,df1['more'])\n",
    "axes[2].fill(x,df1['more'],'b',alpha=0.5)\n",
    "axes[2].set_title(\"峰度:%04f\"%df1['more'].kurt())\n",
    "axes[2].set_xlabel(\"高尖\")\n",
    "\n",
    "arr = norm.pdf(x, 0, 1)\n",
    "df1['norm'] = pd.Series(arr)\n",
    "axes[1].plot(x,df1['norm'])\n",
    "axes[1].fill(x,df1['norm'],'b',alpha=0.5)\n",
    "axes[1].set_title(\"峰度:%04f\"%df1['norm'].kurt())\n",
    "axes[1].set_xlabel(\"近似正态分布\")\n",
    "\n",
    "arr = norm.pdf(x, 0, 1.8)\n",
    "df1['less'] = pd.Series(arr)\n",
    "axes[0].plot(x,df1['less'])\n",
    "axes[0].fill(x,df1['less'],'b',alpha=0.5)\n",
    "axes[0].set_title(\"峰度:%04f\"%df1['less'].kurt())\n",
    "axes[0].set_xlabel(\"矮胖\")"
   ]
  },
  {
   "cell_type": "markdown",
   "metadata": {},
   "source": [
    "# 使用Pandas生成常用数据描述"
   ]
  },
  {
   "cell_type": "code",
   "execution_count": null,
   "metadata": {},
   "outputs": [],
   "source": [
    "#随机生成一组正太分布的数据\n",
    "X = np.random.normal(0,0.1,10000)\n",
    "ds = pd.Series(X)\n",
    "#常见统计指标\n",
    "base_stat = ds.describe()\n",
    "for item,values in base_stat.items():\n",
    "    print(item,\":\",values)\n",
    "print('Skewness',\":\",ds.skew()) #计算偏度\n",
    "print('Kurtosis',\":\",ds.kurt()) #计算峰度\n",
    "print('IQR',\":\",(base_stat['75%']-base_stat['25%']))#计算IQR\n",
    "print('CV',\":\",ds.std()/ds.mean())#计算变异系数\n",
    "print('Variance',\":\",ds.std()*ds.std())#计算方差\n",
    "#显示数据分布\n",
    "print('Distribution',\":\",\"正态分布\") \n",
    "sns.distplot(X,bins=50) "
   ]
  },
  {
   "cell_type": "code",
   "execution_count": null,
   "metadata": {},
   "outputs": [],
   "source": []
  },
  {
   "cell_type": "code",
   "execution_count": null,
   "metadata": {},
   "outputs": [],
   "source": []
  }
 ],
 "metadata": {
  "kernelspec": {
   "display_name": "Python 3",
   "language": "python",
   "name": "python3"
  },
  "language_info": {
   "codemirror_mode": {
    "name": "ipython",
    "version": 3
   },
   "file_extension": ".py",
   "mimetype": "text/x-python",
   "name": "python",
   "nbconvert_exporter": "python",
   "pygments_lexer": "ipython3",
   "version": "3.7.9"
  }
 },
 "nbformat": 4,
 "nbformat_minor": 4
}
