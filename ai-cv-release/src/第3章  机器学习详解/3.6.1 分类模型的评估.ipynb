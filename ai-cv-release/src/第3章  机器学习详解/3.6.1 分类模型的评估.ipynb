{
 "cells": [
  {
   "cell_type": "markdown",
   "metadata": {},
   "source": [
    "分类模型评估\n",
    "\n",
    "作者：谢文伟\n",
    "\n",
    "邮件：jim.xie.cn@outlook.com\n",
    "\n",
    "主页：https://github.com/jim-xie-cn/ai-cv"
   ]
  },
  {
   "cell_type": "markdown",
   "metadata": {},
   "source": [
    "导入用到的开发库"
   ]
  },
  {
   "cell_type": "code",
   "execution_count": null,
   "metadata": {},
   "outputs": [],
   "source": [
    "from sklearn.ensemble import GradientBoostingClassifier\n",
    "from sklearn.model_selection import train_test_split\n",
    "from sklearn.datasets import make_classification\n",
    "from sklearn.metrics import confusion_matrix,accuracy_score,classification_report\n",
    "from sklearn.metrics import precision_score,recall_score,f1_score,roc_curve,auc\n",
    "import matplotlib.pyplot as plt\n",
    "import numpy as np"
   ]
  },
  {
   "cell_type": "raw",
   "metadata": {},
   "source": [
    "训练模型（#随机生成500组二分类样本,400组作为训练样本，100组作为测试样本）"
   ]
  },
  {
   "cell_type": "code",
   "execution_count": null,
   "metadata": {},
   "outputs": [],
   "source": [
    "X, Y  = make_classification(n_samples=500, n_features=50, n_classes=2)\n",
    "X_train,X_test,Y_train,Y_test=train_test_split(X,Y,test_size=0.20,shuffle=False)\n",
    "model = GradientBoostingClassifier() #训练决策树模型\n",
    "model.fit(X_train,Y_train)\n",
    "pred_y=model.predict(X_test) #得到模型的预测值"
   ]
  },
  {
   "cell_type": "raw",
   "metadata": {},
   "source": [
    "常用评估函数的使用"
   ]
  },
  {
   "cell_type": "code",
   "execution_count": null,
   "metadata": {},
   "outputs": [],
   "source": [
    "print(\"混淆矩阵(Confusion Matrix):\\n\",confusion_matrix(Y_test, pred_y))\n",
    "print(\"准确率(Accuracy):\",accuracy_score(Y_test,pred_y))\n",
    "print(\"精准率(Precision):\",precision_score(Y_test,pred_y))\n",
    "print(\"召回率(Recall):\",recall_score(Y_test,pred_y))\n",
    "print(\"F1分值(F1-Score):\",f1_score(Y_test,pred_y))\n",
    "print(\"分类报告:\\n\",classification_report(Y_test,pred_y,target_names=['1','0']))"
   ]
  },
  {
   "cell_type": "raw",
   "metadata": {},
   "source": [
    "#绘制ROC曲线和计算AUC值"
   ]
  },
  {
   "cell_type": "code",
   "execution_count": null,
   "metadata": {},
   "outputs": [],
   "source": [
    "proba_y=model.predict_proba(X_test) #使用模型预测，输出分类的概率\n",
    "scores = proba_y[:,1]               #scores为属于正例(标签为1)的概率\n",
    "fpr, tpr, thresholds = roc_curve(Y_test,scores) #调用函数，得到fpr、tpr和对应的阈值\n",
    "roc_auc = auc(fpr, tpr) #根据fpr和tpr计算AUC值（即ROC曲线下方的面积）\n",
    "#可视化计算结果\n",
    "plt.plot(fpr, tpr, label='AUC (area = {0:.2f})'.format(roc_auc))\n",
    "plt.xlabel('FPR')\n",
    "plt.ylabel('TPR')\n",
    "plt.title('ROC Curve')\n",
    "plt.legend(loc=\"lower right\")"
   ]
  },
  {
   "cell_type": "markdown",
   "metadata": {},
   "source": [
    "# 回归模型评估"
   ]
  },
  {
   "cell_type": "raw",
   "metadata": {},
   "source": [
    "https://www.cnblogs.com/nolonely/p/7009001.html\n",
    "https://zhuanlan.zhihu.com/p/112989414"
   ]
  },
  {
   "cell_type": "code",
   "execution_count": null,
   "metadata": {},
   "outputs": [],
   "source": [
    "from sklearn.metrics import mean_absolute_error\n",
    "from sklearn.metrics import mean_squared_error\n",
    "from sklearn.metrics import r2_score\n",
    "from sklearn.datasets import make_regression\n",
    "from sklearn.linear_model import LinearRegression\n",
    "from sklearn.model_selection import train_test_split\n",
    "import numpy as np\n",
    "import math\n",
    "#随机生成5000组样本数据\n",
    "X,Y=make_regression(n_samples=5000, n_features=10,n_targets=1,noise=0.25)\n",
    "#划分成训练集和测试集，测试集占总样本的10%，训练集占90%，不打乱顺序\n",
    "X_train,X_test,Y_train,Y_test=train_test_split(X,Y,\n",
    "                                               test_size=0.10,\n",
    "                                               shuffle=False)\n",
    "#训练线性回归模型，并在测试集上进行预测\n",
    "model = LinearRegression()\n",
    "model.fit(X_train, Y_train)\n",
    "pred_y = model.predict(X_test)\n",
    "#评估模型表现\n",
    "print(\"平均绝对值误差(MAE):\",mean_absolute_error(Y_test,pred_y))\n",
    "print(\"均方误差(MSE):\",mean_squared_error(Y_test,pred_y))\n",
    "print(\"均方根误差(RMSE):\",math.sqrt(mean_squared_error(Y_test,pred_y)))\n",
    "r_square=r2_score(Y_test,pred_y)\n",
    "print(\"决定系数(R²)\",r_square)\n",
    "n,p = X_train.shape\n",
    "print(\"校正决定系数(adjusted R square)\",(1-((1-r_square)*(n-1))/(n-p-1)))"
   ]
  },
  {
   "cell_type": "code",
   "execution_count": null,
   "metadata": {},
   "outputs": [],
   "source": []
  }
 ],
 "metadata": {
  "kernelspec": {
   "display_name": "Python 3",
   "language": "python",
   "name": "python3"
  },
  "language_info": {
   "codemirror_mode": {
    "name": "ipython",
    "version": 3
   },
   "file_extension": ".py",
   "mimetype": "text/x-python",
   "name": "python",
   "nbconvert_exporter": "python",
   "pygments_lexer": "ipython3",
   "version": "3.7.9"
  }
 },
 "nbformat": 4,
 "nbformat_minor": 4
}
