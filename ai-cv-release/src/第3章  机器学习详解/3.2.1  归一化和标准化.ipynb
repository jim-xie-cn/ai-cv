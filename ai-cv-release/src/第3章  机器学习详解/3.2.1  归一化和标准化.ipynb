{
 "cells": [
  {
   "cell_type": "raw",
   "metadata": {},
   "source": [
    "归一化和标准化\n",
    "\n",
    "作者：谢文伟\n",
    "\n",
    "邮件：jim.xie.cn@outlook.com\n",
    "\n",
    "主页：https://github.com/jim-xie-cn/ai-cv"
   ]
  },
  {
   "cell_type": "raw",
   "metadata": {},
   "source": [
    "导入开发包"
   ]
  },
  {
   "cell_type": "code",
   "execution_count": null,
   "metadata": {
    "scrolled": true
   },
   "outputs": [],
   "source": [
    "#引用以下包做数据处理\n",
    "import numpy as np\n",
    "import pandas as pd\n",
    "from sklearn import preprocessing\n",
    "from scipy.stats import norm,skewnorm\n",
    "#引用以下包做数据可视化\n",
    "import matplotlib.pyplot as plt\n",
    "import seaborn as sns\n",
    "from warnings import filterwarnings"
   ]
  },
  {
   "cell_type": "raw",
   "metadata": {},
   "source": [
    "初始化开发环境"
   ]
  },
  {
   "cell_type": "code",
   "execution_count": null,
   "metadata": {},
   "outputs": [],
   "source": [
    "filterwarnings('ignore')\n",
    "pd.set_option('display.float_format',lambda x:'%.2f'%x) #不使用科学计数法\n",
    "sns.set(font_scale=1.5) #设置统计图字体大小\n",
    "plt.rcParams['font.sans-serif']=['SimHei'] #在统计图上显示中文\n",
    "plt.style.use({'figure.figsize':(24, 8)})  #设置画布大小"
   ]
  },
  {
   "cell_type": "markdown",
   "metadata": {},
   "source": [
    "# 归一化"
   ]
  },
  {
   "cell_type": "raw",
   "metadata": {},
   "source": [
    "员工数量与销售额变化趋势图"
   ]
  },
  {
   "cell_type": "code",
   "execution_count": null,
   "metadata": {},
   "outputs": [],
   "source": [
    "#随机产生50组数，分别代表员工人数x1(1至50)，销售额x2(1至1000000)\n",
    "x1 = np.random.randint(1, 50, (50,1))\n",
    "x2 = np.random.randint(1, 1000000, (50,1))\n",
    "#使用最大-最小归一化进行转换\n",
    "maxmin = preprocessing.MinMaxScaler()\n",
    "x1_scaled = maxmin.fit_transform(x1)\n",
    "x2_scaled = maxmin.fit_transform(x2)\n",
    "#numpy生成的是二维数组，使用squeeze函数将数组的空维去掉\n",
    "df = pd.DataFrame()\n",
    "df['员工人数(归一化前)']= pd.Series(x1.squeeze()) \n",
    "df['销售额(归一化前)'] = pd.Series(x2.squeeze())\n",
    "df['员工人数(归一化后)'] = x1_scaled.squeeze()\n",
    "df['销售额(归一化后)'] = x2_scaled.squeeze()\n",
    "#显示归一化前后对比\n",
    "plt.style.use({'figure.figsize':(32, 6)})\n",
    "fig,axes=plt.subplots(1,2)\n",
    "axes[0].plot(df.index,df['员工人数(归一化前)'],df['销售额(归一化前)'])\n",
    "axes[1].plot(df.index,df['员工人数(归一化后)'],df['销售额(归一化后)'])\n",
    "axes[0].set_title('归一化前')\n",
    "axes[1].set_title('归一化后')"
   ]
  },
  {
   "cell_type": "markdown",
   "metadata": {},
   "source": [
    "# 标准化"
   ]
  },
  {
   "cell_type": "code",
   "execution_count": null,
   "metadata": {},
   "outputs": [],
   "source": [
    "#随机产生50组数，分别代表员工人数x1(1至50)，销售额x2(1至1000000)\n",
    "x1 = np.random.randint(1, 50, (50,1))\n",
    "x2 = np.random.randint(1, 1000000, (50,1))\n",
    "#进行标准化转换\n",
    "x1_scaled = preprocessing.scale(x1)\n",
    "x2_scaled = preprocessing.scale(x2)\n",
    "#numpy生成的是二维数组，需要使用squeeze函数将数组的空维去掉\n",
    "df = pd.DataFrame()\n",
    "df['员工人数(标准化前)']= pd.Series(x1.squeeze()) \n",
    "df['销售额(标准化前)'] = pd.Series(x2.squeeze())\n",
    "df['员工人数(标准化后)'] = x1_scaled.squeeze()\n",
    "df['销售额(标准化后)'] = x2_scaled.squeeze()\n",
    "#显示标准化前后对比\n",
    "fig,axes=plt.subplots(1,2)\n",
    "axes[0].plot(df.index,df['员工人数(标准化前)'],df['销售额(标准化前)'])\n",
    "axes[1].plot(df.index,df['员工人数(标准化后)'],df['销售额(标准化后)'])\n",
    "axes[0].set_title('标准化前')\n",
    "axes[1].set_title('标准化后')"
   ]
  }
 ],
 "metadata": {
  "kernelspec": {
   "display_name": "Python 3",
   "language": "python",
   "name": "python3"
  },
  "language_info": {
   "codemirror_mode": {
    "name": "ipython",
    "version": 3
   },
   "file_extension": ".py",
   "mimetype": "text/x-python",
   "name": "python",
   "nbconvert_exporter": "python",
   "pygments_lexer": "ipython3",
   "version": "3.7.9"
  }
 },
 "nbformat": 4,
 "nbformat_minor": 4
}
