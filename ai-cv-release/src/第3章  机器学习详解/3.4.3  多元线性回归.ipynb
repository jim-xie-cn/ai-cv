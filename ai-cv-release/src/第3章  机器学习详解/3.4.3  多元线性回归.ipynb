{
 "cells": [
  {
   "cell_type": "markdown",
   "metadata": {},
   "source": [
    "多元线性回归\n",
    "\n",
    "作者：谢文伟\n",
    "\n",
    "邮件：jim.xie.cn@outlook.com\n",
    "\n",
    "主页：https://github.com/jim-xie-cn/ai-cv"
   ]
  },
  {
   "cell_type": "raw",
   "metadata": {},
   "source": [
    "导入开发库"
   ]
  },
  {
   "cell_type": "code",
   "execution_count": null,
   "metadata": {},
   "outputs": [],
   "source": [
    "#引用以下包做数据处理\n",
    "import numpy as np\n",
    "import pandas as pd\n",
    "from sklearn import preprocessing\n",
    "from sklearn.linear_model import LinearRegression\n",
    "from sklearn.datasets import make_regression\n",
    "#引用以下包做数据可视化\n",
    "import matplotlib.pyplot as plt\n",
    "from mpl_toolkits.mplot3d import Axes3D\n",
    "import seaborn as sns\n",
    "from warnings import filterwarnings"
   ]
  },
  {
   "cell_type": "raw",
   "metadata": {},
   "source": [
    "初始化开发环境"
   ]
  },
  {
   "cell_type": "code",
   "execution_count": null,
   "metadata": {},
   "outputs": [],
   "source": [
    "filterwarnings('ignore')\n",
    "pd.set_option('display.float_format',lambda x:'%.2f'%x) #不使用科学计数法\n",
    "sns.set(font_scale=1.5) #设置统计图字体大小\n",
    "plt.rcParams['font.sans-serif']=['SimHei'] #在统计图上显示中文\n",
    "plt.style.use({'figure.figsize':(24, 8)})  #设置画布大小"
   ]
  },
  {
   "cell_type": "markdown",
   "metadata": {},
   "source": [
    "# 多元线性回归"
   ]
  },
  {
   "cell_type": "code",
   "execution_count": null,
   "metadata": {},
   "outputs": [],
   "source": [
    "#随机生成300个带噪音的样本（2维X和1维y)，需要三维坐标显示输出\n",
    "train_x,train_y=make_regression(n_samples=300,n_features=2,n_targets=1,noise=50)\n",
    "model = LinearRegression() #定义和训练模型\n",
    "model.fit(train_x, train_y)\n",
    "xe, ye = np.meshgrid(train_x[:,0],train_x[:,1]) #生成网格点矩阵\n",
    "test_x = np.dstack((np.ravel(xe),np.ravel(ye))) #根据网格矩阵点，生成测试数据（共300*300个）\n",
    "ze = model.predict(test_x.squeeze()) #使用模型对测试数据进行预测\n",
    "ze = ze.reshape((xe.shape))\n",
    "#显示结果，散点图为原始数据，平面为拟合的图像\n",
    "fig = plt.figure(figsize=(6, 6))\n",
    "ax = Axes3D(fig)\n",
    "ax.scatter(train_x[:,0],train_x[:,1],train_y,c='b',s=50)\n",
    "ax.plot_surface(xe,ye,ze,alpha=0.02,linewidth=0,color='g',shade=False)"
   ]
  },
  {
   "cell_type": "markdown",
   "metadata": {},
   "source": [
    "# LASSO/Ridge/ElasticNet回归"
   ]
  },
  {
   "cell_type": "code",
   "execution_count": null,
   "metadata": {},
   "outputs": [],
   "source": [
    "from sklearn.linear_model import Ridge\n",
    "from sklearn.datasets import make_regression\n",
    "train_x,train_y=make_regression(n_samples=300,n_features=2,n_targets=1,noise=50)\n",
    "model = Ridge(alpha=1)\n",
    "model.fit(train_x, train_y)\n",
    "pred_y = model.predict(train_x)\n",
    "pred_y"
   ]
  },
  {
   "cell_type": "markdown",
   "metadata": {},
   "source": [
    "# 多项式回归"
   ]
  },
  {
   "cell_type": "code",
   "execution_count": null,
   "metadata": {},
   "outputs": [],
   "source": [
    "from sklearn.linear_model import Ridge\n",
    "from sklearn.preprocessing import PolynomialFeatures\n",
    "from sklearn.datasets import make_regression\n",
    "#随机生成300个带噪音的样本（1维X和1维y)\n",
    "train_x,train_y=make_regression(n_samples=500000,n_features=1,n_targets=1,noise=3000)\n",
    "test_x,test_y=make_regression(n_samples=100,n_features=1,n_targets=1,noise=30)\n",
    "#使用多项式对训练数据进行展开，最高使用20次项\n",
    "degree=30\n",
    "poly = PolynomialFeatures(degree)\n",
    "new_train_x = poly.fit_transform(train_x)\n",
    "print(\"原始数据结构:\",train_x.shape,\"多项式转换后结构:\",new_train_x.shape)\n",
    "#使用训练岭回归模型，并预测\n",
    "model = Ridge()\n",
    "model.fit(new_train_x, train_y)\n",
    "#对测试数据进行预测(预测前需要对测试数据进行多项式转换）\n",
    "new_test_x = poly.fit_transform(test_x)\n",
    "pred_y = model.predict(new_test_x)\n",
    "df=pd.DataFrame()\n",
    "df['变量(X)']=test_x.squeeze()\n",
    "df['真实值(Y)']=test_y\n",
    "df['预测值(Y)']=pred_y\n",
    "#使用散点图显示真实值，折线图显示预测值\n",
    "sns.scatterplot(x='变量(X)',y='真实值(Y)',data=df)\n",
    "sns.lineplot(x='变量(X)',y='预测值(Y)',data=df,color='red')"
   ]
  },
  {
   "cell_type": "code",
   "execution_count": null,
   "metadata": {},
   "outputs": [],
   "source": []
  }
 ],
 "metadata": {
  "kernelspec": {
   "display_name": "Python 3",
   "language": "python",
   "name": "python3"
  },
  "language_info": {
   "codemirror_mode": {
    "name": "ipython",
    "version": 3
   },
   "file_extension": ".py",
   "mimetype": "text/x-python",
   "name": "python",
   "nbconvert_exporter": "python",
   "pygments_lexer": "ipython3",
   "version": "3.7.9"
  }
 },
 "nbformat": 4,
 "nbformat_minor": 4
}
