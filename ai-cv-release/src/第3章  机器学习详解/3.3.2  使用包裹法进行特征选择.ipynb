{
 "cells": [
  {
   "cell_type": "raw",
   "metadata": {},
   "source": [
    "使用包裹法进行特征选择\n",
    "\n",
    "作者：谢文伟\n",
    "\n",
    "邮件：jim.xie.cn@outlook.com\n",
    "\n",
    "主页：https://github.com/jim-xie-cn/ai-cv"
   ]
  },
  {
   "cell_type": "raw",
   "metadata": {},
   "source": [
    "导入开发库"
   ]
  },
  {
   "cell_type": "code",
   "execution_count": null,
   "metadata": {},
   "outputs": [],
   "source": [
    "#引用以下包做数据处理\n",
    "import numpy as np   \n",
    "import pandas as pd     \n",
    "from sklearn.linear_model import Lasso\n",
    "from sklearn.feature_selection import SelectFromModel\n",
    "from sklearn.datasets import make_regression,make_blobs\n",
    "from sklearn.ensemble import RandomForestClassifier\n",
    "from mlxtend.feature_selection import SequentialFeatureSelector,ExhaustiveFeatureSelector\n",
    "#引用以下包做数据可视化\n",
    "import seaborn as sns   \n",
    "import matplotlib.pyplot as plt\n",
    "from warnings import filterwarnings"
   ]
  },
  {
   "cell_type": "raw",
   "metadata": {},
   "source": [
    "初始化开发环境"
   ]
  },
  {
   "cell_type": "code",
   "execution_count": null,
   "metadata": {},
   "outputs": [],
   "source": [
    "filterwarnings('ignore')\n",
    "pd.set_option('display.float_format',lambda x:'%.2f'%x) #不使用科学计数法\n",
    "sns.set(font_scale=1.5) #设置统计图字体大小\n",
    "plt.rcParams['font.sans-serif']=['SimHei'] #在统计图上显示中文\n",
    "plt.style.use({'figure.figsize':(24, 8)})  #设置画布大小"
   ]
  },
  {
   "cell_type": "markdown",
   "metadata": {},
   "source": [
    "# 前向特征选择"
   ]
  },
  {
   "cell_type": "code",
   "execution_count": null,
   "metadata": {},
   "outputs": [],
   "source": [
    "#随机生成训练数据：100个样本，有5个特征，样本分布有3个中心\n",
    "features = 5\n",
    "X, y_train = make_blobs(n_samples=100,n_features=features,centers=3)\n",
    "x_train=pd.DataFrame(X,columns=['F{:d}'.format(i) for i in range(features)])\n",
    "#定义特征选择对象，使用随机森林作为评估模型\n",
    "rf=RandomForestClassifier()\n",
    "sfs=SequentialFeatureSelector(rf,k_features=2,forward=True,scoring='accuracy',cv=2)\n",
    "sfs = sfs.fit(x_train, y_train) #进行特征选择\n",
    "selected_features = x_train.columns[list(sfs.k_feature_idx_)]#输出最佳特征组合和模型得分\n",
    "print(selected_features,sfs.k_score_)\n",
    "#只使用最优特征组合作为训练数据\n",
    "x_train_sfs = sfs.transform(x_train)\n",
    "x_train_sfs"
   ]
  },
  {
   "cell_type": "markdown",
   "metadata": {},
   "source": [
    "# 向后特征消除"
   ]
  },
  {
   "cell_type": "code",
   "execution_count": null,
   "metadata": {},
   "outputs": [],
   "source": [
    "#随机生成训练数据：100个样本，有5个特征，样本分布有3个中心\n",
    "features = 5\n",
    "X, y_train = make_blobs(n_samples=100,n_features=features,centers=3)\n",
    "x_train=pd.DataFrame(X,columns=['F{:d}'.format(i) for i in range(features)])\n",
    "#定义特征选择对象，使用随机森林作为评估模型\n",
    "rf=RandomForestClassifier()\n",
    "sfs=SequentialFeatureSelector(rf,k_features=2,forward=False,scoring='accuracy',cv=2)\n",
    "sfs = sfs.fit(x_train, y_train)#进行特征选择\n",
    "selected_features = x_train.columns[list(sfs.k_feature_idx_)]#输出最佳特征组合和模型得分\n",
    "print(selected_features,sfs.k_score_)\n",
    "#只使用最优特征组合作为训练数据\n",
    "x_train_sfs = sfs.transform(x_train)\n",
    "#x_train_sfs"
   ]
  },
  {
   "cell_type": "markdown",
   "metadata": {},
   "source": [
    "# 穷举特征选择"
   ]
  },
  {
   "cell_type": "code",
   "execution_count": null,
   "metadata": {},
   "outputs": [],
   "source": [
    "#随机生成训练数据：100个样本，有5个特征，样本分布有2个中心\n",
    "features = 5\n",
    "X, y_train = make_blobs(n_samples=100,n_features=features,centers=2)\n",
    "x_train=pd.DataFrame(X,columns=['F{:d}'.format(i) for i in range(features)])\n",
    "#定义特征选择对象，使用随机森林作为评估模型\n",
    "rf=RandomForestClassifier()\n",
    "efs=ExhaustiveFeatureSelector(rf,min_features=2,max_features=3,scoring='roc_auc',cv=2)\n",
    "efs = efs.fit(x_train, y_train)#进行特征选择\n",
    "selected_features = list(efs.best_feature_names_)#输出最佳特征组合和模型得分\n",
    "print(selected_features,efs.best_score_)\n",
    "#只使用最优特征组合作为训练数据\n",
    "x_train_efs = efs.transform(x_train)\n",
    "#x_train_efs"
   ]
  },
  {
   "cell_type": "code",
   "execution_count": null,
   "metadata": {},
   "outputs": [],
   "source": []
  }
 ],
 "metadata": {
  "kernelspec": {
   "display_name": "Python 3",
   "language": "python",
   "name": "python3"
  },
  "language_info": {
   "codemirror_mode": {
    "name": "ipython",
    "version": 3
   },
   "file_extension": ".py",
   "mimetype": "text/x-python",
   "name": "python",
   "nbconvert_exporter": "python",
   "pygments_lexer": "ipython3",
   "version": "3.7.9"
  }
 },
 "nbformat": 4,
 "nbformat_minor": 4
}
