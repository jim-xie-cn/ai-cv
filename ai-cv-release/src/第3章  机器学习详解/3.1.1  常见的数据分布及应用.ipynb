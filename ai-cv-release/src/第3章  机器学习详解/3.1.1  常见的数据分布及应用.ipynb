{
 "cells": [
  {
   "cell_type": "markdown",
   "metadata": {},
   "source": [
    "常见的数据分布及应用\n",
    "\n",
    "作者：谢文伟\n",
    "\n",
    "邮件：jim.xie.cn@outlook.com\n",
    "\n",
    "主页：https://github.com/jim-xie-cn/ai-cv"
   ]
  },
  {
   "cell_type": "raw",
   "metadata": {},
   "source": [
    "导入开发库"
   ]
  },
  {
   "cell_type": "code",
   "execution_count": null,
   "metadata": {
    "scrolled": true
   },
   "outputs": [],
   "source": [
    "import random\n",
    "import matplotlib.pyplot as plt\n",
    "import numpy as np\n",
    "import seaborn as sns\n",
    "import pandas as pd\n",
    "from scipy.stats import bernoulli,norm,geom,poisson,expon,binom\n",
    "from warnings import filterwarnings\n",
    "from sklearn import preprocessing"
   ]
  },
  {
   "cell_type": "raw",
   "metadata": {},
   "source": [
    "初始化开发环境"
   ]
  },
  {
   "cell_type": "code",
   "execution_count": null,
   "metadata": {},
   "outputs": [],
   "source": [
    "sns.set(font_scale=1.5) \n",
    "plt.rcParams['font.sans-serif']=['SimHei'] #显示中文\n",
    "filterwarnings('ignore') #关闭警告"
   ]
  },
  {
   "cell_type": "markdown",
   "metadata": {},
   "source": [
    "# 伯努利分布\n",
    "二值随机"
   ]
  },
  {
   "cell_type": "code",
   "execution_count": null,
   "metadata": {},
   "outputs": [],
   "source": [
    "X = np.arange(0, 2,1)\n",
    "arr = bernoulli.pmf(X,0.5)\n",
    "plt.xlabel('实验次数')\n",
    "plt.ylabel('概率')\n",
    "plt.title('伯努利分布: n=' + str(len(arr)))\n",
    "plt.bar(['正','反'],[arr[0],arr[1]],color='b')\n",
    "plt.show()"
   ]
  },
  {
   "cell_type": "markdown",
   "metadata": {},
   "source": [
    "# 二项分布 \n",
    "n次抛硬币实验中有x次正面朝上的概率"
   ]
  },
  {
   "cell_type": "code",
   "execution_count": null,
   "metadata": {},
   "outputs": [],
   "source": [
    "def show_binomial(x,n,p):\n",
    "    arr = binom.pmf(x, n, p)\n",
    "    li, = plt.plot(x, arr, marker='o',label='p=%.2f'%p)\n",
    "    return li\n",
    "n = 100\n",
    "x = np.arange(0, n) \n",
    "line1 = show_binomial(x,n,0.2)\n",
    "line2 = show_binomial(x,n,0.5)\n",
    "line3 = show_binomial(x,n,0.8)\n",
    "plt.legend(handles=[line1,line2,line3],fontsize=20)\n",
    "plt.xlabel('事件发生的次数')\n",
    "plt.ylabel('概率')\n",
    "plt.title('二项分布')\n",
    "plt.show()"
   ]
  },
  {
   "cell_type": "raw",
   "metadata": {},
   "source": [
    "应用：买了50支股票，每支股票涨跌概率均为50%，想知道有几支股票涨的概率"
   ]
  },
  {
   "cell_type": "code",
   "execution_count": null,
   "metadata": {},
   "outputs": [],
   "source": [
    "n = 50\n",
    "x = np.arange(0, n) \n",
    "line1 = show_binomial(x,n,0.5)\n",
    "plt.legend(handles=[line1],fontsize=20)\n",
    "plt.xlabel('上涨股票数量')\n",
    "plt.ylabel('概率')\n",
    "plt.title('上涨股票的数量分布')\n",
    "plt.show()"
   ]
  },
  {
   "cell_type": "markdown",
   "metadata": {},
   "source": [
    "# 几何分布"
   ]
  },
  {
   "cell_type": "raw",
   "metadata": {},
   "source": [
    "抛n次硬币，在第x次正面朝上的概率"
   ]
  },
  {
   "cell_type": "code",
   "execution_count": null,
   "metadata": {},
   "outputs": [],
   "source": [
    "def show_plt_geom(x,p):\n",
    "    arr = geom.pmf(x, p)\n",
    "    li, = plt.plot(x, arr, marker='o', label='p=%.2f'%p)\n",
    "    return li\n",
    "n = 20\n",
    "x = np.arange(0, n) \n",
    "line1 = show_plt_geom(x,0.2)\n",
    "line2 = show_plt_geom(x,0.5)\n",
    "line3 = show_plt_geom(x,0.8)\n",
    "plt.legend(handles=[line1,line2,line3],fontsize=20)\n",
    "plt.xlabel('第几次试验')\n",
    "plt.ylabel('概率')\n",
    "plt.title(\"几何分布\")\n",
    "plt.show()"
   ]
  },
  {
   "cell_type": "raw",
   "metadata": {},
   "source": [
    "应用：平均每天接到投诉的概率为0.2，最近一次投诉的时间分布"
   ]
  },
  {
   "cell_type": "code",
   "execution_count": null,
   "metadata": {},
   "outputs": [],
   "source": [
    "n = 20\n",
    "x = np.arange(0, n) \n",
    "line1 = show_plt_geom(x,0.2)\n",
    "plt.legend(handles=[line1],fontsize=20)\n",
    "plt.xlabel('第几天')\n",
    "plt.ylabel('概率')\n",
    "plt.title(\"投诉的时间分布\")\n",
    "plt.show()"
   ]
  },
  {
   "cell_type": "markdown",
   "metadata": {},
   "source": [
    "# 超几何分布"
   ]
  },
  {
   "cell_type": "raw",
   "metadata": {},
   "source": [
    "# 总样本量M，正例样本数量n，每次采样数量N（针对不放回取样）, 采样到x个正例样本的概率"
   ]
  },
  {
   "cell_type": "code",
   "execution_count": null,
   "metadata": {},
   "outputs": [],
   "source": [
    "from scipy.stats import hypergeom\n",
    "def show_plt_hypergeom(x,M, n, N):\n",
    "    arr = hypergeom(M, n, N).pmf(x)\n",
    "    li, = plt.plot(x, arr, marker='o', label='n=%d'%N)\n",
    "    return li\n",
    "[M, n] = [25, 8]\n",
    "x = np.arange(0, n+1)\n",
    "line1 = show_plt_hypergeom(x,M, n, 2)\n",
    "line2 = show_plt_hypergeom(x,M, n, 5)\n",
    "line3 = show_plt_hypergeom(x,M, n, 8)\n",
    "plt.legend(handles=[line1,line2,line3],fontsize=20)\n",
    "plt.xlabel('黑球数量')\n",
    "plt.ylabel('概率')\n",
    "plt.title(\"超几何分布\")\n",
    "plt.show()"
   ]
  },
  {
   "cell_type": "raw",
   "metadata": {},
   "source": [
    "应用：员工人数：36人 (男：20人, 女：16人）5人一组组队，队伍中的女生数量分布。"
   ]
  },
  {
   "cell_type": "code",
   "execution_count": null,
   "metadata": {},
   "outputs": [],
   "source": [
    "outcomes = np.random.hypergeometric(16,20,5,size =1000)\n",
    "df = pd.DataFrame()\n",
    "df['女生数量'] = pd.Series(outcomes)\n",
    "sns.countplot(x=\"女生数量\", data=df)\n",
    "plt.title(\"频次图\")"
   ]
  },
  {
   "cell_type": "code",
   "execution_count": null,
   "metadata": {},
   "outputs": [],
   "source": [
    "from scipy.stats import hypergeom\n",
    "def show_plt_hypergeom(x,M, n, N):\n",
    "    arr = hypergeom(M, n, N).pmf(x)\n",
    "    li, = plt.plot(x, arr, marker='o')\n",
    "    return li\n",
    "[M, n, N] = [36, 16, 5]\n",
    "x = np.arange(0, n+1)\n",
    "line1 = show_plt_hypergeom(x,M, n, N)\n",
    "plt.legend(handles=[line1],fontsize=20)\n",
    "plt.xlabel('女生人数')\n",
    "plt.ylabel('概率')\n",
    "plt.title(\"女生数量分布\")\n",
    "plt.show()"
   ]
  },
  {
   "cell_type": "markdown",
   "metadata": {},
   "source": [
    "# 泊松分布:"
   ]
  },
  {
   "cell_type": "raw",
   "metadata": {},
   "source": [
    "单位时间内随机事件发生的次数的概率分布。泊松分布的参数λ是单位时间（或单位面积）内随机事件的平均发生率"
   ]
  },
  {
   "cell_type": "code",
   "execution_count": null,
   "metadata": {},
   "outputs": [],
   "source": [
    "#一天内发生k次事件的概率是 (单位时间内事件发生的次数对应的概率)\n",
    "def show_plt_poisson(x,lamda):\n",
    "    arr = poisson.pmf(x, lamda)\n",
    "    li, = plt.plot(x, arr, marker='o', label='λ=%.2f'%lamda)\n",
    "    return li\n",
    "\n",
    "x = np.arange(0, 20, 1)\n",
    "line1 = show_plt_poisson(x,2)\n",
    "line2 = show_plt_poisson(x,5)\n",
    "line3 = show_plt_poisson(x,8)\n",
    "plt.legend(handles=[line1,line2,line3],fontsize=20)\n",
    "\n",
    "plt.xlabel('时间间隔')\n",
    "plt.ylabel('概率')\n",
    "plt.title('泊松分布')\n",
    "plt.show()"
   ]
  },
  {
   "cell_type": "raw",
   "metadata": {},
   "source": [
    "应用：某个景区平均3万人，景区每天的人数的分布概率"
   ]
  },
  {
   "cell_type": "code",
   "execution_count": null,
   "metadata": {},
   "outputs": [],
   "source": [
    "x = np.arange(0, 15, 1)\n",
    "line0 = show_plt_poisson(x,3)\n",
    "plt.legend(handles=[line0],fontsize=20)\n",
    "plt.xlabel('每天的游客人数（万人）')\n",
    "plt.ylabel('概率')\n",
    "plt.title('游客人数分布')\n",
    "plt.show()"
   ]
  },
  {
   "cell_type": "markdown",
   "metadata": {},
   "source": [
    "# 正太分布"
   ]
  },
  {
   "cell_type": "raw",
   "metadata": {},
   "source": [
    "随机变量X服从一个位置参数为μ 、尺度参数为σ 的分布"
   ]
  },
  {
   "cell_type": "code",
   "execution_count": null,
   "metadata": {},
   "outputs": [],
   "source": [
    "def show_plt_norm(x,mu, sigma):\n",
    "    arr = norm.pdf(x, mu, sigma)\n",
    "    li, = plt.plot(x, arr, marker='o', label='μ=%.2f,σ=%.2f'%(mu,sigma))\n",
    "    return li\n",
    "plt.figure(figsize=(12,4))\n",
    "x = np.arange(0, 100, 1)\n",
    "line0 = show_plt_norm(x,30,4)\n",
    "line1 = show_plt_norm(x,40,5)\n",
    "line2 = show_plt_norm(x,50,6)\n",
    "line3 = show_plt_norm(x,60,7)\n",
    "plt.legend(handles=[line0,line1,line2,line3],fontsize=20)\n",
    "\n",
    "plt.xlabel('变量')\n",
    "plt.ylabel('概率')\n",
    "plt.title('正态分布')\n",
    "plt.show()"
   ]
  },
  {
   "cell_type": "raw",
   "metadata": {},
   "source": [
    "应用：误差服从标准正态分布，估算误差的范围"
   ]
  },
  {
   "cell_type": "code",
   "execution_count": null,
   "metadata": {},
   "outputs": [],
   "source": [
    "def show_plt_norm_1(x,mu, sigma):\n",
    "    arr = norm.pdf(x, mu, sigma)\n",
    "    li, = plt.plot(x, arr, marker='o')\n",
    "    return li\n",
    "plt.figure(figsize=(12,4))\n",
    "x = np.arange(-4, 4, 0.1)\n",
    "line0 = show_plt_norm_1(x,0,1)\n",
    "plt.legend(handles=[line0],fontsize=20)\n",
    "plt.xlabel('变量')\n",
    "plt.ylabel('概率')\n",
    "plt.title('噪声分布')\n",
    "plt.show()"
   ]
  },
  {
   "cell_type": "markdown",
   "metadata": {},
   "source": [
    "# 指数分布"
   ]
  },
  {
   "cell_type": "raw",
   "metadata": {},
   "source": [
    "是泊松分布的反过程，预测直到下一个事件（即成功，失败，到达等）的等待时间"
   ]
  },
  {
   "cell_type": "code",
   "execution_count": null,
   "metadata": {},
   "outputs": [],
   "source": [
    "def show_plt_expon(x,lamda):\n",
    "    arr = expon.pdf(x,lamda) \n",
    "    li, = plt.plot(x, arr, marker='o', label='λ=%.2f'%(lamda))\n",
    "    return li\n",
    "x = np.arange(0, 10, 1)\n",
    "line1 = show_plt_expon(x,0.2)\n",
    "line2 = show_plt_expon(x,0.5)\n",
    "line3 = show_plt_expon(x,0.8)\n",
    "plt.legend(handles=[line1,line2,line3],fontsize=20)\n",
    "plt.xlabel('等待时间')\n",
    "plt.ylabel('概率')\n",
    "plt.title('指数分布')\n",
    "plt.show()"
   ]
  },
  {
   "cell_type": "raw",
   "metadata": {},
   "source": [
    "应用：设备重新启动之前可以运行的小时数平均以5000小时，硬件运行不同时长，发生的概率分布"
   ]
  },
  {
   "cell_type": "code",
   "execution_count": null,
   "metadata": {},
   "outputs": [],
   "source": [
    "x = np.arange(0, 20, 1)\n",
    "line1 = show_plt_expon(x,1/5)\n",
    "plt.legend(handles=[line1],fontsize=20)\n",
    "plt.xlabel('运行时长（千小时）')\n",
    "plt.ylabel('概率')\n",
    "plt.title('故障发生时间分布')\n",
    "plt.show()"
   ]
  }
 ],
 "metadata": {
  "kernelspec": {
   "display_name": "Python 3",
   "language": "python",
   "name": "python3"
  },
  "language_info": {
   "codemirror_mode": {
    "name": "ipython",
    "version": 3
   },
   "file_extension": ".py",
   "mimetype": "text/x-python",
   "name": "python",
   "nbconvert_exporter": "python",
   "pygments_lexer": "ipython3",
   "version": "3.7.9"
  }
 },
 "nbformat": 4,
 "nbformat_minor": 4
}
