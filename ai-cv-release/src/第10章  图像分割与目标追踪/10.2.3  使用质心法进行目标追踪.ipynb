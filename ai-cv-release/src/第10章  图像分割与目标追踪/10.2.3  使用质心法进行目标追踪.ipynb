{
 "cells": [
  {
   "cell_type": "markdown",
   "id": "manual-dream",
   "metadata": {},
   "source": [
    "使用质心法进行目标追踪\n",
    "\n",
    "作者：谢文伟\n",
    "\n",
    "邮件：jim.xie.cn@outlook.com\n",
    "\n",
    "主页：https://github.com/jim-xie-cn/ai-cv"
   ]
  },
  {
   "cell_type": "markdown",
   "id": "august-conversion",
   "metadata": {},
   "source": [
    "导入库"
   ]
  },
  {
   "cell_type": "code",
   "execution_count": null,
   "id": "blank-yorkshire",
   "metadata": {},
   "outputs": [],
   "source": [
    "import cv2,math\n",
    "import numpy as np\n",
    "import IPython.display as display\n",
    "from yolo_detect import Init_Yolo,Detect,Draw #封装YOLO模型的检测操作\n",
    "from matplotlib import pyplot as plt\n",
    "plt.rcParams['font.sans-serif']=['SimHei'] #在统计图上显示中文"
   ]
  },
  {
   "cell_type": "raw",
   "id": "wrapped-outside",
   "metadata": {},
   "source": [
    "初始化YOLO模型"
   ]
  },
  {
   "cell_type": "code",
   "execution_count": null,
   "id": "tight-designation",
   "metadata": {},
   "outputs": [],
   "source": [
    "model,labels = Init_Yolo('./models/yolov3-tiny.cfg',\n",
    "                         './models/yolov3-tiny.weights',\n",
    "                         './models/coco.names')"
   ]
  },
  {
   "cell_type": "markdown",
   "id": "determined-rating",
   "metadata": {},
   "source": [
    "读取两帧图像"
   ]
  },
  {
   "cell_type": "code",
   "execution_count": null,
   "id": "improved-running",
   "metadata": {},
   "outputs": [],
   "source": [
    "frame_1 = cv2.imread('./images/ball_1.png')\n",
    "frame_1 = cv2.cvtColor(frame_1, cv2.COLOR_BGR2RGB) \n",
    "frame_2 = cv2.imread('./images/ball_2.png')\n",
    "frame_2 = cv2.cvtColor(frame_2, cv2.COLOR_BGR2RGB)"
   ]
  },
  {
   "cell_type": "markdown",
   "id": "sensitive-excuse",
   "metadata": {},
   "source": [
    "对这两帧图像进行目标检测（这里只检测足球，忽略掉其他目标）"
   ]
  },
  {
   "cell_type": "code",
   "execution_count": null,
   "id": "fatty-suite",
   "metadata": {},
   "outputs": [],
   "source": [
    "#使用YOLO检测两帧图像中的目标\n",
    "b1 = Detect(model,labels,frame_1)\n",
    "b2 = Detect(model,labels,frame_2)\n",
    "#只保留足球的检测结果\n",
    "filter=np.where(b1[:,-1]=='sports ball')  \n",
    "bbox1 = b1[filter]\n",
    "filter=np.where(b2[:,-1]=='sports ball')  \n",
    "bbox2 = b2[filter]"
   ]
  },
  {
   "cell_type": "markdown",
   "id": "dynamic-dryer",
   "metadata": {},
   "source": [
    "显示检测结果"
   ]
  },
  {
   "cell_type": "code",
   "execution_count": null,
   "id": "scenic-coating",
   "metadata": {},
   "outputs": [],
   "source": [
    "mask1 = Draw(frame_1,bbox1)  #绘制在第一帧中检测到的目标\n",
    "mask2 = Draw(frame_2,bbox2)  #绘制在第二帧中检测到的目标\n",
    "#显示检测结果\n",
    "fig = plt.figure(figsize=(12,10))\n",
    "def ShowImg(id,title,img):\n",
    "    ax=fig.add_subplot(1,2,id)\n",
    "    ax.imshow(img)\n",
    "    ax.axis('off')\n",
    "    plt.title(title)\n",
    "ShowImg(1,'第一帧图像',mask1)\n",
    "ShowImg(2,'第二帧图像',mask2)"
   ]
  },
  {
   "cell_type": "markdown",
   "id": "analyzed-remark",
   "metadata": {},
   "source": [
    "计算质心坐标"
   ]
  },
  {
   "cell_type": "code",
   "execution_count": null,
   "id": "indie-living",
   "metadata": {},
   "outputs": [],
   "source": [
    "A = (int(bbox1[0][0])+int(bbox1[0][2])/2,int(bbox1[0][1])+int(bbox1[0][3])/2)\n",
    "B = (int(bbox2[1][0])+int(bbox2[1][2])/2,int(bbox2[1][1])+int(bbox2[1][3])/2)\n",
    "C = (int(bbox2[0][0])+int(bbox2[0][2])/2,int(bbox2[0][1])+int(bbox2[0][3])/2)\n",
    "print(\"第一帧目标A\",A,\"第二帧目标B\",B,\"第二帧目标C\",C)"
   ]
  },
  {
   "cell_type": "markdown",
   "id": "engaged-omega",
   "metadata": {},
   "source": [
    "计算第一帧中的目标和后一帧中目标的欧氏距离"
   ]
  },
  {
   "cell_type": "code",
   "execution_count": null,
   "id": "capital-plumbing",
   "metadata": {},
   "outputs": [],
   "source": [
    "AB = math.sqrt(math.pow((A[0]-B[0]),2)+math.pow((A[1]-B[1]),2))\n",
    "AC = math.sqrt(math.pow((A[0]-C[0]),2)+math.pow((A[1]-C[1]),2))\n",
    "print(\"AB距离\",AB,\"AC距离\",AC,\"AC是同一目标\")"
   ]
  },
  {
   "cell_type": "markdown",
   "id": "worldwide-jordan",
   "metadata": {},
   "source": [
    "显示追踪结果"
   ]
  },
  {
   "cell_type": "code",
   "execution_count": null,
   "id": "entire-tract",
   "metadata": {},
   "outputs": [],
   "source": [
    "mask1 = Draw(frame_1,bbox1)  #绘制在第一帧中检测到的目标\n",
    "mask2 = Draw(frame_2,bbox2)  #绘制在第二帧中检测到的目标\n",
    "all_img = np.hstack((mask1, mask2)) #将两帧图像合并成一幅图像\n",
    "#绘制运动轨迹\n",
    "H,W = mask1.shape[:2]\n",
    "cv2.line(all_img,(int(A[0]),int(A[1])),(W+int(C[0]),int(C[1])),(0,255,255),2)\n",
    "##显示追踪结果\n",
    "plt.title('目标运行轨迹')\n",
    "plt.axis('off')\n",
    "plt.imshow(all_img)"
   ]
  },
  {
   "cell_type": "markdown",
   "id": "handled-minority",
   "metadata": {},
   "source": [
    "视频中的目标跟踪演示（只演示追踪单个目标）"
   ]
  },
  {
   "cell_type": "code",
   "execution_count": null,
   "id": "incoming-alfred",
   "metadata": {},
   "outputs": [],
   "source": [
    "cap = cv2.VideoCapture(\"./video/ball.mp4\")#打开视频文件\n",
    "pre_bbox = None\n",
    "while True:\n",
    "    ret,frame = cap.read()     #读取视频的帧\n",
    "    if not ret:                #视频文件读取结束\n",
    "        break\n",
    "    rgb_img= cv2.cvtColor(frame.copy(),cv2.COLOR_BGR2RGB)#将视频的帧转换为RGB格式\n",
    "    b = Detect(model,labels,rgb_img)\n",
    "    filter=np.where(b1[:,-1]=='sports ball')#只保留足球的检测结果\n",
    "    if len(b)>0:\n",
    "        cur_bbox = b[filter]\n",
    "        if len(cur_bbox) > 0:\n",
    "            #如果是首次发现目标，初始化该目标轨迹\n",
    "            if pre_bbox is None:\n",
    "                pre_bbox = cur_bbox  \n",
    "            #查找上一帧中的目标，在当前帧中最相近的目标位置\n",
    "            for box1 in pre_bbox:\n",
    "                p1 = (int(box1[0])+int(box1[2])/2,int(box1[1])+int(box1[3])/2)\n",
    "                min_dis = 65535\n",
    "                min_box = None\n",
    "                for box2 in cur_bbox:\n",
    "                    p2 = (int(box2[0])+int(box2[2])/2,int(box2[1])+int(box2[3])/2)\n",
    "                    d = math.sqrt(math.pow((p1[0]-p2[0]),2)+math.pow((p1[1]-p2[1]),2))\n",
    "                    if d < min_dis and d < 1024:\n",
    "                        min_dis = d\n",
    "                        min_box = box2\n",
    "                #距离太远，没有找到，注销该目标的轨迹\n",
    "                if min_box is None:\n",
    "                    pre_bbox = None     \n",
    "                    continue\n",
    "                #找到该目标，在图像上标注出来\n",
    "                rgb_img = Draw(rgb_img,[min_box])\n",
    "            #显示跟踪的结果\n",
    "            display.clear_output(wait=True)\n",
    "            plt.imshow(rgb_img)    \n",
    "            plt.show()"
   ]
  },
  {
   "cell_type": "code",
   "execution_count": null,
   "id": "emerging-investor",
   "metadata": {},
   "outputs": [],
   "source": []
  }
 ],
 "metadata": {
  "kernelspec": {
   "display_name": "Python 3",
   "language": "python",
   "name": "python3"
  },
  "language_info": {
   "codemirror_mode": {
    "name": "ipython",
    "version": 3
   },
   "file_extension": ".py",
   "mimetype": "text/x-python",
   "name": "python",
   "nbconvert_exporter": "python",
   "pygments_lexer": "ipython3",
   "version": "3.7.9"
  }
 },
 "nbformat": 4,
 "nbformat_minor": 5
}
