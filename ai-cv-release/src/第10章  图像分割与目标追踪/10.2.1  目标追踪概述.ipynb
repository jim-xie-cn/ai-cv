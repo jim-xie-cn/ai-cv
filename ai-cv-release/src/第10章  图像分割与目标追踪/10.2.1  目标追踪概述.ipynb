{
 "cells": [
  {
   "cell_type": "markdown",
   "metadata": {},
   "source": [
    "视频与图像序列\n",
    "\n",
    "作者：谢文伟\n",
    "\n",
    "邮件：jim.xie.cn@outlook.com\n",
    "\n",
    "主页：https://github.com/jim-xie-cn/ai-cv"
   ]
  },
  {
   "cell_type": "markdown",
   "metadata": {},
   "source": [
    "导入用到的库"
   ]
  },
  {
   "cell_type": "code",
   "execution_count": null,
   "metadata": {},
   "outputs": [],
   "source": [
    "import cv2\n",
    "import os\n",
    "from os.path import isfile, join"
   ]
  },
  {
   "cell_type": "markdown",
   "metadata": {},
   "source": [
    "视频文件转图像序列"
   ]
  },
  {
   "cell_type": "code",
   "execution_count": null,
   "metadata": {},
   "outputs": [],
   "source": [
    "videoFile = './video/ball.mp4' #输入的视频文件\n",
    "imgPath = \"./video/frame/\"     #输出的图像文件路径\n",
    "#打开视频文件、读取视频帧、并以jpg的图像格式，写到指定目录下\n",
    "cap = cv2.VideoCapture(videoFile)\n",
    "frame_id = 0\n",
    "while True:\n",
    "    ret,frame = cap.read()     #读取视频的帧\n",
    "    if not ret:                #视频结束\n",
    "        break\n",
    "    rgb_img= cv2.cvtColor(frame.copy(),cv2.COLOR_BGR2RGB)#将视频的帧转换为RGB格式\n",
    "    cv2.imwrite(\"%s/%04d.jpg\"%(imgPath,frame_id),rgb_img)\n",
    "    frame_id = frame_id + 1\n",
    "print(\"转换结束:(视频文件:%s，图像序列路径:%s)\"%(videoFile,imgPath))"
   ]
  },
  {
   "cell_type": "markdown",
   "metadata": {},
   "source": [
    "图像序列转视频文件"
   ]
  },
  {
   "cell_type": "code",
   "execution_count": null,
   "metadata": {},
   "outputs": [],
   "source": [
    "imgPath = \"./video/frame/\"      #输入的图像文件路径\n",
    "videoFile = './video/video.mp4' #输出的视频文件\n",
    "fps = 20.0 #速率，每秒25帧\n",
    "#找到目录下所有的图像文件，并按照文件名排序\n",
    "files=[f for f in os.listdir(imgPath) if isfile(join(imgPath,f)) and f.endswith('.jpg')]\n",
    "files.sort()\n",
    "#得到图像文件的尺寸\n",
    "img = cv2.imread(imgPath+files[0])\n",
    "height, width, channel = img.shape\n",
    "#创建视频对象，使用mpg4格式压缩\n",
    "video = cv2.VideoWriter(videoFile,cv2.VideoWriter_fourcc(*'DIVX'),fps,(width,height))\n",
    "#将图像序列写入视频文件\n",
    "for file_name in files:\n",
    "    img = cv2.imread(imgPath+file_name)\n",
    "    rgb = cv2.cvtColor(img, cv2.COLOR_BGR2RGB) #转换为RGB格式\n",
    "    video.write(rgb)\n",
    "video.release()\n",
    "print(\"转换结束:(图像序列路径:%s,视频文件:%s)\"%(imgPath,videoFile))"
   ]
  },
  {
   "cell_type": "code",
   "execution_count": null,
   "metadata": {},
   "outputs": [],
   "source": []
  },
  {
   "cell_type": "code",
   "execution_count": null,
   "metadata": {},
   "outputs": [],
   "source": []
  }
 ],
 "metadata": {
  "kernelspec": {
   "display_name": "Python 3",
   "language": "python",
   "name": "python3"
  },
  "language_info": {
   "codemirror_mode": {
    "name": "ipython",
    "version": 3
   },
   "file_extension": ".py",
   "mimetype": "text/x-python",
   "name": "python",
   "nbconvert_exporter": "python",
   "pygments_lexer": "ipython3",
   "version": "3.7.9"
  }
 },
 "nbformat": 4,
 "nbformat_minor": 4
}
