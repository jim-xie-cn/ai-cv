{
 "cells": [
  {
   "cell_type": "markdown",
   "metadata": {},
   "source": [
    "神经网络使用实例\n",
    "\n",
    "作者：谢文伟\n",
    "\n",
    "邮件：jim.xie.cn@outlook.com\n",
    "\n",
    "主页：https://github.com/jim-xie-cn/ai-cv"
   ]
  },
  {
   "cell_type": "raw",
   "metadata": {},
   "source": [
    "导入用到的包"
   ]
  },
  {
   "cell_type": "code",
   "execution_count": null,
   "metadata": {},
   "outputs": [],
   "source": [
    "import matplotlib.pyplot as plt\n",
    "import numpy as np\n",
    "import math\n",
    "#从sklearn里引入MLP分类和回归模型\n",
    "from sklearn.neural_network import MLPRegressor,MLPClassifier"
   ]
  },
  {
   "cell_type": "raw",
   "metadata": {},
   "source": [
    "初始化统计图样式"
   ]
  },
  {
   "cell_type": "code",
   "execution_count": null,
   "metadata": {},
   "outputs": [],
   "source": [
    "plt.style.use({'figure.figsize':(8, 6)})#设置画布大小\n",
    "plt.rcParams['font.sans-serif']=['SimHei']#使用中文字体"
   ]
  },
  {
   "cell_type": "markdown",
   "metadata": {},
   "source": [
    "# 回归问题"
   ]
  },
  {
   "cell_type": "raw",
   "metadata": {},
   "source": [
    "生成训练，测试样本\n",
    "#随机产生10000组训练样本，500组测试样本，并加入噪声"
   ]
  },
  {
   "cell_type": "code",
   "execution_count": null,
   "metadata": {},
   "outputs": [],
   "source": [
    "#输入(x):一维数组,在正负pi之间\n",
    "#输出(y):根据心形函数生成的两维数组\n",
    "def FakeData(n_samples):\n",
    "    x = np.random.uniform(-math.pi, math.pi, (n_samples,))\n",
    "    y1 = np.sin(x) + np.random.normal(0, 0.15, x.shape)     \n",
    "    y2 = np.cos(x) + np.power(abs( np.sin(x)), 2.0/3)\n",
    "    return x.reshape(-1,1),np.array([y1,y2]).T\n",
    "train_x,train_y = FakeData(10000)\n",
    "test_x,test_y = FakeData(500)\n",
    "print(\"输入样本维度:\",train_x.shape,\"输出样本维度:\",train_y.shape)"
   ]
  },
  {
   "cell_type": "markdown",
   "metadata": {},
   "source": [
    "训练模型\n",
    "#使用多层感知机模型(MLP),5个隐含层，每个隐含层有50个神经元"
   ]
  },
  {
   "cell_type": "code",
   "execution_count": null,
   "metadata": {},
   "outputs": [],
   "source": [
    "#激活函数为tanh，学习率为0.001\n",
    "model = MLPRegressor(hidden_layer_sizes=(50,50,50,50,50),activation='tanh',learning_rate_init=0.001)\n",
    "model.fit(train_x, train_y) #训练模型\n",
    "score = model.score(test_x, test_y)\n",
    "print(\"在测试集上模型得分：\",score)"
   ]
  },
  {
   "cell_type": "markdown",
   "metadata": {},
   "source": [
    "显示预测结果"
   ]
  },
  {
   "cell_type": "code",
   "execution_count": null,
   "metadata": {},
   "outputs": [],
   "source": [
    "#预测并显示结果（蓝色为测试数据，红色线条为模型的预测结果）\n",
    "predict_y = model.predict(test_x)\n",
    "plt.scatter(test_y[:,0],test_y[:,1],c='b')\n",
    "plt.scatter(predict_y[:,0],predict_y[:,1],c='r')"
   ]
  },
  {
   "cell_type": "markdown",
   "metadata": {},
   "source": [
    "# 分类问题"
   ]
  },
  {
   "cell_type": "markdown",
   "metadata": {},
   "source": [
    "生成训练，测试样本\n",
    "#随机产生1000组训练样本，300组测试样本"
   ]
  },
  {
   "cell_type": "code",
   "execution_count": null,
   "metadata": {},
   "outputs": [],
   "source": [
    "#输入：二维数组 x1,x2 （在正负pi之间）\n",
    "#输出：当x1和x2的平均数大于0时，输出y为1，否则输出-1\n",
    "def FakeData(n_samples):\n",
    "    x1 = np.random.uniform(-math.pi, math.pi, (n_samples,))\n",
    "    x2 = np.random.uniform(-math.pi, math.pi, (n_samples,))\n",
    "    y = (x1+x2)/2\n",
    "    y[[y>0]]=1\n",
    "    y[[y<=0]] = -1\n",
    "    return np.array([x1,x2]).T,y\n",
    "train_x,train_y = FakeData(1000)\n",
    "test_x,test_y = FakeData(300)"
   ]
  },
  {
   "cell_type": "markdown",
   "metadata": {},
   "source": [
    "训练模型,使用多层感知机模型(MLP),3个隐含层，每个隐含层有10个神经元"
   ]
  },
  {
   "cell_type": "code",
   "execution_count": null,
   "metadata": {},
   "outputs": [],
   "source": [
    "#激活函数为tanh，学习率为0.001\n",
    "model = MLPClassifier(hidden_layer_sizes=(10,10),activation='tanh',learning_rate_init=0.001)\n",
    "model.fit(train_x, train_y)                         \n",
    "score=model.score(test_x,test_y)\n",
    "print(\"在测试集上模型得分：\",score)"
   ]
  },
  {
   "cell_type": "markdown",
   "metadata": {},
   "source": [
    "显示预测结果"
   ]
  },
  {
   "cell_type": "code",
   "execution_count": null,
   "metadata": {},
   "outputs": [],
   "source": [
    "#使用模型分类并显示结果\n",
    "predict_y = model.predict(test_x)\n",
    "plt.scatter(test_x[:,0],test_x[:,1],c=predict_y)"
   ]
  }
 ],
 "metadata": {
  "kernelspec": {
   "display_name": "Python 3",
   "language": "python",
   "name": "python3"
  },
  "language_info": {
   "codemirror_mode": {
    "name": "ipython",
    "version": 3
   },
   "file_extension": ".py",
   "mimetype": "text/x-python",
   "name": "python",
   "nbconvert_exporter": "python",
   "pygments_lexer": "ipython3",
   "version": "3.7.9"
  }
 },
 "nbformat": 4,
 "nbformat_minor": 4
}
