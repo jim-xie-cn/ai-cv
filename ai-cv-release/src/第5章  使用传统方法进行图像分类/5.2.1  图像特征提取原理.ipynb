{
 "cells": [
  {
   "cell_type": "markdown",
   "metadata": {
    "scrolled": true
   },
   "source": [
    "图像的特征提取\n",
    "\n",
    "作者：谢文伟\n",
    "\n",
    "邮件：jim.xie.cn@outlook.com\n",
    "\n",
    "主页：https://github.com/jim-xie-cn/ai-cv"
   ]
  },
  {
   "cell_type": "markdown",
   "metadata": {},
   "source": [
    "导入用到的开发库"
   ]
  },
  {
   "cell_type": "code",
   "execution_count": null,
   "metadata": {},
   "outputs": [],
   "source": [
    "from matplotlib import pyplot as plt\n",
    "import cv2\n",
    "plt.rcParams['font.sans-serif']=['SimHei'] #使用中文字体"
   ]
  },
  {
   "cell_type": "markdown",
   "metadata": {},
   "source": [
    "特征检测"
   ]
  },
  {
   "cell_type": "markdown",
   "metadata": {},
   "source": [
    "读取图像，并转换为灰度图"
   ]
  },
  {
   "cell_type": "code",
   "execution_count": null,
   "metadata": {},
   "outputs": [],
   "source": [
    "img= cv2.imread('./images/helicopter.png')\n",
    "image= cv2.cvtColor(img.copy(),cv2.COLOR_BGR2RGB)\n",
    "gray = cv2.cvtColor(image.copy(),cv2.COLOR_RGB2GRAY)"
   ]
  },
  {
   "cell_type": "markdown",
   "metadata": {},
   "source": [
    "边缘检测"
   ]
  },
  {
   "cell_type": "code",
   "execution_count": null,
   "metadata": {},
   "outputs": [],
   "source": [
    "#50和100表示低阈值和高阈值，高阈值用来区分物体与背景,低阈值用来平滑连接高阈值部分\n",
    "edge = cv2.Canny(gray.copy(),50,100) "
   ]
  },
  {
   "cell_type": "markdown",
   "metadata": {},
   "source": [
    "角点检测"
   ]
  },
  {
   "cell_type": "code",
   "execution_count": null,
   "metadata": {},
   "outputs": [],
   "source": [
    "blockSize=3   #检测时使用的滑动窗口大小\n",
    "apertureSize=3 #计算像素梯度时，使用的sobel算子大小\n",
    "k=0.04         #评分阈值，一般取值在[0.04,0.06]之间\n",
    "dst = cv2.cornerHarris(gray.copy(),blockSize,apertureSize,k)\n",
    "dst = cv2.dilate(dst,None) #对图像进行膨胀,方便显示,与检测本身无关\n",
    "corner = image.copy()\n",
    "corner[dst>0.01*dst.max()]=[0,255,255] #将检测到的角点标记为红色"
   ]
  },
  {
   "cell_type": "markdown",
   "metadata": {},
   "source": [
    "区域检测"
   ]
  },
  {
   "cell_type": "code",
   "execution_count": null,
   "metadata": {},
   "outputs": [],
   "source": [
    "contours,_=cv2.findContours(gray,cv2.RETR_TREE,cv2.CHAIN_APPROX_NONE) \n",
    "area = image.copy()\n",
    "cv2.drawContours(area,contours,-1,(0,255,255),thickness=25) #标记检测到的区域"
   ]
  },
  {
   "cell_type": "markdown",
   "metadata": {},
   "source": [
    "显示检测结果"
   ]
  },
  {
   "cell_type": "code",
   "execution_count": null,
   "metadata": {},
   "outputs": [],
   "source": [
    "fig,ax = plt.subplots(2,2,figsize=(12,12))\n",
    "def ShowImg(id,title,img,cm = None):\n",
    "    ax=fig.add_subplot(2,2,id)\n",
    "    ax.imshow(img,plt.get_cmap(cm))\n",
    "    plt.title(title,fontsize=32)\n",
    "ShowImg(1,'原图',image);ShowImg(2,'边缘信息',edge,\"binary\")\n",
    "ShowImg(3,'角点信息',corner);ShowImg(4,'区域信息',area)"
   ]
  },
  {
   "cell_type": "code",
   "execution_count": null,
   "metadata": {},
   "outputs": [],
   "source": []
  }
 ],
 "metadata": {
  "celltoolbar": "Raw Cell Format",
  "kernelspec": {
   "display_name": "Python 3",
   "language": "python",
   "name": "python3"
  },
  "language_info": {
   "codemirror_mode": {
    "name": "ipython",
    "version": 3
   },
   "file_extension": ".py",
   "mimetype": "text/x-python",
   "name": "python",
   "nbconvert_exporter": "python",
   "pygments_lexer": "ipython3",
   "version": "3.7.9"
  }
 },
 "nbformat": 4,
 "nbformat_minor": 2
}
