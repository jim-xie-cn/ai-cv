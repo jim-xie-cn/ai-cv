{
 "cells": [
  {
   "cell_type": "markdown",
   "metadata": {
    "scrolled": true
   },
   "source": [
    "SIFT特征描述原理与实例\n",
    "\n",
    "作者：谢文伟\n",
    "\n",
    "邮件：jim.xie.cn@outlook.com\n",
    "\n",
    "主页：https://github.com/jim-xie-cn/ai-cv"
   ]
  },
  {
   "cell_type": "markdown",
   "metadata": {},
   "source": [
    "导入用到的开发库"
   ]
  },
  {
   "cell_type": "code",
   "execution_count": null,
   "metadata": {},
   "outputs": [],
   "source": [
    "from matplotlib import pyplot as plt\n",
    "import cv2\n",
    "plt.rcParams['font.sans-serif']=['SimHei'] #使用中文字体"
   ]
  },
  {
   "cell_type": "markdown",
   "metadata": {},
   "source": [
    "生成图像金字塔"
   ]
  },
  {
   "cell_type": "code",
   "execution_count": null,
   "metadata": {},
   "outputs": [],
   "source": [
    "img = cv2.imread('./images/bridge.jpg')\n",
    "image= cv2.cvtColor(img.copy(),cv2.COLOR_BGR2RGB)\n",
    "fig,ax = plt.subplots(1,4,figsize=(36,8))\n",
    "for i in range(4):\n",
    "    ax=fig.add_subplot(1,4,i+1)\n",
    "    ax.imshow(image)\n",
    "    title = \"尺寸:%dx%d\"%(img.shape[1],img.shape[0])\n",
    "    plt.title(title,fontsize=32)\n",
    "    image = cv2.pyrDown(image) "
   ]
  },
  {
   "cell_type": "markdown",
   "metadata": {},
   "source": [
    "生成高斯尺度空间"
   ]
  },
  {
   "cell_type": "code",
   "execution_count": null,
   "metadata": {},
   "outputs": [],
   "source": [
    "import cv2\n",
    "from matplotlib import pyplot as plt\n",
    "img = cv2.imread('./images/bridge.jpg')\n",
    "image= cv2.cvtColor(img.copy(),cv2.COLOR_BGR2RGB)\n",
    "#使用3x3和7x7的高斯核进行模糊操作\n",
    "low_sigma = cv2.GaussianBlur(image,(3,3),0)\n",
    "high_sigma = cv2.GaussianBlur(image,(5,5),0)\n",
    "#计算高斯差分图\n",
    "dog = low_sigma - high_sigma\n",
    "plt.imshow(dog)\n",
    "plt.show()\n",
    "plt.imshow(image)"
   ]
  },
  {
   "cell_type": "markdown",
   "metadata": {},
   "source": [
    "# 使用OpenCV提取SIFT特征"
   ]
  },
  {
   "cell_type": "markdown",
   "metadata": {},
   "source": [
    "导入用到的开发库"
   ]
  },
  {
   "cell_type": "code",
   "execution_count": null,
   "metadata": {},
   "outputs": [],
   "source": [
    "import cv2\n",
    "from matplotlib import pyplot as plt"
   ]
  },
  {
   "cell_type": "markdown",
   "metadata": {},
   "source": [
    "使用OpenCV提取SIFT特征"
   ]
  },
  {
   "cell_type": "code",
   "execution_count": null,
   "metadata": {
    "scrolled": true
   },
   "outputs": [],
   "source": [
    "img= cv2.imread('./images/bridge.jpg')\n",
    "image= cv2.cvtColor(img.copy(),cv2.COLOR_BGR2RGB)\n",
    "gray = cv2.cvtColor(image.copy(),cv2.COLOR_RGB2GRAY)\n",
    "#声明SIFT处理对象\n",
    "sift = cv2.xfeatures2d.SIFT_create()\n",
    "#找到关键点\n",
    "keypoints = sift.detect(gray,None)\n",
    "#得到关键点描述 \n",
    "keypoints,features = sift.compute(gray,keypoints) \n",
    "#绘制关键点\n",
    "img=cv2.drawKeypoints(image,keypoints,image,\n",
    "                      color=(0, 255, 0),\n",
    "                      flags=cv2.DRAW_MATCHES_FLAGS_DRAW_RICH_KEYPOINTS)"
   ]
  },
  {
   "cell_type": "markdown",
   "metadata": {},
   "source": [
    "显示结果"
   ]
  },
  {
   "cell_type": "code",
   "execution_count": null,
   "metadata": {},
   "outputs": [],
   "source": [
    "plt.imshow(img)\n",
    "plt.show()\n",
    "print(\"特征向量\",features.shape)"
   ]
  },
  {
   "cell_type": "code",
   "execution_count": null,
   "metadata": {},
   "outputs": [],
   "source": []
  }
 ],
 "metadata": {
  "celltoolbar": "Raw Cell Format",
  "kernelspec": {
   "display_name": "Python 3",
   "language": "python",
   "name": "python3"
  },
  "language_info": {
   "codemirror_mode": {
    "name": "ipython",
    "version": 3
   },
   "file_extension": ".py",
   "mimetype": "text/x-python",
   "name": "python",
   "nbconvert_exporter": "python",
   "pygments_lexer": "ipython3",
   "version": "3.7.9"
  }
 },
 "nbformat": 4,
 "nbformat_minor": 2
}
