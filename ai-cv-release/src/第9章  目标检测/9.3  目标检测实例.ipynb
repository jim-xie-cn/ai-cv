{
 "cells": [
  {
   "cell_type": "markdown",
   "metadata": {
    "id": "IDY8O8Z0cHe5"
   },
   "source": [
    "人脸检测演示程序\n",
    "\n",
    "作者：谢文伟\n",
    "\n",
    "邮件：jim.xie.cn@outlook.com\n",
    "\n",
    "主页：https://github.com/jim-xie-cn/ai-cv"
   ]
  },
  {
   "cell_type": "markdown",
   "metadata": {},
   "source": [
    "# 导入库"
   ]
  },
  {
   "cell_type": "code",
   "execution_count": null,
   "metadata": {
    "id": "Zzh1wzKGcHe5"
   },
   "outputs": [],
   "source": [
    "import matplotlib.pyplot as plt\n",
    "import numpy as np\n",
    "import cv2\n",
    "from skimage import data,color,feature,transform\n",
    "from sklearn.feature_extraction.image import PatchExtractor\n",
    "from sklearn.datasets import fetch_lfw_people\n",
    "from sklearn.svm import LinearSVC\n",
    "from sklearn.model_selection import GridSearchCV\n",
    "import dlib\n",
    "from mtcnn.mtcnn import MTCNN"
   ]
  },
  {
   "cell_type": "markdown",
   "metadata": {
    "id": "S6C5_a8VcHe6"
   },
   "source": [
    "# 创建人脸二分类器"
   ]
  },
  {
   "cell_type": "raw",
   "metadata": {
    "id": "2SRH11TkcHe6"
   },
   "source": [
    "#获取正训练样本"
   ]
  },
  {
   "cell_type": "code",
   "execution_count": null,
   "metadata": {
    "id": "iZ359WSRcHe6",
    "outputId": "10659cb0-85a0-4e1d-fc6b-7ea34750d5fb"
   },
   "outputs": [],
   "source": [
    "#从lfw数据集上获取人脸图片，做为训练的正例\n",
    "faces = fetch_lfw_people()\n",
    "samples_with_face = faces.images\n",
    "print(\"正例样本数量: \",samples_with_face.shape[0])\n",
    "print(\"图像尺寸(WxH): %dx%d\"%(samples_with_face.shape[2],samples_with_face.shape[1]))\n",
    "#显示正例样本的前96张图片\n",
    "plt.style.use({'figure.figsize':(8, 6)})\n",
    "fig, ax = plt.subplots(8, 12)\n",
    "for i, axi in enumerate(ax.flat):\n",
    "    axi.imshow(samples_with_face[ i], cmap='gray',interpolation='none')\n",
    "    axi.axis('off')"
   ]
  },
  {
   "cell_type": "raw",
   "metadata": {
    "id": "W95ZBbHLcHe6"
   },
   "source": [
    "生成负训练样本"
   ]
  },
  {
   "cell_type": "code",
   "execution_count": null,
   "metadata": {
    "id": "9VLEMTs_cHe6"
   },
   "outputs": [],
   "source": [
    "#使用sickit-image内置（不含头像）的图像作为负例样本\n",
    "skimg_without_face = ['text','coins','moon','page','clock',\n",
    "                      'immunohistochemistry','chelsea','coffee', \n",
    "                      'hubble_deep_field','checkerboard']\n",
    "images = [color.rgb2gray(getattr(data, name)()) for name in skimg_without_face]\n",
    "#由于内置图片太少，使用PatchExtractor在原图基础上生成更多图片作为负例样本\n",
    "def generate_patches(img, count, scale=1.0):\n",
    "    extractor = PatchExtractor(patch_size=samples_with_face[0].shape,max_patches=count)\n",
    "    patches = extractor.transform(img[np.newaxis])\n",
    "    if scale != 1:\n",
    "        patches = np.array([transform.resize(patch,samples_with_face[0].shape) for patch in patches])\n",
    "    return patches\n",
    "samples_without_face = np.array([])\n",
    "for im in images :\n",
    "    for scale in [0.5, 0.75,1.0, 1.5,2.0]:\n",
    "        batch = generate_patches(im, 1000, scale)\n",
    "        if not samples_without_face.any():\n",
    "            samples_without_face = np.array(batch)\n",
    "        else:\n",
    "            samples_without_face = np.vstack((samples_without_face,batch))\n",
    "print(\"负例样本数量: \",samples_without_face.shape[0])\n",
    "print(\"图像尺寸(WxH): %dx%d\"%(samples_without_face.shape[2],samples_without_face.shape[1]))\n",
    "#显示负例样本中96张图片\n",
    "plt.style.use({'figure.figsize':(8, 6)})\n",
    "fig, ax = plt.subplots(8, 12)\n",
    "for i, axi in enumerate(ax.flat):\n",
    "    axi.imshow(samples_without_face[500 * i], cmap='gray')\n",
    "    axi.axis('off')"
   ]
  },
  {
   "cell_type": "markdown",
   "metadata": {
    "id": "uYObslpecHe6"
   },
   "source": [
    "生成训练所需的数据集"
   ]
  },
  {
   "cell_type": "code",
   "execution_count": null,
   "metadata": {
    "id": "jMfzOLG8cHe6"
   },
   "outputs": [],
   "source": [
    "#将正例和负例样本合并到all_samples数组中\n",
    "all_samples = np.vstack((samples_with_face,samples_without_face))\n",
    "X_train = []\n",
    "#提取HOG特征并生成数据集\n",
    "for im in all_samples:\n",
    "    X_train.append(feature.hog(im))\n",
    "X_train = np.array(X_train)\n",
    "#带有人脸图像的标签设为1,不带有人脸图像的标签设为0\n",
    "Y_train = np.zeros(all_samples.shape[0])\n",
    "Y_train[:samples_with_face.shape[0]] = 1\n",
    "print(\"数据集中的样本数量\",X_train.shape[0])"
   ]
  },
  {
   "cell_type": "markdown",
   "metadata": {
    "id": "RDOUMrLHcHe7"
   },
   "source": [
    "使用SVM进行训练，得到人脸二分类模型"
   ]
  },
  {
   "cell_type": "code",
   "execution_count": null,
   "metadata": {},
   "outputs": [],
   "source": [
    "#选择线性SVM(LinearSVC)作为分类模型\n",
    "svc = LinearSVC()\n",
    "#使用网格搜索寻找最优参数\n",
    "model_grid = GridSearchCV(svc,{'C': [0.5, 1.0, 1.5, 2.0]})\n",
    "print(\"正在训练，需要时间较长，请稍后...\")\n",
    "model_grid.fit(X_train, Y_train)\n",
    "print(\"最优模型得分：\",model_grid.best_score_,\"最优模型参数：\",model_grid.best_params_)\n",
    "model = model_grid.best_estimator_"
   ]
  },
  {
   "cell_type": "markdown",
   "metadata": {
    "id": "kYCZ96ohcHe7"
   },
   "source": [
    "# 人脸初检"
   ]
  },
  {
   "cell_type": "markdown",
   "metadata": {},
   "source": [
    "定义滑动窗口函数"
   ]
  },
  {
   "cell_type": "code",
   "execution_count": null,
   "metadata": {},
   "outputs": [],
   "source": [
    "#根据指定的步长和窗口大小，遍历图像，取出HOG特征\n",
    "def sliding_window(image, stepSize, windowSize):\n",
    "    for y in range(0, image.shape[0], stepSize[1]):\n",
    "        for x in range(0, image.shape[1], stepSize[0]):\n",
    "            region = image[y:y+windowSize[0], x:x+windowSize[1]]\n",
    "            region = transform.resize(region, windowSize)\n",
    "            region_hog = feature.hog(region) \n",
    "            yield ((x, y, x + windowSize[1],y+windowSize[0]),region,region_hog)"
   ]
  },
  {
   "cell_type": "raw",
   "metadata": {},
   "source": [
    "识别人脸区域"
   ]
  },
  {
   "cell_type": "code",
   "execution_count": null,
   "metadata": {},
   "outputs": [],
   "source": [
    "#读取图像，转换为灰度图并调整至统一的大小\n",
    "img = cv2.imread('./images/boy.jpg')\n",
    "gray = color.rgb2gray(img)\n",
    "gray = transform.resize(gray,(120,100))\n",
    "#使用滑动窗口，提取图像中不同区域的HOG特征\n",
    "rects, region_img,regions_hog = zip(*sliding_window(gray,stepSize=(2,2), windowSize=(62,47)))\n",
    "#使用训练好的SVM模型，对每个区域进行识别\n",
    "predict_regions = model.predict(regions_hog)\n",
    "face_index = np.argwhere(predict_regions == 1)\n",
    "print(\"待检图像尺寸:%dx%d\"%(gray.shape[0],gray.shape[1]),\"滑动窗口尺寸:47x62\",\"移动步长:2x2\")\n",
    "print(\"待检区域（共%d个）\"%len(rects))"
   ]
  },
  {
   "cell_type": "markdown",
   "metadata": {},
   "source": [
    "可视化初检结果"
   ]
  },
  {
   "cell_type": "code",
   "execution_count": null,
   "metadata": {},
   "outputs": [],
   "source": [
    "#显示滑动窗口扫描的区域\n",
    "plt.style.use({'figure.figsize':(8, 6)})\n",
    "fig, ax = plt.subplots(8, 12)\n",
    "for i, axi in enumerate(ax.flat):\n",
    "    axi.imshow(region_img[i], cmap='gray')\n",
    "    axi.axis('off')\n",
    "plt.show()\n",
    "#显示可能存在人脸的区域\n",
    "print(\"检测到的人脸区域（共%d个）\"%len(face_index))\n",
    "fig, ax = plt.subplots()\n",
    "img1 = cv2.imread('./images/boy.jpg')\n",
    "img1= cv2.cvtColor(img1.copy(),cv2.COLOR_BGR2RGB)\n",
    "img1 = transform.resize(img1,(120,100))\n",
    "ax.imshow(img1)\n",
    "for i in np.squeeze(face_index):\n",
    "    (x1,y1,x2,y2) = rects[i]\n",
    "    ax.add_patch(plt.Rectangle((x1,y1),x2-x1,y2-y1,edgecolor='red',lw=1,facecolor='none'))\n",
    "    ax.axis('off')"
   ]
  },
  {
   "cell_type": "raw",
   "metadata": {},
   "source": [
    "# 生成图像金字塔"
   ]
  },
  {
   "cell_type": "code",
   "execution_count": null,
   "metadata": {},
   "outputs": [],
   "source": [
    "img = cv2.imread('./images/boy.jpg')\n",
    "img= cv2.cvtColor(img.copy(),cv2.COLOR_BGR2RGB)\n",
    "plt.style.use({'figure.figsize':(16, 12)})\n",
    "fig, ax = plt.subplots(1, 3)\n",
    "for i, axi in enumerate(ax.flat):\n",
    "    axi.imshow(img, cmap='gray')\n",
    "    axi.axis('off')\n",
    "    axi.set_title(\"%dx%d\"%(img.shape[1],img.shape[0]))\n",
    "    img = cv2.pyrDown(img)"
   ]
  },
  {
   "cell_type": "markdown",
   "metadata": {},
   "source": [
    "# 初检结果修正"
   ]
  },
  {
   "cell_type": "raw",
   "metadata": {},
   "source": [
    "定义NMS算法的实现函数"
   ]
  },
  {
   "cell_type": "code",
   "execution_count": null,
   "metadata": {},
   "outputs": [],
   "source": [
    " def nms(boxes, threshold):\n",
    "    if boxes.size == 0:\n",
    "        return np.empty((0, 3))\n",
    "    x1,y1,x2,y2,s = boxes[:,0],boxes[:,1],boxes[:,2],boxes[:,3],boxes[:,4]\n",
    "    area = (x2 - x1 + 1) * (y2 - y1 + 1)\n",
    "    sorted_s = np.argsort(s)\n",
    "    pick = np.zeros_like(s, dtype=np.int16)\n",
    "    counter = 0\n",
    "    while sorted_s.size > 0:\n",
    "        i = sorted_s[-1]\n",
    "        pick[counter] = i\n",
    "        counter += 1\n",
    "        idx = sorted_s[0:-1]\n",
    "        xx1,yy1 = np.maximum(x1[i], x1[idx]),np.maximum(y1[i], y1[idx]),\n",
    "        xx2,yy2 = np.minimum(x2[i], x2[idx]),np.minimum(y2[i], y2[idx])\n",
    "        w,h = np.maximum(0.0, xx2 - xx1 + 1),np.maximum(0.0, yy2 - yy1 + 1)\n",
    "        inter = w * h\n",
    "        o = inter / (area[i] + area[idx] - inter)\n",
    "        sorted_s = sorted_s[np.where(o <= threshold)]\n",
    "    pick = pick[0:counter]\n",
    "    return pick"
   ]
  },
  {
   "cell_type": "markdown",
   "metadata": {},
   "source": [
    "使用NMS去掉重复的人脸区域"
   ]
  },
  {
   "cell_type": "code",
   "execution_count": null,
   "metadata": {},
   "outputs": [],
   "source": [
    "#取出模型分类的分值，该分值表示该区域存在人脸的概率\n",
    "scores= model.decision_function(regions_hog) \n",
    "#使用NMS算法去重，阈值threshold设置为0.9\n",
    "boxes_list = []\n",
    "for i in np.squeeze(face_index):\n",
    "    (x1,y1,x2,y2) = rects[i]\n",
    "    s = scores[i]\n",
    "    if s > 0.9:\n",
    "        boxes_list.append((x1,y1,x2,y2,s))\n",
    "boxes_list = np.squeeze(np.array(boxes_list))\n",
    "best_boxes = nms(boxes_list,0.1)\n",
    "#显示去重后的结果\n",
    "fig, ax = plt.subplots()\n",
    "img1 = cv2.imread('./images/boy.jpg')\n",
    "img1= cv2.cvtColor(img1.copy(),cv2.COLOR_BGR2RGB)\n",
    "img1 = transform.resize(img1,(120,100))\n",
    "ax.imshow(img1)\n",
    "for i in best_boxes:\n",
    "    (x1,y1,x2,y2,s) = boxes_list[i]\n",
    "    ax.add_patch(plt.Rectangle((x1,y1),x2-x1,y2-y1,edgecolor='red',lw=1,facecolor='none'))\n",
    "    ax.axis('off')\n",
    "plt.show()"
   ]
  },
  {
   "cell_type": "markdown",
   "metadata": {},
   "source": [
    "# 10.3.4  使用开源模型实现人脸检测"
   ]
  },
  {
   "cell_type": "raw",
   "metadata": {},
   "source": [
    "# Haar Cascade人脸检测"
   ]
  },
  {
   "cell_type": "code",
   "execution_count": null,
   "metadata": {},
   "outputs": [],
   "source": [
    "face_cascade = cv2.CascadeClassifier(cv2.data.haarcascades+'haarcascade_frontalface_default.xml')\n",
    "img = cv2.imread('./images/boy.jpg')\n",
    "img= cv2.cvtColor(img.copy(),cv2.COLOR_BGR2RGB)\n",
    "gray = cv2.cvtColor(img, cv2.COLOR_BGR2GRAY)\n",
    "faces = face_cascade.detectMultiScale(gray)\n",
    "for (x,y,w,h) in faces:\n",
    "    img = cv2.rectangle(img,(x,y),(x+w,y+h),(255,0,0),2)\n",
    "plt.imshow(img.squeeze())\n",
    "plt.axis('off') "
   ]
  },
  {
   "cell_type": "raw",
   "metadata": {},
   "source": [
    "# HOG SVM检测"
   ]
  },
  {
   "cell_type": "code",
   "execution_count": null,
   "metadata": {},
   "outputs": [],
   "source": [
    "image = cv2.imread('./images/boy.jpg')\n",
    "gray = cv2.cvtColor(image, cv2.COLOR_BGR2GRAY)\n",
    "img = cv2.cvtColor(image, cv2.COLOR_BGR2RGB)\n",
    "hogFaceDetector = dlib.get_frontal_face_detector()\n",
    "faces = hogFaceDetector(gray, 1)\n",
    "for (i, rect) in enumerate(faces):\n",
    "    x1,y1,x2,y2 = rect.left(),rect.top(),rect.right(),rect.bottom()\n",
    "    cv2.rectangle(img, (x1, y1), (x2,y2), (255, 0, 0), 2)\n",
    "plt.imshow(img.squeeze())\n",
    "plt.axis('off') "
   ]
  },
  {
   "cell_type": "raw",
   "metadata": {},
   "source": [
    "# MTCNN检测"
   ]
  },
  {
   "cell_type": "code",
   "execution_count": null,
   "metadata": {},
   "outputs": [],
   "source": [
    "detector = MTCNN()\n",
    "img = cv2.imread('./images/boy.jpg')\n",
    "img= cv2.cvtColor(image.copy(),cv2.COLOR_BGR2RGB)\n",
    "faces = detector.detect_faces(img)# result\n",
    "for result in faces:\n",
    "    x, y, w, h = result['box']\n",
    "    cv2.rectangle(img, (x, y), (x + w, y + h), (255, 0, 0), 2)\n",
    "plt.imshow(img.squeeze(),cmap='gray')\n",
    "plt.axis('off') "
   ]
  }
 ],
 "metadata": {
  "colab": {
   "name": "05.14-Image-Features.ipynb",
   "provenance": [],
   "toc_visible": true
  },
  "kernelspec": {
   "display_name": "Python 3",
   "language": "python",
   "name": "python3"
  },
  "language_info": {
   "codemirror_mode": {
    "name": "ipython",
    "version": 3
   },
   "file_extension": ".py",
   "mimetype": "text/x-python",
   "name": "python",
   "nbconvert_exporter": "python",
   "pygments_lexer": "ipython3",
   "version": "3.7.9"
  }
 },
 "nbformat": 4,
 "nbformat_minor": 1
}
