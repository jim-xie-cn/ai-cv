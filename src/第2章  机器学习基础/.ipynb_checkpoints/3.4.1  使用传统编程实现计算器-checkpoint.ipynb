{
 "cells": [
  {
   "cell_type": "markdown",
   "metadata": {},
   "source": [
    "使用传统编程方式实现计算器\n",
    "\n",
    "作者：谢文伟\n",
    "\n",
    "邮件：xiewenwei@sina.com\n",
    "\n",
    "主页：https://github.com/jimxie2012/ai-cv"
   ]
  },
  {
   "cell_type": "markdown",
   "metadata": {},
   "source": [
    "设计并实现四则运算函数"
   ]
  },
  {
   "cell_type": "code",
   "execution_count": 1,
   "metadata": {},
   "outputs": [],
   "source": [
    "def add(x,y):\n",
    "    return x+y\n",
    "def sub(x,y):\n",
    "    return x-y\n",
    "def mul(x,y):\n",
    "    return x*y\n",
    "def div(x,y):\n",
    "    return x/y"
   ]
  },
  {
   "cell_type": "markdown",
   "metadata": {},
   "source": [
    "执行程序，根据指令，调用处理函数"
   ]
  },
  {
   "cell_type": "code",
   "execution_count": 2,
   "metadata": {},
   "outputs": [
    {
     "name": "stdout",
     "output_type": "stream",
     "text": [
      "请输入命令：1+1\n",
      "1+1 = 2.0\n"
     ]
    }
   ],
   "source": [
    "cmd = input(\"请输入命令：\") #(如1+2或1*2或1/2或1-2格式）\n",
    "if cmd.find(\"+\") > 0:\n",
    "    data = cmd.split(\"+\")\n",
    "    print(cmd,\"=\",add(float(data[0]),float(data[1])))\n",
    "elif cmd.find(\"-\") > 0:\n",
    "    data = cmd.split(\"-\")\n",
    "    print(cmd,\"=\",sub(float(data[0]),float(data[1])))\n",
    "elif cmd.find(\"*\") > 0:\n",
    "    data = cmd.split(\"*\")\n",
    "    print(cmd,\"=\",mul(float(data[0]),float(data[1])))\n",
    "elif cmd.find(\"/\") > 0:\n",
    "    data = cmd.split(\"/\")\n",
    "    print(cmd,\"=\",div(float(data[0]),float(data[1])))"
   ]
  }
 ],
 "metadata": {
  "kernelspec": {
   "display_name": "Python 3",
   "language": "python",
   "name": "python3"
  },
  "language_info": {
   "codemirror_mode": {
    "name": "ipython",
    "version": 3
   },
   "file_extension": ".py",
   "mimetype": "text/x-python",
   "name": "python",
   "nbconvert_exporter": "python",
   "pygments_lexer": "ipython3",
   "version": "3.7.9"
  }
 },
 "nbformat": 4,
 "nbformat_minor": 4
}
