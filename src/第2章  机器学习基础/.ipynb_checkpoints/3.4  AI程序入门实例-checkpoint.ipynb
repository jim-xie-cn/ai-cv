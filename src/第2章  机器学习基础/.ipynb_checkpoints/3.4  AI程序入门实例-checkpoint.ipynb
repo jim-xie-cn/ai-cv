{
 "cells": [
  {
   "cell_type": "markdown",
   "metadata": {},
   "source": [
    "AI程序入门实例\n",
    "\n",
    "作者：谢文伟\n",
    "\n",
    "邮件：xiewenwei@sina.com\n",
    "\n",
    "主页：https://github.com/jimxie2012/ai-cv"
   ]
  },
  {
   "cell_type": "markdown",
   "metadata": {},
   "source": [
    "# 使用传统编程方式实现计算器"
   ]
  },
  {
   "cell_type": "markdown",
   "metadata": {},
   "source": [
    "设计并实现四则运算函数"
   ]
  },
  {
   "cell_type": "code",
   "execution_count": 1,
   "metadata": {},
   "outputs": [],
   "source": [
    "def add(x,y):\n",
    "    return x+y\n",
    "def sub(x,y):\n",
    "    return x-y\n",
    "def mul(x,y):\n",
    "    return x*y\n",
    "def div(x,y):\n",
    "    return x/y"
   ]
  },
  {
   "cell_type": "markdown",
   "metadata": {},
   "source": [
    "执行程序，根据指令，调用处理函数"
   ]
  },
  {
   "cell_type": "code",
   "execution_count": 2,
   "metadata": {},
   "outputs": [
    {
     "name": "stdout",
     "output_type": "stream",
     "text": [
      "请输入命令：1+1\n",
      "1+1 = 2.0\n"
     ]
    }
   ],
   "source": [
    "cmd = input(\"请输入命令：\") #(如1+2或1*2或1/2或1-2格式）\n",
    "if cmd.find(\"+\") > 0:\n",
    "    data = cmd.split(\"+\")\n",
    "    print(cmd,\"=\",add(float(data[0]),float(data[1])))\n",
    "elif cmd.find(\"-\") > 0:\n",
    "    data = cmd.split(\"-\")\n",
    "    print(cmd,\"=\",sub(float(data[0]),float(data[1])))\n",
    "elif cmd.find(\"*\") > 0:\n",
    "    data = cmd.split(\"*\")\n",
    "    print(cmd,\"=\",mul(float(data[0]),float(data[1])))\n",
    "elif cmd.find(\"/\") > 0:\n",
    "    data = cmd.split(\"/\")\n",
    "    print(cmd,\"=\",div(float(data[0]),float(data[1])))"
   ]
  },
  {
   "cell_type": "markdown",
   "metadata": {},
   "source": [
    "# AI计算器"
   ]
  },
  {
   "cell_type": "code",
   "execution_count": 3,
   "metadata": {},
   "outputs": [],
   "source": [
    "import pandas as pd\n",
    "import numpy as np\n",
    "import matplotlib.pyplot as plt\n",
    "from mpl_toolkits.mplot3d import Axes3D\n",
    "from sklearn.linear_model import Ridge\n",
    "from sklearn.preprocessing import PolynomialFeatures\n",
    "from sklearn.pipeline import make_pipeline\n",
    "from warnings import filterwarnings\n",
    "filterwarnings('ignore')"
   ]
  },
  {
   "cell_type": "markdown",
   "metadata": {},
   "source": [
    "# 生成训练集和测试集"
   ]
  },
  {
   "cell_type": "raw",
   "metadata": {},
   "source": [
    "训练集：随机生成20000组数为训练样本（相当于输入样本X1，X2），设置标签为加、减、乘、除运算后的值（相当于预测标签Y）\n",
    "测试集：随机生成50组数作为测试样本（相当于输入样本X1，X2），设置标签为加、减、乘、除运算后的值（相当于预测标签Y）"
   ]
  },
  {
   "cell_type": "code",
   "execution_count": 4,
   "metadata": {},
   "outputs": [],
   "source": [
    "train_x = np.random.randint(1, 100, (20000, 2))\n",
    "train_add = train_x[:,0]+train_x[:,1]\n",
    "train_sub = train_x[:,0]-train_x[:,1]\n",
    "train_mul = train_x[:,0]*train_x[:,1]\n",
    "train_div = train_x[:,0]/train_x[:,1]\n",
    "test_x = np.random.randint(1, 100, (50, 2))\n",
    "test_add = test_x[:,0]+test_x[:,1]\n",
    "test_sub = test_x[:,0]-test_x[:,1]\n",
    "test_mul = test_x[:,0]*test_x[:,1]\n",
    "test_div = test_x[:,0]/test_x[:,1]"
   ]
  },
  {
   "cell_type": "markdown",
   "metadata": {},
   "source": [
    "# 显示训练样本"
   ]
  },
  {
   "cell_type": "code",
   "execution_count": 5,
   "metadata": {},
   "outputs": [
    {
     "data": {
      "text/html": [
       "<div>\n",
       "<style scoped>\n",
       "    .dataframe tbody tr th:only-of-type {\n",
       "        vertical-align: middle;\n",
       "    }\n",
       "\n",
       "    .dataframe tbody tr th {\n",
       "        vertical-align: top;\n",
       "    }\n",
       "\n",
       "    .dataframe thead th {\n",
       "        text-align: right;\n",
       "    }\n",
       "</style>\n",
       "<table border=\"1\" class=\"dataframe\">\n",
       "  <thead>\n",
       "    <tr style=\"text-align: right;\">\n",
       "      <th></th>\n",
       "      <th>输入(X1)</th>\n",
       "      <th>输入(X2)</th>\n",
       "      <th>预测标签(Y,加法)</th>\n",
       "      <th>预测标签(Y,减法)</th>\n",
       "      <th>预测标签(Y,乘法)</th>\n",
       "      <th>预测标签(Y,除法)</th>\n",
       "    </tr>\n",
       "  </thead>\n",
       "  <tbody>\n",
       "    <tr>\n",
       "      <th>0</th>\n",
       "      <td>30</td>\n",
       "      <td>55</td>\n",
       "      <td>85</td>\n",
       "      <td>-25</td>\n",
       "      <td>1650</td>\n",
       "      <td>0.545455</td>\n",
       "    </tr>\n",
       "    <tr>\n",
       "      <th>1</th>\n",
       "      <td>34</td>\n",
       "      <td>57</td>\n",
       "      <td>91</td>\n",
       "      <td>-23</td>\n",
       "      <td>1938</td>\n",
       "      <td>0.596491</td>\n",
       "    </tr>\n",
       "    <tr>\n",
       "      <th>2</th>\n",
       "      <td>34</td>\n",
       "      <td>62</td>\n",
       "      <td>96</td>\n",
       "      <td>-28</td>\n",
       "      <td>2108</td>\n",
       "      <td>0.548387</td>\n",
       "    </tr>\n",
       "    <tr>\n",
       "      <th>3</th>\n",
       "      <td>89</td>\n",
       "      <td>92</td>\n",
       "      <td>181</td>\n",
       "      <td>-3</td>\n",
       "      <td>8188</td>\n",
       "      <td>0.967391</td>\n",
       "    </tr>\n",
       "    <tr>\n",
       "      <th>4</th>\n",
       "      <td>44</td>\n",
       "      <td>15</td>\n",
       "      <td>59</td>\n",
       "      <td>29</td>\n",
       "      <td>660</td>\n",
       "      <td>2.933333</td>\n",
       "    </tr>\n",
       "    <tr>\n",
       "      <th>5</th>\n",
       "      <td>79</td>\n",
       "      <td>53</td>\n",
       "      <td>132</td>\n",
       "      <td>26</td>\n",
       "      <td>4187</td>\n",
       "      <td>1.490566</td>\n",
       "    </tr>\n",
       "    <tr>\n",
       "      <th>6</th>\n",
       "      <td>93</td>\n",
       "      <td>77</td>\n",
       "      <td>170</td>\n",
       "      <td>16</td>\n",
       "      <td>7161</td>\n",
       "      <td>1.207792</td>\n",
       "    </tr>\n",
       "    <tr>\n",
       "      <th>7</th>\n",
       "      <td>53</td>\n",
       "      <td>49</td>\n",
       "      <td>102</td>\n",
       "      <td>4</td>\n",
       "      <td>2597</td>\n",
       "      <td>1.081633</td>\n",
       "    </tr>\n",
       "    <tr>\n",
       "      <th>8</th>\n",
       "      <td>62</td>\n",
       "      <td>75</td>\n",
       "      <td>137</td>\n",
       "      <td>-13</td>\n",
       "      <td>4650</td>\n",
       "      <td>0.826667</td>\n",
       "    </tr>\n",
       "    <tr>\n",
       "      <th>9</th>\n",
       "      <td>87</td>\n",
       "      <td>41</td>\n",
       "      <td>128</td>\n",
       "      <td>46</td>\n",
       "      <td>3567</td>\n",
       "      <td>2.121951</td>\n",
       "    </tr>\n",
       "  </tbody>\n",
       "</table>\n",
       "</div>"
      ],
      "text/plain": [
       "   输入(X1)  输入(X2)  预测标签(Y,加法)  预测标签(Y,减法)  预测标签(Y,乘法)  预测标签(Y,除法)\n",
       "0      30      55          85         -25        1650    0.545455\n",
       "1      34      57          91         -23        1938    0.596491\n",
       "2      34      62          96         -28        2108    0.548387\n",
       "3      89      92         181          -3        8188    0.967391\n",
       "4      44      15          59          29         660    2.933333\n",
       "5      79      53         132          26        4187    1.490566\n",
       "6      93      77         170          16        7161    1.207792\n",
       "7      53      49         102           4        2597    1.081633\n",
       "8      62      75         137         -13        4650    0.826667\n",
       "9      87      41         128          46        3567    2.121951"
      ]
     },
     "execution_count": 5,
     "metadata": {},
     "output_type": "execute_result"
    }
   ],
   "source": [
    "df = pd.DataFrame()\n",
    "df['输入(X1)'] = pd.Series(train_x[:,0])\n",
    "df['输入(X2)'] = pd.Series(train_x[:,1])\n",
    "df['预测标签(Y,加法)'] = pd.Series(train_add)\n",
    "df['预测标签(Y,减法)'] = pd.Series(train_sub)\n",
    "df['预测标签(Y,乘法)'] = pd.Series(train_mul)\n",
    "df['预测标签(Y,除法)'] = pd.Series(train_div)\n",
    "df.head(10)"
   ]
  },
  {
   "cell_type": "code",
   "execution_count": 6,
   "metadata": {},
   "outputs": [
    {
     "data": {
      "image/png": "[encoded data removed]",
      "text/plain": [
       "<Figure size 432x288 with 1 Axes>"
      ]
     },
     "metadata": {
      "needs_background": "light"
     },
     "output_type": "display_data"
    }
   ],
   "source": [
    "fig = plt.figure()\n",
    "ax = Axes3D(fig)\n",
    "ax.scatter(df['输入(X1)'], df['输入(X2)'], df['预测标签(Y,除法)'],depthshade=True,s=600,c='r')\n",
    "ax.ticklabel_format(style='plain',axis='both')    \n",
    "ax.set_xlabel(\"X1\",labelpad=20)\n",
    "ax.set_ylabel(\"X2\",labelpad=20)\n",
    "ax.set_zlabel(\"Y\",labelpad=20)\n",
    "plt.show()"
   ]
  },
  {
   "cell_type": "markdown",
   "metadata": {},
   "source": [
    "# 选择模型，进行训练"
   ]
  },
  {
   "cell_type": "raw",
   "metadata": {},
   "source": [
    "使用多项式+岭回归模型（多项式阶数为10）进行训练"
   ]
  },
  {
   "cell_type": "code",
   "execution_count": 7,
   "metadata": {},
   "outputs": [],
   "source": [
    "def model_train(x_train,y_train):\n",
    "    model = make_pipeline(PolynomialFeatures(10), Ridge())\n",
    "    model.fit(x_train,y_train)\n",
    "    return model"
   ]
  },
  {
   "cell_type": "markdown",
   "metadata": {},
   "source": [
    "# 自定义模型预测和评估函数"
   ]
  },
  {
   "cell_type": "raw",
   "metadata": {},
   "source": [
    "模型预测函数"
   ]
  },
  {
   "cell_type": "code",
   "execution_count": 8,
   "metadata": {},
   "outputs": [],
   "source": [
    "def model_pred(model,x_test,y_test):\n",
    "    pred_y = model.predict(x_test)\n",
    "    score = np.sqrt(np.mean((y_test-pred_y)**2))\n",
    "    return pred_y,score"
   ]
  },
  {
   "cell_type": "raw",
   "metadata": {},
   "source": [
    "模型评估和结果可视化函数"
   ]
  },
  {
   "cell_type": "code",
   "execution_count": 9,
   "metadata": {},
   "outputs": [],
   "source": [
    "plt.style.use({'figure.figsize':(8, 4)})\n",
    "def show_result(title,model,x_test,y_test):\n",
    "    pred_y,score = model_pred(model,x_test,y_test)\n",
    "    plt.title(\"%s\\n(model error :%f)\"%(title,score))\n",
    "    x = np.linspace(0,len(x_test))\n",
    "    p1 = plt.plot(x, y_test,label='real value')\n",
    "    p2 = plt.plot(x, pred_y,label='pred value')\n",
    "    plt.legend([p1, p2], labels=[\"real value\", \"pred value\"])\n",
    "    plt.show()"
   ]
  },
  {
   "cell_type": "markdown",
   "metadata": {},
   "source": [
    "# 模型评估"
   ]
  },
  {
   "cell_type": "raw",
   "metadata": {},
   "source": [
    "在测试集上对模型误差进行评估"
   ]
  },
  {
   "cell_type": "code",
   "execution_count": 10,
   "metadata": {},
   "outputs": [
    {
     "ename": "NameError",
     "evalue": "name 'PolynomialFeatures' is not defined",
     "output_type": "error",
     "traceback": [
      "\u001b[0;31m---------------------------------------------------------------------------\u001b[0m",
      "\u001b[0;31mNameError\u001b[0m                                 Traceback (most recent call last)",
      "\u001b[0;32m<ipython-input-10-d0c79f19a2fd>\u001b[0m in \u001b[0;36m<module>\u001b[0;34m\u001b[0m\n\u001b[0;32m----> 1\u001b[0;31m \u001b[0mmodel\u001b[0m \u001b[0;34m=\u001b[0m \u001b[0mmodel_train\u001b[0m\u001b[0;34m(\u001b[0m\u001b[0mtrain_x\u001b[0m\u001b[0;34m,\u001b[0m\u001b[0mtrain_add\u001b[0m\u001b[0;34m)\u001b[0m\u001b[0;34m\u001b[0m\u001b[0;34m\u001b[0m\u001b[0m\n\u001b[0m\u001b[1;32m      2\u001b[0m \u001b[0mshow_result\u001b[0m\u001b[0;34m(\u001b[0m\u001b[0;34m\"Add Operation\"\u001b[0m\u001b[0;34m,\u001b[0m\u001b[0mmodel\u001b[0m\u001b[0;34m,\u001b[0m\u001b[0mtest_x\u001b[0m\u001b[0;34m,\u001b[0m\u001b[0mtest_add\u001b[0m\u001b[0;34m)\u001b[0m\u001b[0;34m\u001b[0m\u001b[0;34m\u001b[0m\u001b[0m\n\u001b[1;32m      3\u001b[0m \u001b[0mmodel\u001b[0m \u001b[0;34m=\u001b[0m \u001b[0mmodel_train\u001b[0m\u001b[0;34m(\u001b[0m\u001b[0mtrain_x\u001b[0m\u001b[0;34m,\u001b[0m\u001b[0mtrain_sub\u001b[0m\u001b[0;34m)\u001b[0m\u001b[0;34m\u001b[0m\u001b[0;34m\u001b[0m\u001b[0m\n\u001b[1;32m      4\u001b[0m \u001b[0mshow_result\u001b[0m\u001b[0;34m(\u001b[0m\u001b[0;34m\"Subtraction\"\u001b[0m\u001b[0;34m,\u001b[0m\u001b[0mmodel\u001b[0m\u001b[0;34m,\u001b[0m\u001b[0mtest_x\u001b[0m\u001b[0;34m,\u001b[0m\u001b[0mtest_sub\u001b[0m\u001b[0;34m)\u001b[0m\u001b[0;34m\u001b[0m\u001b[0;34m\u001b[0m\u001b[0m\n\u001b[1;32m      5\u001b[0m \u001b[0mmodel\u001b[0m \u001b[0;34m=\u001b[0m \u001b[0mmodel_train\u001b[0m\u001b[0;34m(\u001b[0m\u001b[0mtrain_x\u001b[0m\u001b[0;34m,\u001b[0m\u001b[0mtrain_mul\u001b[0m\u001b[0;34m)\u001b[0m\u001b[0;34m\u001b[0m\u001b[0;34m\u001b[0m\u001b[0m\n",
      "\u001b[0;32m<ipython-input-7-925d340ea51a>\u001b[0m in \u001b[0;36mmodel_train\u001b[0;34m(x_train, y_train)\u001b[0m\n\u001b[1;32m      1\u001b[0m \u001b[0;32mdef\u001b[0m \u001b[0mmodel_train\u001b[0m\u001b[0;34m(\u001b[0m\u001b[0mx_train\u001b[0m\u001b[0;34m,\u001b[0m\u001b[0my_train\u001b[0m\u001b[0;34m)\u001b[0m\u001b[0;34m:\u001b[0m\u001b[0;34m\u001b[0m\u001b[0;34m\u001b[0m\u001b[0m\n\u001b[0;32m----> 2\u001b[0;31m     \u001b[0mmodel\u001b[0m \u001b[0;34m=\u001b[0m \u001b[0mmake_pipeline\u001b[0m\u001b[0;34m(\u001b[0m\u001b[0mPolynomialFeatures\u001b[0m\u001b[0;34m(\u001b[0m\u001b[0;36m10\u001b[0m\u001b[0;34m)\u001b[0m\u001b[0;34m,\u001b[0m \u001b[0mRidge\u001b[0m\u001b[0;34m(\u001b[0m\u001b[0;34m)\u001b[0m\u001b[0;34m)\u001b[0m\u001b[0;34m\u001b[0m\u001b[0;34m\u001b[0m\u001b[0m\n\u001b[0m\u001b[1;32m      3\u001b[0m     \u001b[0mmodel\u001b[0m\u001b[0;34m.\u001b[0m\u001b[0mfit\u001b[0m\u001b[0;34m(\u001b[0m\u001b[0mx_train\u001b[0m\u001b[0;34m,\u001b[0m\u001b[0my_train\u001b[0m\u001b[0;34m)\u001b[0m\u001b[0;34m\u001b[0m\u001b[0;34m\u001b[0m\u001b[0m\n\u001b[1;32m      4\u001b[0m     \u001b[0;32mreturn\u001b[0m \u001b[0mmodel\u001b[0m\u001b[0;34m\u001b[0m\u001b[0;34m\u001b[0m\u001b[0m\n",
      "\u001b[0;31mNameError\u001b[0m: name 'PolynomialFeatures' is not defined"
     ]
    }
   ],
   "source": [
    "model = model_train(train_x,train_add)\n",
    "show_result(\"Add Operation\",model,test_x,test_add)\n",
    "model = model_train(train_x,train_sub)\n",
    "show_result(\"Subtraction\",model,test_x,test_sub)\n",
    "model = model_train(train_x,train_mul)\n",
    "show_result(\"Multiplication\",model,test_x,test_mul)\n",
    "model = model_train(train_x,train_div)\n",
    "show_result(\"Division Operation\",model,test_x,test_div)"
   ]
  },
  {
   "cell_type": "markdown",
   "metadata": {},
   "source": [
    "# 使用模型进行预测"
   ]
  },
  {
   "cell_type": "raw",
   "metadata": {},
   "source": [
    "训练模型，并对输入数据进行加、减、乘、除运算"
   ]
  },
  {
   "cell_type": "code",
   "execution_count": null,
   "metadata": {},
   "outputs": [],
   "source": [
    "X1 = 15\n",
    "X2 = 30\n",
    "model = model_train(train_x,train_add)\n",
    "y = model.predict([[X1,X2]])\n",
    "print(\"加法模型计算结果：%d+%d = %f\"%(X1,X2,y[0]))\n",
    "model = model_train(train_x,train_sub)\n",
    "y = model.predict([[X1,X2]])\n",
    "print(\"减法模型计算结果：%d-%d = %f\"%(X1,X2,y[0]))\n",
    "model = model_train(train_x,train_mul)\n",
    "y = model.predict([[X1,X2]])\n",
    "print(\"乘法模型计算结果：%d*%d = %f\"%(X1,X2,y[0]))\n",
    "model = model_train(train_x,train_div)\n",
    "y = model.predict([[X1,X2]])\n",
    "print(\"除法模型计算结果：%d/%d = %f\"%(X1,X2,y[0]))"
   ]
  },
  {
   "cell_type": "code",
   "execution_count": null,
   "metadata": {},
   "outputs": [],
   "source": []
  }
 ],
 "metadata": {
  "kernelspec": {
   "display_name": "Python 3",
   "language": "python",
   "name": "python3"
  },
  "language_info": {
   "codemirror_mode": {
    "name": "ipython",
    "version": 3
   },
   "file_extension": ".py",
   "mimetype": "text/x-python",
   "name": "python",
   "nbconvert_exporter": "python",
   "pygments_lexer": "ipython3",
   "version": "3.7.9"
  }
 },
 "nbformat": 4,
 "nbformat_minor": 4
}
