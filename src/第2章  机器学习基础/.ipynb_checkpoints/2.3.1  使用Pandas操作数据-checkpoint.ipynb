{
 "cells": [
  {
   "cell_type": "markdown",
   "metadata": {},
   "source": [
    "使用Pandas操作数据\n",
    "\n",
    "作者：谢文伟\n",
    "\n",
    "邮件：jim.xie.cn@outlook.com\n",
    "\n",
    "主页：https://github.com/jim-xie-cn/ai-cv"
   ]
  },
  {
   "cell_type": "markdown",
   "metadata": {},
   "source": [
    "# Series"
   ]
  },
  {
   "cell_type": "raw",
   "metadata": {},
   "source": [
    "导入pandas包"
   ]
  },
  {
   "cell_type": "code",
   "execution_count": null,
   "metadata": {},
   "outputs": [],
   "source": [
    "import pandas as pd"
   ]
  },
  {
   "cell_type": "raw",
   "metadata": {},
   "source": [
    "创建Series"
   ]
  },
  {
   "cell_type": "code",
   "execution_count": null,
   "metadata": {},
   "outputs": [],
   "source": [
    "s1=pd.Series(data=[80,85,90])   #根据列表创建序列，自动索引\n",
    "s2=pd.Series(data=85,index=['语文','数学','英语']) #根据常量创建序列，指定索引\n",
    "s3=pd.Series(data=[80,85,90],index=['语文','数学','英语'])#根据列表创建序列，指定索引\n",
    "s4=pd.Series(data={'语文':80,'数学':85,'英语':90}) #根据字典创建序列\n",
    "print(\"根据列表创建，自动索引:\\n\",s1)\n",
    "print(\"根据标量创建，指定索引:\\n\",s2)\n",
    "print(\"根据列表创建，指定索引:\\n\",s3)\n",
    "print(\"根据字典创建:\\n\",s4)"
   ]
  },
  {
   "cell_type": "raw",
   "metadata": {},
   "source": [
    "切片"
   ]
  },
  {
   "cell_type": "code",
   "execution_count": null,
   "metadata": {},
   "outputs": [],
   "source": [
    "print(\"******显式切片******\\n\",s3.loc['语文':'数学'])\n",
    "print(\"******隐式切片******\\n\",s3.iloc[0:2])\n",
    "print(\"******取首部2个数据******\\n\",s3.head(2))\n",
    "print(\"******取尾部2个数据******\\n\",s3.tail(2))"
   ]
  },
  {
   "cell_type": "raw",
   "metadata": {},
   "source": [
    "# 遍历"
   ]
  },
  {
   "cell_type": "code",
   "execution_count": null,
   "metadata": {},
   "outputs": [],
   "source": [
    "print(\"Series长度:\",s3.size)\n",
    "print(\"Series索引列表:\",s3.index.tolist())\n",
    "print(\"Series数据列表:\",s3.tolist())\n",
    "for item in s3:\n",
    "    print(\"data:\",item)"
   ]
  },
  {
   "cell_type": "raw",
   "metadata": {},
   "source": [
    "对序列对象进行常规运算"
   ]
  },
  {
   "cell_type": "code",
   "execution_count": null,
   "metadata": {},
   "outputs": [],
   "source": [
    "print(\"根据指定索引相加:\",s3['语文']+s3['数学'])\n",
    "print(\"根据指定索引相减:\",s3['语文']-s3['数学'])\n",
    "print(\"根据行号索引相乘:\",s3[0]*s3[2])\n",
    "print(\"根据行号索引相除:\",s3[0]/s3[2])\n",
    "s3['语文']=55   #根据索引赋值\n",
    "s3[1] = 65     #根据行号赋值\n",
    "s3.drop([\"语文\",\"英语\"],inplace=True) #删除指定行\n",
    "print(\"修改后的Series:\",s3)"
   ]
  },
  {
   "cell_type": "markdown",
   "metadata": {},
   "source": [
    "# DataFrame"
   ]
  },
  {
   "cell_type": "raw",
   "metadata": {},
   "source": [
    "创建数据帧"
   ]
  },
  {
   "cell_type": "code",
   "execution_count": null,
   "metadata": {
    "scrolled": true
   },
   "outputs": [],
   "source": [
    "df1=pd.DataFrame({'年龄':[20,30,40,50],'收入':[24,30,40,30]}) #根据字典创建数据帧\n",
    "s1 = pd.Series([20,30,40,50]) \n",
    "s2 = pd.Series([24,30,40,30])             \n",
    "df2=pd.DataFrame({'年龄':s1,'收入':s2})#根据序列创建数据帧\n",
    "print(\"---根据字典创建---\\n\",df1)\n",
    "print(\"---根据序列创建---\\n\",df2)"
   ]
  },
  {
   "cell_type": "raw",
   "metadata": {},
   "source": [
    "访问数据帧的索引、列名与数据值"
   ]
  },
  {
   "cell_type": "code",
   "execution_count": null,
   "metadata": {},
   "outputs": [],
   "source": [
    "print(\"所有的列:\",df2.columns.tolist())\n",
    "print(\"所有的索引:\",df2.index.tolist())\n",
    "print(\"所有的收入数据:\",df2['收入'].values)\n",
    "print(\"索引为0的收入数据:\",df2['收入'][0])\n",
    "print(\"所有的值:\",df2.values.tolist())"
   ]
  },
  {
   "cell_type": "raw",
   "metadata": {},
   "source": [
    "切片与遍历"
   ]
  },
  {
   "cell_type": "code",
   "execution_count": null,
   "metadata": {},
   "outputs": [],
   "source": [
    "print(\"---横向切片，取前两条数据---\")\n",
    "print(\"前两条收入的数据:\\n\",df2[:2])\n",
    "print(\"---纵向切片，取序列数据---\")\n",
    "print(\"年龄序列:\",df2['年龄'].tolist())\n",
    "print(\"收入序列:\",df2['收入'].tolist())\n",
    "print(\"---遍历所有数据---\")\n",
    "for key,value in df2.items():\n",
    "    print(key,value.tolist())"
   ]
  },
  {
   "cell_type": "raw",
   "metadata": {},
   "source": [
    "转置操作"
   ]
  },
  {
   "cell_type": "code",
   "execution_count": null,
   "metadata": {},
   "outputs": [],
   "source": [
    "df2.T"
   ]
  },
  {
   "cell_type": "raw",
   "metadata": {},
   "source": [
    "常规统计操作"
   ]
  },
  {
   "cell_type": "code",
   "execution_count": null,
   "metadata": {},
   "outputs": [],
   "source": [
    "df2.describe()"
   ]
  },
  {
   "cell_type": "raw",
   "metadata": {},
   "source": [
    "数据帧数据的持久化"
   ]
  },
  {
   "cell_type": "code",
   "execution_count": null,
   "metadata": {},
   "outputs": [],
   "source": [
    "df2.to_csv(\"./output/test.csv\",index=False,encoding='utf-8')\n",
    "df2 = pd.read_csv(\"./output/test.csv\",encoding='utf-8')\n",
    "df2.to_html(\"./output/test.html\",index=False,encoding='utf-8')\n",
    "df2 = pd.read_html('./output/test.html',encoding='utf-8')[0]\n",
    "df2"
   ]
  }
 ],
 "metadata": {
  "kernelspec": {
   "display_name": "Python 3",
   "language": "python",
   "name": "python3"
  },
  "language_info": {
   "codemirror_mode": {
    "name": "ipython",
    "version": 3
   },
   "file_extension": ".py",
   "mimetype": "text/x-python",
   "name": "python",
   "nbconvert_exporter": "python",
   "pygments_lexer": "ipython3",
   "version": "3.7.9"
  }
 },
 "nbformat": 4,
 "nbformat_minor": 4
}
