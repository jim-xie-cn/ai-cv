{
 "cells": [
  {
   "cell_type": "markdown",
   "metadata": {},
   "source": [
    "使用pandas操作数据\n",
    "\n",
    "作者：谢文伟\n",
    "\n",
    "邮件：xiewenwei@sina.com\n",
    "\n",
    "主页：https://github.com/jimxie2012/ai-cv"
   ]
  },
  {
   "cell_type": "markdown",
   "metadata": {},
   "source": [
    "# Series"
   ]
  },
  {
   "cell_type": "raw",
   "metadata": {},
   "source": [
    "导入pandas包"
   ]
  },
  {
   "cell_type": "code",
   "execution_count": 57,
   "metadata": {},
   "outputs": [],
   "source": [
    "import pandas as pd"
   ]
  },
  {
   "cell_type": "raw",
   "metadata": {},
   "source": [
    "创建Series"
   ]
  },
  {
   "cell_type": "code",
   "execution_count": 58,
   "metadata": {},
   "outputs": [
    {
     "name": "stdout",
     "output_type": "stream",
     "text": [
      "根据列表创建，自动索引:\n",
      "0    80\n",
      "1    85\n",
      "2    90\n",
      "dtype: int64\n",
      "根据标量创建，指定索引:\n",
      "语文    85\n",
      "数学    85\n",
      "英语    85\n",
      "dtype: int64\n",
      "根据列表创建，指定索引:\n",
      "语文    80\n",
      "数学    85\n",
      "英语    90\n",
      "dtype: int64\n",
      "根据字典创建:\n",
      "语文    80\n",
      "数学    85\n",
      "英语    90\n",
      "dtype: int64\n"
     ]
    }
   ],
   "source": [
    "s1=pd.Series(data=[80,85,90])\n",
    "s2=pd.Series(data=85,index=['语文','数学','英语'])\n",
    "s3=pd.Series(data=[80,85,90],index=['语文','数学','英语'])\n",
    "s4=pd.Series(data={'语文':80,'数学':85,'英语':90})\n",
    "print(\"根据列表创建，自动索引:\")\n",
    "print(s1)\n",
    "print(\"根据标量创建，指定索引:\")\n",
    "print(s2)\n",
    "print(\"根据列表创建，指定索引:\")\n",
    "print(s3)\n",
    "print(\"根据字典创建:\")\n",
    "print(s4)"
   ]
  },
  {
   "cell_type": "raw",
   "metadata": {},
   "source": [
    "# 切片"
   ]
  },
  {
   "cell_type": "code",
   "execution_count": 59,
   "metadata": {},
   "outputs": [
    {
     "name": "stdout",
     "output_type": "stream",
     "text": [
      "******显式切片******\n",
      "语文    80\n",
      "数学    85\n",
      "dtype: int64\n",
      "******隐式切片******\n",
      "语文    80\n",
      "数学    85\n",
      "dtype: int64\n",
      "******取首部2个数据******\n",
      "语文    80\n",
      "数学    85\n",
      "dtype: int64\n",
      "******取尾部2个数据******\n",
      "数学    85\n",
      "英语    90\n",
      "dtype: int64\n"
     ]
    }
   ],
   "source": [
    "print(\"******显式切片******\")\n",
    "print(s3.loc['语文':'数学'])\n",
    "print(\"******隐式切片******\")\n",
    "print(s3.iloc[0:2])\n",
    "print(\"******取首部2个数据******\")\n",
    "print(s3.head(2))\n",
    "print(\"******取尾部2个数据******\")\n",
    "print(s3.tail(2))"
   ]
  },
  {
   "cell_type": "raw",
   "metadata": {},
   "source": [
    "# 遍历"
   ]
  },
  {
   "cell_type": "code",
   "execution_count": 60,
   "metadata": {},
   "outputs": [
    {
     "name": "stdout",
     "output_type": "stream",
     "text": [
      "Series长度: 3\n",
      "Series索引列表: ['语文', '数学', '英语']\n",
      "Series数据列表: [80, 85, 90]\n",
      "data: 80\n",
      "data: 85\n",
      "data: 90\n"
     ]
    }
   ],
   "source": [
    "print(\"Series长度:\",s3.size)\n",
    "print(\"Series索引列表:\",s3.index.tolist())\n",
    "print(\"Series数据列表:\",s3.tolist())\n",
    "for item in s3:\n",
    "    print(\"data:\",item)"
   ]
  },
  {
   "cell_type": "raw",
   "metadata": {},
   "source": [
    "对序列对象进行常规运算"
   ]
  },
  {
   "cell_type": "code",
   "execution_count": 61,
   "metadata": {},
   "outputs": [
    {
     "name": "stdout",
     "output_type": "stream",
     "text": [
      "根据指定索引相加: 165\n",
      "根据行号索引相乘: 7200\n",
      "修改后的Series:\n",
      "数学    65\n",
      "dtype: int64\n"
     ]
    }
   ],
   "source": [
    "print(\"根据指定索引相加:\",s3['语文']+s3['数学'])\n",
    "print(\"根据行号索引相乘:\",s3[0]*s3[2])\n",
    "s3['语文']=55\n",
    "s3[1] = 65\n",
    "s3.drop([\"语文\",\"英语\"],inplace=True)\n",
    "print(\"修改后的Series:\")\n",
    "print(s3)"
   ]
  },
  {
   "cell_type": "markdown",
   "metadata": {},
   "source": [
    "# DataFrame"
   ]
  },
  {
   "cell_type": "raw",
   "metadata": {},
   "source": [
    "创建数据帧"
   ]
  },
  {
   "cell_type": "code",
   "execution_count": 68,
   "metadata": {
    "scrolled": true
   },
   "outputs": [
    {
     "name": "stdout",
     "output_type": "stream",
     "text": [
      "---根据字典创建---\n",
      "   年龄  收入\n",
      "0  20  24\n",
      "1  30  30\n",
      "2  40  40\n",
      "3  50  30\n",
      "---根据序列创建---\n",
      "   年龄  收入\n",
      "0  20  24\n",
      "1  30  30\n",
      "2  40  40\n",
      "3  50  30\n"
     ]
    }
   ],
   "source": [
    "df1=pd.DataFrame({'年龄':[20,30,40,50],'收入':[24,30,40,30]})\n",
    "s1 = pd.Series([20,30,40,50])\n",
    "s2 = pd.Series([24,30,40,30])             \n",
    "df2=pd.DataFrame({'年龄':s1,'收入':s2})\n",
    "print(\"---根据字典创建---\")\n",
    "print(df1)\n",
    "print(\"---根据序列创建---\")\n",
    "print(df2)"
   ]
  },
  {
   "cell_type": "raw",
   "metadata": {},
   "source": [
    "访问数据帧的索引、列名与数据值"
   ]
  },
  {
   "cell_type": "code",
   "execution_count": 69,
   "metadata": {},
   "outputs": [
    {
     "name": "stdout",
     "output_type": "stream",
     "text": [
      "所有的列: ['年龄', '收入']\n",
      "所有的索引: [0, 1, 2, 3]\n",
      "所有的收入数据: [24 30 40 30]\n",
      "索引为0的收入数据: 24\n",
      "所有的值: [[20, 24], [30, 30], [40, 40], [50, 30]]\n"
     ]
    }
   ],
   "source": [
    "print(\"所有的列:\",df2.columns.tolist())\n",
    "print(\"所有的索引:\",df2.index.tolist())\n",
    "print(\"所有的收入数据:\",df2['收入'].values)\n",
    "print(\"索引为0的收入数据:\",df2['收入'][0])\n",
    "print(\"所有的值:\",df2.values.tolist())"
   ]
  },
  {
   "cell_type": "raw",
   "metadata": {},
   "source": [
    "切片与遍历"
   ]
  },
  {
   "cell_type": "code",
   "execution_count": 65,
   "metadata": {},
   "outputs": [
    {
     "name": "stdout",
     "output_type": "stream",
     "text": [
      "---横向切片，取前两条数据---\n",
      "前两条收入的数据: [24, 30]\n",
      "   年龄  收入\n",
      "0  20  24\n",
      "1  30  30\n",
      "---纵向切片，取序列数据---\n",
      "年龄序列: [20, 30, 40, 50]\n",
      "收入序列: [24, 30, 40, 30]\n",
      "---遍历所有数据---\n",
      "年龄 [20, 30, 40, 50]\n",
      "收入 [24, 30, 40, 30]\n"
     ]
    }
   ],
   "source": [
    "print(\"---横向切片，取前两条数据---\")\n",
    "df3 = df2[:2]\n",
    "print(\"前两条收入的数据:\",df3['收入'].tolist())\n",
    "print(df3)\n",
    "print(\"---纵向切片，取序列数据---\")\n",
    "s1 = df2['年龄']\n",
    "print(\"年龄序列:\",s1.tolist())\n",
    "s2 = df2['收入']\n",
    "print(\"收入序列:\",s2.tolist())\n",
    "print(\"---遍历所有数据---\")\n",
    "for key,value in df2.items():\n",
    "    print(key,value.tolist())"
   ]
  },
  {
   "cell_type": "raw",
   "metadata": {},
   "source": [
    "转置操作"
   ]
  },
  {
   "cell_type": "code",
   "execution_count": 50,
   "metadata": {},
   "outputs": [
    {
     "data": {
      "text/html": [
       "<div>\n",
       "<style scoped>\n",
       "    .dataframe tbody tr th:only-of-type {\n",
       "        vertical-align: middle;\n",
       "    }\n",
       "\n",
       "    .dataframe tbody tr th {\n",
       "        vertical-align: top;\n",
       "    }\n",
       "\n",
       "    .dataframe thead th {\n",
       "        text-align: right;\n",
       "    }\n",
       "</style>\n",
       "<table border=\"1\" class=\"dataframe\">\n",
       "  <thead>\n",
       "    <tr style=\"text-align: right;\">\n",
       "      <th></th>\n",
       "      <th>0</th>\n",
       "      <th>1</th>\n",
       "      <th>2</th>\n",
       "      <th>3</th>\n",
       "    </tr>\n",
       "  </thead>\n",
       "  <tbody>\n",
       "    <tr>\n",
       "      <th>年龄</th>\n",
       "      <td>20</td>\n",
       "      <td>30</td>\n",
       "      <td>40</td>\n",
       "      <td>50</td>\n",
       "    </tr>\n",
       "    <tr>\n",
       "      <th>收入</th>\n",
       "      <td>24</td>\n",
       "      <td>30</td>\n",
       "      <td>40</td>\n",
       "      <td>30</td>\n",
       "    </tr>\n",
       "  </tbody>\n",
       "</table>\n",
       "</div>"
      ],
      "text/plain": [
       "     0   1   2   3\n",
       "年龄  20  30  40  50\n",
       "收入  24  30  40  30"
      ]
     },
     "execution_count": 50,
     "metadata": {},
     "output_type": "execute_result"
    }
   ],
   "source": [
    "df2.T"
   ]
  },
  {
   "cell_type": "raw",
   "metadata": {},
   "source": [
    "常规统计操作"
   ]
  },
  {
   "cell_type": "code",
   "execution_count": 51,
   "metadata": {},
   "outputs": [
    {
     "data": {
      "text/html": [
       "<div>\n",
       "<style scoped>\n",
       "    .dataframe tbody tr th:only-of-type {\n",
       "        vertical-align: middle;\n",
       "    }\n",
       "\n",
       "    .dataframe tbody tr th {\n",
       "        vertical-align: top;\n",
       "    }\n",
       "\n",
       "    .dataframe thead th {\n",
       "        text-align: right;\n",
       "    }\n",
       "</style>\n",
       "<table border=\"1\" class=\"dataframe\">\n",
       "  <thead>\n",
       "    <tr style=\"text-align: right;\">\n",
       "      <th></th>\n",
       "      <th>年龄</th>\n",
       "      <th>收入</th>\n",
       "    </tr>\n",
       "  </thead>\n",
       "  <tbody>\n",
       "    <tr>\n",
       "      <th>count</th>\n",
       "      <td>4.000000</td>\n",
       "      <td>4.00000</td>\n",
       "    </tr>\n",
       "    <tr>\n",
       "      <th>mean</th>\n",
       "      <td>35.000000</td>\n",
       "      <td>31.00000</td>\n",
       "    </tr>\n",
       "    <tr>\n",
       "      <th>std</th>\n",
       "      <td>12.909944</td>\n",
       "      <td>6.63325</td>\n",
       "    </tr>\n",
       "    <tr>\n",
       "      <th>min</th>\n",
       "      <td>20.000000</td>\n",
       "      <td>24.00000</td>\n",
       "    </tr>\n",
       "    <tr>\n",
       "      <th>25%</th>\n",
       "      <td>27.500000</td>\n",
       "      <td>28.50000</td>\n",
       "    </tr>\n",
       "    <tr>\n",
       "      <th>50%</th>\n",
       "      <td>35.000000</td>\n",
       "      <td>30.00000</td>\n",
       "    </tr>\n",
       "    <tr>\n",
       "      <th>75%</th>\n",
       "      <td>42.500000</td>\n",
       "      <td>32.50000</td>\n",
       "    </tr>\n",
       "    <tr>\n",
       "      <th>max</th>\n",
       "      <td>50.000000</td>\n",
       "      <td>40.00000</td>\n",
       "    </tr>\n",
       "  </tbody>\n",
       "</table>\n",
       "</div>"
      ],
      "text/plain": [
       "              年龄        收入\n",
       "count   4.000000   4.00000\n",
       "mean   35.000000  31.00000\n",
       "std    12.909944   6.63325\n",
       "min    20.000000  24.00000\n",
       "25%    27.500000  28.50000\n",
       "50%    35.000000  30.00000\n",
       "75%    42.500000  32.50000\n",
       "max    50.000000  40.00000"
      ]
     },
     "execution_count": 51,
     "metadata": {},
     "output_type": "execute_result"
    }
   ],
   "source": [
    "df2.describe()"
   ]
  },
  {
   "cell_type": "raw",
   "metadata": {},
   "source": [
    "数据帧数据的持久化"
   ]
  },
  {
   "cell_type": "code",
   "execution_count": 70,
   "metadata": {},
   "outputs": [
    {
     "data": {
      "text/html": [
       "<div>\n",
       "<style scoped>\n",
       "    .dataframe tbody tr th:only-of-type {\n",
       "        vertical-align: middle;\n",
       "    }\n",
       "\n",
       "    .dataframe tbody tr th {\n",
       "        vertical-align: top;\n",
       "    }\n",
       "\n",
       "    .dataframe thead th {\n",
       "        text-align: right;\n",
       "    }\n",
       "</style>\n",
       "<table border=\"1\" class=\"dataframe\">\n",
       "  <thead>\n",
       "    <tr style=\"text-align: right;\">\n",
       "      <th></th>\n",
       "      <th>年龄</th>\n",
       "      <th>收入</th>\n",
       "    </tr>\n",
       "  </thead>\n",
       "  <tbody>\n",
       "    <tr>\n",
       "      <th>0</th>\n",
       "      <td>20</td>\n",
       "      <td>24</td>\n",
       "    </tr>\n",
       "    <tr>\n",
       "      <th>1</th>\n",
       "      <td>30</td>\n",
       "      <td>30</td>\n",
       "    </tr>\n",
       "    <tr>\n",
       "      <th>2</th>\n",
       "      <td>40</td>\n",
       "      <td>40</td>\n",
       "    </tr>\n",
       "    <tr>\n",
       "      <th>3</th>\n",
       "      <td>50</td>\n",
       "      <td>30</td>\n",
       "    </tr>\n",
       "  </tbody>\n",
       "</table>\n",
       "</div>"
      ],
      "text/plain": [
       "   年龄  收入\n",
       "0  20  24\n",
       "1  30  30\n",
       "2  40  40\n",
       "3  50  30"
      ]
     },
     "execution_count": 70,
     "metadata": {},
     "output_type": "execute_result"
    }
   ],
   "source": [
    "df2.to_csv(\"./output/test.csv\",index=False,encoding='utf-8')\n",
    "df2 = pd.read_csv(\"./output/test.csv\",encoding='utf-8')\n",
    "df2.to_html(\"./output/test.html\",index=False,encoding='utf-8')\n",
    "df2 = pd.read_html('./output/test.html',encoding='utf-8')[0]\n",
    "df2"
   ]
  },
  {
   "cell_type": "code",
   "execution_count": null,
   "metadata": {},
   "outputs": [],
   "source": []
  },
  {
   "cell_type": "code",
   "execution_count": null,
   "metadata": {},
   "outputs": [],
   "source": []
  }
 ],
 "metadata": {
  "kernelspec": {
   "display_name": "Python 3",
   "language": "python",
   "name": "python3"
  },
  "language_info": {
   "codemirror_mode": {
    "name": "ipython",
    "version": 3
   },
   "file_extension": ".py",
   "mimetype": "text/x-python",
   "name": "python",
   "nbconvert_exporter": "python",
   "pygments_lexer": "ipython3",
   "version": "3.7.9"
  }
 },
 "nbformat": 4,
 "nbformat_minor": 4
}
