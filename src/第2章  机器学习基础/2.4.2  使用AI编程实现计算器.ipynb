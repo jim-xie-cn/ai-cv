{
 "cells": [
  {
   "cell_type": "markdown",
   "metadata": {},
   "source": [
    "使用AI编程实现计算器\n",
    "\n",
    "作者：谢文伟\n",
    "\n",
    "邮件：jim.xie.cn@outlook.com\n",
    "\n",
    "主页：https://github.com/jim-xie-cn/ai-cv"
   ]
  },
  {
   "cell_type": "code",
   "execution_count": null,
   "metadata": {},
   "outputs": [],
   "source": [
    "import pandas as pd\n",
    "import numpy as np\n",
    "import matplotlib.pyplot as plt\n",
    "from mpl_toolkits.mplot3d import Axes3D\n",
    "from sklearn.linear_model import Ridge\n",
    "from sklearn.preprocessing import PolynomialFeatures\n",
    "from sklearn.pipeline import make_pipeline\n",
    "from warnings import filterwarnings\n",
    "filterwarnings('ignore')"
   ]
  },
  {
   "cell_type": "raw",
   "metadata": {},
   "source": [
    "# 生成训练集和测试集"
   ]
  },
  {
   "cell_type": "raw",
   "metadata": {},
   "source": [
    "训练集：随机生成20000组数为训练样本（相当于输入样本X1，X2），设置标签为加、减、乘、除运算后的值（相当于预测标签Y）\n",
    "测试集：随机生成50组数作为测试样本（相当于输入样本X1，X2），设置标签为加、减、乘、除运算后的值（相当于预测标签Y）"
   ]
  },
  {
   "cell_type": "code",
   "execution_count": null,
   "metadata": {},
   "outputs": [],
   "source": [
    "train_x = np.random.randint(1, 100, (20000, 2))\n",
    "train_add = train_x[:,0]+train_x[:,1]\n",
    "train_sub = train_x[:,0]-train_x[:,1]\n",
    "train_mul = train_x[:,0]*train_x[:,1]\n",
    "train_div = train_x[:,0]/train_x[:,1]\n",
    "test_x = np.random.randint(1, 100, (50, 2))\n",
    "test_add = test_x[:,0]+test_x[:,1]\n",
    "test_sub = test_x[:,0]-test_x[:,1]\n",
    "test_mul = test_x[:,0]*test_x[:,1]\n",
    "test_div = test_x[:,0]/test_x[:,1]"
   ]
  },
  {
   "cell_type": "raw",
   "metadata": {},
   "source": [
    "# 显示训练样本"
   ]
  },
  {
   "cell_type": "code",
   "execution_count": null,
   "metadata": {},
   "outputs": [],
   "source": [
    "df = pd.DataFrame()\n",
    "df['输入(X1)'] = pd.Series(train_x[:,0])\n",
    "df['输入(X2)'] = pd.Series(train_x[:,1])\n",
    "df['预测标签(Y,加法)'] = pd.Series(train_add)\n",
    "df['预测标签(Y,减法)'] = pd.Series(train_sub)\n",
    "df['预测标签(Y,乘法)'] = pd.Series(train_mul)\n",
    "df['预测标签(Y,除法)'] = pd.Series(train_div)\n",
    "df.head(10)"
   ]
  },
  {
   "cell_type": "markdown",
   "metadata": {},
   "source": [
    "查看数据分布"
   ]
  },
  {
   "cell_type": "code",
   "execution_count": null,
   "metadata": {},
   "outputs": [],
   "source": [
    "fig = plt.figure()\n",
    "ax = Axes3D(fig)\n",
    "ax.scatter(df['输入(X1)'], df['输入(X2)'], df['预测标签(Y,乘法)'],depthshade=True,s=600,c='r')\n",
    "ax.ticklabel_format(style='plain',axis='both')    \n",
    "ax.set_xlabel(\"X1\",labelpad=20)\n",
    "ax.set_ylabel(\"X2\",labelpad=20)\n",
    "ax.set_zlabel(\"Y\",labelpad=20)\n",
    "plt.show()"
   ]
  },
  {
   "cell_type": "markdown",
   "metadata": {},
   "source": [
    "# 选择模型，进行训练"
   ]
  },
  {
   "cell_type": "raw",
   "metadata": {},
   "source": [
    "使用多项式+岭回归模型（多项式阶数为10）进行训练"
   ]
  },
  {
   "cell_type": "code",
   "execution_count": null,
   "metadata": {},
   "outputs": [],
   "source": [
    "def model_train(x_train,y_train):\n",
    "    model = make_pipeline(PolynomialFeatures(10), Ridge())\n",
    "    model.fit(x_train,y_train)\n",
    "    return model"
   ]
  },
  {
   "cell_type": "markdown",
   "metadata": {},
   "source": [
    "# 自定义模型预测和评估函数"
   ]
  },
  {
   "cell_type": "raw",
   "metadata": {},
   "source": [
    "模型预测函数"
   ]
  },
  {
   "cell_type": "code",
   "execution_count": null,
   "metadata": {},
   "outputs": [],
   "source": [
    "def model_pred(model,x_test,y_test):\n",
    "    pred_y = model.predict(x_test)\n",
    "    score = np.sqrt(np.mean((y_test-pred_y)**2))\n",
    "    return pred_y,score"
   ]
  },
  {
   "cell_type": "raw",
   "metadata": {},
   "source": [
    "模型评估和结果可视化函数"
   ]
  },
  {
   "cell_type": "code",
   "execution_count": null,
   "metadata": {},
   "outputs": [],
   "source": [
    "plt.style.use({'figure.figsize':(8, 4)})\n",
    "def show_result(title,model,x_test,y_test):\n",
    "    pred_y,score = model_pred(model,x_test,y_test)\n",
    "    plt.title(\"%s\\n(model error :%f)\"%(title,score))\n",
    "    x = np.linspace(0,len(x_test))\n",
    "    p1 = plt.plot(x, y_test,label='real value')\n",
    "    p2 = plt.plot(x, pred_y,label='pred value')\n",
    "    plt.legend([p1, p2], labels=[\"real value\", \"pred value\"])\n",
    "    plt.show()"
   ]
  },
  {
   "cell_type": "markdown",
   "metadata": {},
   "source": [
    "# 模型评估"
   ]
  },
  {
   "cell_type": "raw",
   "metadata": {},
   "source": [
    "在测试集上对模型误差进行评估"
   ]
  },
  {
   "cell_type": "code",
   "execution_count": null,
   "metadata": {},
   "outputs": [],
   "source": [
    "model = model_train(train_x,train_add)\n",
    "show_result(\"Add Operation\",model,test_x,test_add)\n",
    "model = model_train(train_x,train_sub)\n",
    "show_result(\"Subtraction\",model,test_x,test_sub)\n",
    "model = model_train(train_x,train_mul)\n",
    "show_result(\"Multiplication\",model,test_x,test_mul)\n",
    "model = model_train(train_x,train_div)\n",
    "show_result(\"Division Operation\",model,test_x,test_div)"
   ]
  },
  {
   "cell_type": "markdown",
   "metadata": {},
   "source": [
    "# 使用模型进行预测"
   ]
  },
  {
   "cell_type": "raw",
   "metadata": {},
   "source": [
    "训练模型，并对输入数据进行加、减、乘、除运算"
   ]
  },
  {
   "cell_type": "code",
   "execution_count": null,
   "metadata": {},
   "outputs": [],
   "source": [
    "X1 = 15\n",
    "X2 = 30\n",
    "model = model_train(train_x,train_add)\n",
    "y = model.predict([[X1,X2]])\n",
    "print(\"加法模型计算结果：%d+%d = %f\"%(X1,X2,y[0]))\n",
    "model = model_train(train_x,train_sub)\n",
    "y = model.predict([[X1,X2]])\n",
    "print(\"减法模型计算结果：%d-%d = %f\"%(X1,X2,y[0]))\n",
    "model = model_train(train_x,train_mul)\n",
    "y = model.predict([[X1,X2]])\n",
    "print(\"乘法模型计算结果：%d*%d = %f\"%(X1,X2,y[0]))\n",
    "model = model_train(train_x,train_div)\n",
    "y = model.predict([[X1,X2]])\n",
    "print(\"除法模型计算结果：%d/%d = %f\"%(X1,X2,y[0]))"
   ]
  }
 ],
 "metadata": {
  "kernelspec": {
   "display_name": "Python 3",
   "language": "python",
   "name": "python3"
  },
  "language_info": {
   "codemirror_mode": {
    "name": "ipython",
    "version": 3
   },
   "file_extension": ".py",
   "mimetype": "text/x-python",
   "name": "python",
   "nbconvert_exporter": "python",
   "pygments_lexer": "ipython3",
   "version": "3.7.9"
  }
 },
 "nbformat": 4,
 "nbformat_minor": 4
}
