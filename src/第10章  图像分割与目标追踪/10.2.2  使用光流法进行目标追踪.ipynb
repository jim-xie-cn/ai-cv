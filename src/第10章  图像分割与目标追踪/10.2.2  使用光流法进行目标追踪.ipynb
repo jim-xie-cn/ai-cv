{
 "cells": [
  {
   "cell_type": "markdown",
   "id": "different-hawaii",
   "metadata": {},
   "source": [
    "使用光流法进行目标追踪\n",
    "\n",
    "作者：谢文伟\n",
    "\n",
    "邮件：jim.xie.cn@outlook.com\n",
    "\n",
    "主页：https://github.com/jim-xie-cn/ai-cv"
   ]
  },
  {
   "cell_type": "markdown",
   "id": "underlying-memorial",
   "metadata": {},
   "source": [
    "导入库"
   ]
  },
  {
   "cell_type": "code",
   "execution_count": null,
   "id": "numerical-knock",
   "metadata": {},
   "outputs": [],
   "source": [
    "import cv2\n",
    "import numpy as np\n",
    "from matplotlib import pyplot as plt\n",
    "plt.rcParams['font.sans-serif']=['SimHei'] #在统计图上显示中文"
   ]
  },
  {
   "cell_type": "markdown",
   "id": "acute-israel",
   "metadata": {},
   "source": [
    "读取文件"
   ]
  },
  {
   "cell_type": "code",
   "execution_count": null,
   "id": "express-moderator",
   "metadata": {},
   "outputs": [],
   "source": [
    "img_0=cv2.imread(\"./images/da_feng_che_0.jpg\") #读取第一帧的图像\n",
    "img_1=cv2.imread(\"./images/da_feng_che_1.jpg\") #读取第二帧的图像\n",
    "img_0 = cv2.cvtColor(img_0, cv2.COLOR_BGR2RGB) #转换为RGB格式\n",
    "img_1 = cv2.cvtColor(img_1, cv2.COLOR_BGR2RGB) #转换为RGB格式\n",
    "gray_0 = cv2.cvtColor(img_0.copy(), cv2.COLOR_RGB2GRAY) #转换为灰度图\n",
    "gray_1 = cv2.cvtColor(img_1.copy(), cv2.COLOR_RGB2GRAY) #转换为灰度图\n",
    "mask = img_0+img_1 #mask用来显示最后的结果\n",
    "#显示两个视频帧图像\n",
    "f,ax = plt.subplots(1,2, figsize=(8,8)) \n",
    "ax[0].imshow(img_0)\n",
    "ax[1].imshow(img_1)"
   ]
  },
  {
   "cell_type": "markdown",
   "id": "planned-general",
   "metadata": {},
   "source": [
    "生成特征点"
   ]
  },
  {
   "cell_type": "code",
   "execution_count": null,
   "id": "conscious-league",
   "metadata": {},
   "outputs": [],
   "source": [
    "params = {\"maxCorners\":10,\"qualityLevel\":0.01,\"minDistance\":50,\"blockSize\":1}\n",
    "key_points_0 = cv2.goodFeaturesToTrack(gray_0, mask = None, **params)\n",
    "for p in key_points_0:\n",
    "    img_0 = cv2.circle(img_0,(p[0][0], p[0][1]),3,(255,0,0),-1)\n",
    "plt.imshow(img_0)"
   ]
  },
  {
   "cell_type": "markdown",
   "id": "general-exemption",
   "metadata": {},
   "source": [
    "计算光流(稀疏光流)"
   ]
  },
  {
   "cell_type": "code",
   "execution_count": null,
   "id": "manual-arena",
   "metadata": {},
   "outputs": [],
   "source": [
    "#key_points_1是光流计算出的特征点位置，match表示匹配上的特征点\n",
    "key_points_1, match, _ = cv2.calcOpticalFlowPyrLK(gray_0,gray_1,key_points_0, None)\n",
    "matched_0 = key_points_0[match==1] #第一帧图像上的特征点\n",
    "matched_1 = key_points_1[match==1] #第二帧图像上的特征点\n",
    "#显示两帧图像的特征点\n",
    "for p in key_points_1:\n",
    "    img_1 = cv2.circle(img_1,(p[0][0], p[0][1]),3,(0,0,255),-1)\n",
    "f,ax = plt.subplots(1,2, figsize=(8,8))\n",
    "ax[0].imshow(img_0)\n",
    "ax[1].imshow(img_1)"
   ]
  },
  {
   "cell_type": "markdown",
   "id": "pediatric-poultry",
   "metadata": {},
   "source": [
    "运动矢量显示"
   ]
  },
  {
   "cell_type": "code",
   "execution_count": null,
   "id": "disabled-authorization",
   "metadata": {},
   "outputs": [],
   "source": [
    "#显示运行信息\n",
    "for i,(frame_0,frame_1) in enumerate(zip(matched_0,matched_1)):\n",
    "    a,b = frame_0.ravel()\n",
    "    c,d = frame_1.ravel()\n",
    "    mask = cv2.circle(mask,(a,b),3,(255,0,0),-1)      #用红色标记，第一帧图上的特征点\n",
    "    mask = cv2.circle(mask,(c,d),3,(0,0,255),-1)      #用蓝色标记，第二帧图上的特征点\n",
    "    mask = cv2.line(mask, (a,b),(c,d),(255,255,255),2)#用白色标记，两帧图像上特征点的对应关系\n",
    "f,ax = plt.subplots(1,3, figsize=(12,12))\n",
    "ax[0].set_title(\"第一帧图像\")\n",
    "ax[0].imshow(img_0)\n",
    "ax[1].set_title(\"第二帧图像\")\n",
    "ax[1].imshow(img_1)\n",
    "ax[2].set_title(\"运动信息\")\n",
    "ax[2].imshow(mask)\n",
    "ax[0].axis('off')\n",
    "ax[1].axis('off')\n",
    "ax[2].axis('off')"
   ]
  },
  {
   "cell_type": "code",
   "execution_count": null,
   "id": "framed-windsor",
   "metadata": {},
   "outputs": [],
   "source": []
  }
 ],
 "metadata": {
  "kernelspec": {
   "display_name": "Python 3",
   "language": "python",
   "name": "python3"
  },
  "language_info": {
   "codemirror_mode": {
    "name": "ipython",
    "version": 3
   },
   "file_extension": ".py",
   "mimetype": "text/x-python",
   "name": "python",
   "nbconvert_exporter": "python",
   "pygments_lexer": "ipython3",
   "version": "3.7.9"
  }
 },
 "nbformat": 4,
 "nbformat_minor": 5
}
