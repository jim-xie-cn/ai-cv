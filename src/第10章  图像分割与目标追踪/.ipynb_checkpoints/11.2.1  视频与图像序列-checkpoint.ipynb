{
 "cells": [
  {
   "cell_type": "markdown",
   "metadata": {},
   "source": [
    "视频与图像序列\n",
    "\n",
    "作者：谢文伟\n",
    "\n",
    "邮件：xiewenwei@sina.com\n",
    "\n",
    "主页：https://github.com/jimxie2012/ai-cv"
   ]
  },
  {
   "cell_type": "code",
   "execution_count": null,
   "metadata": {},
   "outputs": [],
   "source": [
    "from matplotlib import pyplot as plt\n",
    "import cv2\n",
    "cap = cv2.VideoCapture(\"./images/da_feng_che.mp4\")#打开视频文件\n",
    "while True:\n",
    "    ret,frame = cap.read()     #读取视频的帧\n",
    "    if not ret:                #视频文件读取结束\n",
    "        break\n",
    "    rgb_img= cv2.cvtColor(frame.copy(),cv2.COLOR_BGR2RGB)#将视频的帧转换为RGB格式\n",
    "    plt.imshow(rgb_img)    #显示视频的帧\n",
    "    plt.show()"
   ]
  }
 ],
 "metadata": {
  "kernelspec": {
   "display_name": "Python 3",
   "language": "python",
   "name": "python3"
  },
  "language_info": {
   "codemirror_mode": {
    "name": "ipython",
    "version": 3
   },
   "file_extension": ".py",
   "mimetype": "text/x-python",
   "name": "python",
   "nbconvert_exporter": "python",
   "pygments_lexer": "ipython3",
   "version": "3.8.3"
  }
 },
 "nbformat": 4,
 "nbformat_minor": 4
}
