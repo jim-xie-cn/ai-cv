{
 "cells": [
  {
   "cell_type": "markdown",
   "metadata": {},
   "source": [
    "图像分类演示\n",
    "\n",
    "作者：谢文伟\n",
    "\n",
    "邮件：jim.xie.cn@outlook.com\n",
    "\n",
    "主页：https://github.com/jim-xie-cn/ai-cv"
   ]
  },
  {
   "cell_type": "markdown",
   "metadata": {},
   "source": [
    "# 导入用到的包"
   ]
  },
  {
   "cell_type": "code",
   "execution_count": null,
   "metadata": {},
   "outputs": [],
   "source": [
    "from mlxtend.data import loadlocal_mnist\n",
    "from skimage import feature\n",
    "import numpy as np\n",
    "import cv2\n",
    "from matplotlib import pyplot as plt\n",
    "plt.rcParams['font.sans-serif']=['SimHei'] #使用中文字体"
   ]
  },
  {
   "cell_type": "markdown",
   "metadata": {},
   "source": [
    "# 样本读取和预处理"
   ]
  },
  {
   "cell_type": "markdown",
   "metadata": {},
   "source": [
    "定义从数据集中读取样本的函数，只保留标签为0或1的图像"
   ]
  },
  {
   "cell_type": "code",
   "execution_count": null,
   "metadata": {},
   "outputs": [],
   "source": [
    "def load_sample(img_file,label_file):\n",
    "    #从MNIST文件中提取图像和标签数据\n",
    "    raw_image,raw_label=loadlocal_mnist(images_path=img_file,labels_path=label_file)\n",
    "    #MNIST数据集包含0～9十个数字分类，这里只使用0和1两个分类\n",
    "    #将样本和标签合并到一个numpy数组里，根据标签过滤，只保留0和1两个数字的数据\n",
    "    raw_label = raw_label.reshape(-1,1)\n",
    "    raw_sample = np.hstack((raw_image,raw_label))\n",
    "    raw_sample.astype(raw_image.dtype)\n",
    "    filter=np.where(raw_sample[:,-1]<=1)  #只保留0和1两个数字的数据\n",
    "    images = raw_sample[filter][:,:-1]\n",
    "    labels = raw_sample[filter][:,-1]\n",
    "    #MNIST原始图像格式为(28，28),这里转换为灰度图格式(28,28,1)\n",
    "    images = images.reshape(images.shape[0],28,28,1)\n",
    "    return images,labels"
   ]
  },
  {
   "cell_type": "markdown",
   "metadata": {},
   "source": [
    "读取样本，得到训练集和测试集"
   ]
  },
  {
   "cell_type": "code",
   "execution_count": null,
   "metadata": {
    "scrolled": false
   },
   "outputs": [],
   "source": [
    "train_image,train_y = load_sample('./dataset/mnist/train-images-idx3-ubyte',\n",
    "                               './dataset/mnist/train-labels-idx1-ubyte')\n",
    "test_image,test_y = load_sample('./dataset/mnist/t10k-images-idx3-ubyte',\n",
    "                              './dataset/mnist/t10k-labels-idx1-ubyte')"
   ]
  },
  {
   "cell_type": "markdown",
   "metadata": {},
   "source": [
    "#将数据集的图像保存为本地文件"
   ]
  },
  {
   "cell_type": "code",
   "execution_count": null,
   "metadata": {},
   "outputs": [],
   "source": [
    "def save_sample(img_file,label_file):\n",
    "    images,labels = load_sample(img_file,label_file)\n",
    "    features = extract_feature(images)\n",
    "    count = 0\n",
    "    for x1,y1 in zip(images,labels):\n",
    "        path = \"./%d/\"%y1\n",
    "        try:\n",
    "            os.mkdir(path)\n",
    "        except:\n",
    "            pass\n",
    "        f = \"%s%s.jpg\"%(path,count)\n",
    "        count = count + 1\n",
    "        print(\"Saving \",f,x1.shape)\n",
    "        cv2.imwrite(f,x1)"
   ]
  },
  {
   "cell_type": "markdown",
   "metadata": {},
   "source": [
    "显示预处理后的样本"
   ]
  },
  {
   "cell_type": "code",
   "execution_count": null,
   "metadata": {},
   "outputs": [],
   "source": [
    "fig,ax = plt.subplots(5,7,figsize=(12,8))\n",
    "def ShowImg(id,title,img,cm = 'gray'):\n",
    "    x,y = divmod(id,7)\n",
    "    ax[x,y].imshow(img,plt.get_cmap(cm))\n",
    "    ax[x,y].axis('off')\n",
    "count=0\n",
    "for label,image in zip(train_y,train_image):\n",
    "    if count >= 5*7:\n",
    "        break\n",
    "    ShowImg(count,label,image.reshape(28,28))\n",
    "    count = count+1"
   ]
  },
  {
   "cell_type": "markdown",
   "metadata": {},
   "source": [
    "# 提取图像特征\n",
    "这里使用HOG特征"
   ]
  },
  {
   "cell_type": "code",
   "execution_count": null,
   "metadata": {},
   "outputs": [],
   "source": [
    "#提取训练图像的HOG特征\n",
    "train_x = [feature.hog(x) for x in train_image]\n",
    "train_x = np.array(train_x)\n",
    "#提取测试图像的HOG特征\n",
    "test_x = [feature.hog(x) for x in test_image]\n",
    "test_x = np.array(test_x)"
   ]
  },
  {
   "cell_type": "markdown",
   "metadata": {},
   "source": [
    "# 选择分类器"
   ]
  },
  {
   "cell_type": "markdown",
   "metadata": {},
   "source": [
    "导入sklearn的分类模型"
   ]
  },
  {
   "cell_type": "code",
   "execution_count": null,
   "metadata": {},
   "outputs": [],
   "source": [
    "from sklearn.linear_model import LogisticRegression\n",
    "from sklearn.neighbors import KNeighborsClassifier\n",
    "from sklearn.svm import SVC\n",
    "from sklearn.tree import DecisionTreeClassifier\n",
    "from sklearn.ensemble import RandomForestClassifier, AdaBoostClassifier\n",
    "from sklearn.ensemble import GradientBoostingClassifier, BaggingClassifier\n",
    "from sklearn.discriminant_analysis import LinearDiscriminantAnalysis\n",
    "from sklearn.neural_network import MLPClassifier"
   ]
  },
  {
   "cell_type": "markdown",
   "metadata": {},
   "source": [
    "定义组合分类器（使用各分类器的默认参数）"
   ]
  },
  {
   "cell_type": "code",
   "execution_count": null,
   "metadata": {},
   "outputs": [],
   "source": [
    "g_classifiers = [\n",
    "    ('Logistic Regression', LogisticRegression()),\n",
    "    ('KNN', KNeighborsClassifier()),\n",
    "    ('SVM', SVC()),\n",
    "    ('Decision Tree', DecisionTreeClassifier()),\n",
    "    ('Random Forest', RandomForestClassifier()),\n",
    "    ('AdaBoost', AdaBoostClassifier()),\n",
    "    ('GradientBoosting', GradientBoostingClassifier()),\n",
    "    ('Bagging', BaggingClassifier()),\n",
    "    ('LDA', LinearDiscriminantAnalysis()),\n",
    "    ('MLP', MLPClassifier())\n",
    "]"
   ]
  },
  {
   "cell_type": "markdown",
   "metadata": {},
   "source": [
    "# 使用训练集进行训练\n",
    "并在测试集上使用判别系数进行评估"
   ]
  },
  {
   "cell_type": "code",
   "execution_count": null,
   "metadata": {},
   "outputs": [],
   "source": [
    "import pandas as pd\n",
    "df = pd.DataFrame()\n",
    "models={}\n",
    "for name, clf in g_classifiers:\n",
    "    print(\"Begin train\", name)\n",
    "    clf.fit(train_x,train_y)\n",
    "    models[name] = clf\n",
    "    score = clf.score(test_x,test_y)\n",
    "    df=df.append({\"Model\":name,\"Score\":score},ignore_index=True)\n",
    "#输出各分类器的评测结果\n",
    "display(df)\n",
    "df.to_csv(\"./output/result.csv\")"
   ]
  },
  {
   "cell_type": "markdown",
   "metadata": {},
   "source": [
    "# 使用模型进行分类，并显示结果"
   ]
  },
  {
   "cell_type": "code",
   "execution_count": null,
   "metadata": {},
   "outputs": [],
   "source": [
    "fig,ax = plt.subplots(5,7,figsize=(6,6))\n",
    "def ShowImg(id,title,img,cm = 'gray'):\n",
    "    x,y = divmod(id,7)\n",
    "    ax[x,y].imshow(img,plt.get_cmap(cm))\n",
    "    ax[x,y].set_title(title,fontsize=16)\n",
    "    ax[x,y].axis('off')\n",
    "for i in range(35):\n",
    "    image_hog=test_x[i]\n",
    "    label = models['SVM'].predict([image_hog])\n",
    "    ShowImg(i,label[0],test_image[i].reshape(28,28))"
   ]
  }
 ],
 "metadata": {
  "kernelspec": {
   "display_name": "Python 3",
   "language": "python",
   "name": "python3"
  },
  "language_info": {
   "codemirror_mode": {
    "name": "ipython",
    "version": 3
   },
   "file_extension": ".py",
   "mimetype": "text/x-python",
   "name": "python",
   "nbconvert_exporter": "python",
   "pygments_lexer": "ipython3",
   "version": "3.7.9"
  }
 },
 "nbformat": 4,
 "nbformat_minor": 4
}
