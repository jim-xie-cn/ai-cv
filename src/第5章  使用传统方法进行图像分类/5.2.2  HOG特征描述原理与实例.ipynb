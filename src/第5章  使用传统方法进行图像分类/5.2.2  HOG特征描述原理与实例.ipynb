{
 "cells": [
  {
   "cell_type": "markdown",
   "metadata": {
    "scrolled": true
   },
   "source": [
    "HOG特征描述原理与实例\n",
    "\n",
    "作者：谢文伟\n",
    "\n",
    "邮件：jim.xie.cn@outlook.com\n",
    "\n",
    "主页：https://github.com/jim-xie-cn/ai-cv"
   ]
  },
  {
   "cell_type": "markdown",
   "metadata": {},
   "source": [
    "导入用到的开发库"
   ]
  },
  {
   "cell_type": "code",
   "execution_count": null,
   "metadata": {},
   "outputs": [],
   "source": [
    "from matplotlib import pyplot as plt\n",
    "import cv2\n",
    "plt.rcParams['font.sans-serif']=['SimHei'] #使用中文字体"
   ]
  },
  {
   "cell_type": "markdown",
   "metadata": {},
   "source": [
    "# 图像梯度"
   ]
  },
  {
   "cell_type": "markdown",
   "metadata": {},
   "source": [
    "读图像文件，并转换为灰度图"
   ]
  },
  {
   "cell_type": "code",
   "execution_count": null,
   "metadata": {},
   "outputs": [],
   "source": [
    "img= cv2.imread('./images/helicopter.png')\n",
    "image= cv2.cvtColor(img.copy(),cv2.COLOR_BGR2RGB)\n",
    "gray = cv2.cvtColor(image.copy(),cv2.COLOR_RGB2GRAY)"
   ]
  },
  {
   "cell_type": "markdown",
   "metadata": {},
   "source": [
    "使用Sobel算子计算梯度和方向"
   ]
  },
  {
   "cell_type": "code",
   "execution_count": null,
   "metadata": {},
   "outputs": [],
   "source": [
    "dx = cv2.Sobel(gray, cv2.CV_32F, 1, 0, ksize=1)\n",
    "dy = cv2.Sobel(gray, cv2.CV_32F, 0, 1, ksize=1)\n",
    "gradient,angle = cv2.cartToPolar(dx,dy,angleInDegrees=True)\n",
    "#将小于0的像素值设置为0\n",
    "dx=cv2.convertScaleAbs(dx)\n",
    "dy=cv2.convertScaleAbs(dy)\n",
    "gradient=cv2.convertScaleAbs(gradient)"
   ]
  },
  {
   "cell_type": "markdown",
   "metadata": {},
   "source": [
    "显示检测结果"
   ]
  },
  {
   "cell_type": "code",
   "execution_count": null,
   "metadata": {},
   "outputs": [],
   "source": [
    "fig,ax = plt.subplots(1,5,figsize=(32,7))\n",
    "def ShowImg(id,title,img,cm = 'binary'):\n",
    "    ax=fig.add_subplot(1,5,id)\n",
    "    ax.imshow(img,plt.get_cmap(cm))\n",
    "    plt.title(title,fontsize=32)\n",
    "ShowImg(1,'原图',gray,'gray');ShowImg(2,'横向梯度图',dx);ShowImg(3,'纵向梯度图',dy);\n",
    "ShowImg(4,'合梯度幅值图',gradient);ShowImg(5,'方向图',angle)"
   ]
  },
  {
   "cell_type": "markdown",
   "metadata": {},
   "source": [
    "# 使用OpenCV和skimage提取HOG特征"
   ]
  },
  {
   "cell_type": "markdown",
   "metadata": {},
   "source": [
    "导入用到的开发库"
   ]
  },
  {
   "cell_type": "code",
   "execution_count": null,
   "metadata": {},
   "outputs": [],
   "source": [
    "from skimage import feature, exposure\n",
    "from matplotlib import pyplot as plt\n",
    "import cv2\n",
    "plt.rcParams['font.sans-serif']=['SimHei'] #使用中文字体"
   ]
  },
  {
   "cell_type": "markdown",
   "metadata": {},
   "source": [
    "使用skimage提取HOG特征"
   ]
  },
  {
   "cell_type": "code",
   "execution_count": null,
   "metadata": {},
   "outputs": [],
   "source": [
    "image= cv2.imread('./images/girl.jpg')\n",
    "image= cv2.cvtColor(img.copy(),cv2.COLOR_BGR2RGB)\n",
    "fd,hog = feature.hog(image, orientations=9,visualize=True)\n",
    "hog_image = exposure.rescale_intensity(hog, in_range=(0, 10))\n",
    "plt.imshow(image);plt.show()\n",
    "plt.imshow(hog_image);plt.show()"
   ]
  },
  {
   "cell_type": "code",
   "execution_count": null,
   "metadata": {},
   "outputs": [],
   "source": []
  }
 ],
 "metadata": {
  "celltoolbar": "Raw Cell Format",
  "kernelspec": {
   "display_name": "Python 3",
   "language": "python",
   "name": "python3"
  },
  "language_info": {
   "codemirror_mode": {
    "name": "ipython",
    "version": 3
   },
   "file_extension": ".py",
   "mimetype": "text/x-python",
   "name": "python",
   "nbconvert_exporter": "python",
   "pygments_lexer": "ipython3",
   "version": "3.7.9"
  }
 },
 "nbformat": 4,
 "nbformat_minor": 2
}
