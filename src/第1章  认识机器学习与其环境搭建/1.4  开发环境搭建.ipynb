{
 "cells": [
  {
   "cell_type": "markdown",
   "id": "reduced-decision",
   "metadata": {},
   "source": [
    "开发环境搭建\n",
    "\n",
    "作者：谢文伟\n",
    "\n",
    "邮件：jim.xie.cn@outlook.com\n",
    "\n",
    "主页：https://github.com/jim-xie-cn/ai-cv"
   ]
  },
  {
   "cell_type": "markdown",
   "id": "complex-explorer",
   "metadata": {},
   "source": [
    "查看Python版本"
   ]
  },
  {
   "cell_type": "code",
   "execution_count": null,
   "id": "complex-shirt",
   "metadata": {
    "scrolled": true
   },
   "outputs": [],
   "source": [
    "import sys\n",
    "print(sys.version)"
   ]
  },
  {
   "cell_type": "markdown",
   "id": "baking-palestinian",
   "metadata": {},
   "source": [
    "查看已经安装的开发包"
   ]
  },
  {
   "cell_type": "code",
   "execution_count": null,
   "id": "organic-discipline",
   "metadata": {
    "scrolled": false
   },
   "outputs": [],
   "source": [
    "!pip list"
   ]
  },
  {
   "cell_type": "markdown",
   "id": "double-coach",
   "metadata": {},
   "source": [
    "查看matplotlib详细信息"
   ]
  },
  {
   "cell_type": "code",
   "execution_count": null,
   "id": "parallel-hacker",
   "metadata": {
    "scrolled": true
   },
   "outputs": [],
   "source": [
    "!pip show matplotlib"
   ]
  },
  {
   "cell_type": "markdown",
   "id": "turkish-ideal",
   "metadata": {},
   "source": [
    "查找matplotlib字体安装路径"
   ]
  },
  {
   "cell_type": "code",
   "execution_count": null,
   "id": "certain-snowboard",
   "metadata": {
    "scrolled": true
   },
   "outputs": [],
   "source": [
    "import matplotlib\n",
    "print(matplotlib.matplotlib_fname())"
   ]
  },
  {
   "cell_type": "markdown",
   "id": "previous-parent",
   "metadata": {},
   "source": [
    "查看matplotlib缓存路径"
   ]
  },
  {
   "cell_type": "code",
   "execution_count": null,
   "id": "disturbed-courage",
   "metadata": {
    "scrolled": true
   },
   "outputs": [],
   "source": [
    "import matplotlib\n",
    "print(matplotlib.get_cachedir())"
   ]
  },
  {
   "cell_type": "markdown",
   "id": "english-active",
   "metadata": {},
   "source": [
    "重建缓存"
   ]
  },
  {
   "cell_type": "code",
   "execution_count": null,
   "id": "impossible-scene",
   "metadata": {},
   "outputs": [],
   "source": [
    "from matplotlib.font_manager import _rebuild\n",
    "_rebuild() "
   ]
  },
  {
   "cell_type": "code",
   "execution_count": null,
   "id": "united-estate",
   "metadata": {},
   "outputs": [],
   "source": []
  }
 ],
 "metadata": {
  "kernelspec": {
   "display_name": "Python 3",
   "language": "python",
   "name": "python3"
  },
  "language_info": {
   "codemirror_mode": {
    "name": "ipython",
    "version": 3
   },
   "file_extension": ".py",
   "mimetype": "text/x-python",
   "name": "python",
   "nbconvert_exporter": "python",
   "pygments_lexer": "ipython3",
   "version": "3.7.9"
  }
 },
 "nbformat": 4,
 "nbformat_minor": 5
}
