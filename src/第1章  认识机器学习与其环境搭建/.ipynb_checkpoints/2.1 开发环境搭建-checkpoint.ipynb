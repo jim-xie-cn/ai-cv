{
 "cells": [
  {
   "cell_type": "markdown",
   "id": "confidential-patio",
   "metadata": {},
   "source": [
    "开发环境搭建\n",
    "\n",
    "作者：谢文伟\n",
    "\n",
    "邮件：xiewenwei@sina.com\n",
    "\n",
    "主页：https://github.com/jimxie2012/ai-cv"
   ]
  },
  {
   "cell_type": "markdown",
   "id": "limiting-float",
   "metadata": {},
   "source": [
    "查看Python版本"
   ]
  },
  {
   "cell_type": "code",
   "execution_count": 6,
   "id": "christian-miller",
   "metadata": {},
   "outputs": [
    {
     "name": "stdout",
     "output_type": "stream",
     "text": [
      "3.7.9 (default, Aug 31 2020, 07:22:35) \n",
      "[Clang 10.0.0 ]\n"
     ]
    }
   ],
   "source": [
    "import sys\n",
    "print(sys.version)"
   ]
  },
  {
   "cell_type": "markdown",
   "id": "welcome-dialogue",
   "metadata": {},
   "source": [
    "查看已经安装的开发包"
   ]
  },
  {
   "cell_type": "code",
   "execution_count": 4,
   "id": "drawn-updating",
   "metadata": {},
   "outputs": [
    {
     "name": "stdout",
     "output_type": "stream",
     "text": [
      "Package               Version\r\n",
      "--------------------- -------------------\r\n",
      "absl-py               0.11.0\r\n",
      "appnope               0.1.2\r\n",
      "astor                 0.8.1\r\n",
      "attrs                 20.3.0\r\n",
      "backcall              0.2.0\r\n",
      "bleach                3.1.0\r\n",
      "certifi               2020.12.5\r\n",
      "contextlib2           0.6.0.post1\r\n",
      "cycler                0.10.0\r\n",
      "Cython                0.29.22\r\n",
      "decorator             4.4.2\r\n",
      "defusedxml            0.6.0\r\n",
      "dlib                  19.22.0\r\n",
      "entrypoints           0.3\r\n",
      "gast                  0.2.2\r\n",
      "google-pasta          0.2.0\r\n",
      "graphviz              0.16\r\n",
      "grpcio                1.31.0\r\n",
      "h5py                  2.8.0\r\n",
      "imageio               2.9.0\r\n",
      "imgaug                0.4.0\r\n",
      "importlib-metadata    2.0.0\r\n",
      "ipykernel             5.3.4\r\n",
      "ipython               7.19.0\r\n",
      "ipython-genutils      0.2.0\r\n",
      "ipywidgets            7.6.3\r\n",
      "jedi                  0.17.0\r\n",
      "Jinja2                2.11.2\r\n",
      "joblib                1.0.0\r\n",
      "jsonschema            3.2.0\r\n",
      "jupyter               1.0.0\r\n",
      "jupyter-client        6.1.7\r\n",
      "jupyter-console       6.2.0\r\n",
      "jupyter-core          4.7.0\r\n",
      "jupyterlab-widgets    1.0.0\r\n",
      "Keras                 2.3.1\r\n",
      "Keras-Applications    1.0.8\r\n",
      "Keras-Preprocessing   1.1.0\r\n",
      "kiwisolver            1.3.0\r\n",
      "lvis                  0.5.3\r\n",
      "lxml                  4.6.3\r\n",
      "Markdown              3.3.3\r\n",
      "MarkupSafe            1.1.1\r\n",
      "mask-rcnn-12rics      0.2.3\r\n",
      "matplotlib            3.3.2\r\n",
      "mistune               0.8.4\r\n",
      "mkl-fft               1.2.0\r\n",
      "mkl-random            1.1.1\r\n",
      "mkl-service           2.3.0\r\n",
      "mlxtend               0.18.0\r\n",
      "mtcnn                 0.1.0\r\n",
      "nbconvert             5.5.0\r\n",
      "nbformat              5.1.2\r\n",
      "networkx              2.5\r\n",
      "notebook              5.7.10\r\n",
      "numpy                 1.19.2\r\n",
      "object-detection      0.1\r\n",
      "olefile               0.46\r\n",
      "opencv-contrib-python 4.5.1.48\r\n",
      "opencv-python         4.5.1.48\r\n",
      "opt-einsum            3.1.0\r\n",
      "pandas                1.2.1\r\n",
      "pandocfilters         1.4.3\r\n",
      "parso                 0.8.1\r\n",
      "pexpect               4.8.0\r\n",
      "pickleshare           0.7.5\r\n",
      "Pillow                8.1.0\r\n",
      "pip                   20.3.3\r\n",
      "prometheus-client     0.9.0\r\n",
      "prompt-toolkit        3.0.8\r\n",
      "protobuf              3.13.0\r\n",
      "ptyprocess            0.7.0\r\n",
      "pycocotools           2.0.2\r\n",
      "Pygments              2.7.4\r\n",
      "pyparsing             2.4.7\r\n",
      "pyrsistent            0.17.3\r\n",
      "python-dateutil       2.8.1\r\n",
      "pytz                  2020.5\r\n",
      "PyWavelets            1.1.1\r\n",
      "PyYAML                5.4.1\r\n",
      "pyzmq                 20.0.0\r\n",
      "qtconsole             4.4.3\r\n",
      "scikit-image          0.18.1\r\n",
      "scikit-learn          0.23.2\r\n",
      "scipy                 1.5.2\r\n",
      "seaborn               0.11.1\r\n",
      "selective-search      0.1.2.2\r\n",
      "Send2Trash            1.5.0\r\n",
      "setuptools            52.0.0.post20210125\r\n",
      "Shapely               1.7.1\r\n",
      "six                   1.15.0\r\n",
      "src                   0.1.0\r\n",
      "tensorboard           1.15.0\r\n",
      "tensorflow            1.15.0\r\n",
      "tensorflow-estimator  1.15.1\r\n",
      "termcolor             1.1.0\r\n",
      "terminado             0.9.2\r\n",
      "testpath              0.4.4\r\n",
      "tf-slim               1.1.0\r\n",
      "threadpoolctl         2.1.0\r\n",
      "tifffile              2021.2.26\r\n",
      "tornado               6.1\r\n",
      "traitlets             5.0.5\r\n",
      "wcwidth               0.2.5\r\n",
      "webencodings          0.5.1\r\n",
      "Werkzeug              0.16.1\r\n",
      "wheel                 0.36.2\r\n",
      "widgetsnbextension    3.5.1\r\n",
      "wrapt                 1.12.1\r\n",
      "xgboost               1.3.3\r\n",
      "zipp                  3.4.0\r\n"
     ]
    }
   ],
   "source": [
    "!pip list"
   ]
  },
  {
   "cell_type": "markdown",
   "id": "olympic-forge",
   "metadata": {},
   "source": [
    "查看matplotlib详细信息"
   ]
  },
  {
   "cell_type": "code",
   "execution_count": 3,
   "id": "scheduled-basket",
   "metadata": {},
   "outputs": [
    {
     "name": "stdout",
     "output_type": "stream",
     "text": [
      "Name: matplotlib\r\n",
      "Version: 3.3.2\r\n",
      "Summary: Python plotting package\r\n",
      "Home-page: https://matplotlib.org\r\n",
      "Author: John D. Hunter, Michael Droettboom\r\n",
      "Author-email: matplotlib-users@python.org\r\n",
      "License: PSF\r\n",
      "Location: /Users/jim/anaconda3/envs/p37/lib/python3.7/site-packages\r\n",
      "Requires: python-dateutil, pillow, pyparsing, kiwisolver, certifi, cycler, numpy\r\n",
      "Required-by: seaborn, scikit-image, pycocotools, object-detection, mlxtend, lvis, imgaug\r\n"
     ]
    }
   ],
   "source": [
    "!pip show matplotlib"
   ]
  },
  {
   "cell_type": "markdown",
   "id": "christian-copying",
   "metadata": {},
   "source": [
    "查找matplotlib字体安装路径"
   ]
  },
  {
   "cell_type": "code",
   "execution_count": 1,
   "id": "extra-divorce",
   "metadata": {},
   "outputs": [
    {
     "name": "stdout",
     "output_type": "stream",
     "text": [
      "/Users/jim/anaconda3/envs/p37/lib/python3.7/site-packages/matplotlib/mpl-data/matplotlibrc\n"
     ]
    }
   ],
   "source": [
    "import matplotlib\n",
    "print(matplotlib.matplotlib_fname())"
   ]
  },
  {
   "cell_type": "code",
   "execution_count": null,
   "id": "decimal-mystery",
   "metadata": {},
   "outputs": [],
   "source": []
  }
 ],
 "metadata": {
  "kernelspec": {
   "display_name": "Python 3",
   "language": "python",
   "name": "python3"
  },
  "language_info": {
   "codemirror_mode": {
    "name": "ipython",
    "version": 3
   },
   "file_extension": ".py",
   "mimetype": "text/x-python",
   "name": "python",
   "nbconvert_exporter": "python",
   "pygments_lexer": "ipython3",
   "version": "3.7.9"
  }
 },
 "nbformat": 4,
 "nbformat_minor": 5
}
