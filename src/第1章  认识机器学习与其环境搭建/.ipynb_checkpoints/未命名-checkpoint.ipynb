{
 "cells": [
  {
   "cell_type": "markdown",
   "id": "collaborative-manitoba",
   "metadata": {},
   "source": [
    "# 统计图中无法显示中文"
   ]
  },
  {
   "cell_type": "markdown",
   "id": "indian-headset",
   "metadata": {},
   "source": [
    "查找matplotlib字体安装路径"
   ]
  },
  {
   "cell_type": "code",
   "execution_count": 1,
   "id": "activated-lecture",
   "metadata": {},
   "outputs": [
    {
     "name": "stdout",
     "output_type": "stream",
     "text": [
      "/Users/jim/anaconda3/envs/p37/lib/python3.7/site-packages/matplotlib/mpl-data/matplotlibrc\n"
     ]
    }
   ],
   "source": [
    "import matplotlib\n",
    "print(matplotlib.matplotlib_fname())"
   ]
  },
  {
   "cell_type": "code",
   "execution_count": null,
   "id": "industrial-celebration",
   "metadata": {},
   "outputs": [],
   "source": []
  }
 ],
 "metadata": {
  "kernelspec": {
   "display_name": "Python 3",
   "language": "python",
   "name": "python3"
  },
  "language_info": {
   "codemirror_mode": {
    "name": "ipython",
    "version": 3
   },
   "file_extension": ".py",
   "mimetype": "text/x-python",
   "name": "python",
   "nbconvert_exporter": "python",
   "pygments_lexer": "ipython3",
   "version": "3.7.9"
  }
 },
 "nbformat": 4,
 "nbformat_minor": 5
}
