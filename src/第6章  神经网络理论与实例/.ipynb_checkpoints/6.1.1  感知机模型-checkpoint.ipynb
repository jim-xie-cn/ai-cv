{
 "cells": [
  {
   "cell_type": "markdown",
   "metadata": {},
   "source": [
    "感知机模型\n",
    "\n",
    "作者：谢文伟\n",
    "\n",
    "邮件：jim.xie.cn@outlook.com\n",
    "\n",
    "主页：https://github.com/jim-xie-cn/ai-cv"
   ]
  },
  {
   "cell_type": "markdown",
   "metadata": {},
   "source": [
    "导入用到的包"
   ]
  },
  {
   "cell_type": "code",
   "execution_count": null,
   "metadata": {
    "scrolled": true
   },
   "outputs": [],
   "source": [
    "import matplotlib.pyplot as plt\n",
    "import numpy as np\n",
    "from sklearn.datasets import make_blobs\n",
    "from sklearn.model_selection import train_test_split\n",
    "from sklearn.linear_model import Perceptron\n",
    "plt.style.use({'figure.figsize':(12, 6)})#设置画布大小\n",
    "plt.rcParams['font.sans-serif']=['SimHei'] #使用中文字体"
   ]
  },
  {
   "cell_type": "markdown",
   "metadata": {},
   "source": [
    "随机生成训练和测试数据"
   ]
  },
  {
   "cell_type": "code",
   "execution_count": null,
   "metadata": {
    "scrolled": true
   },
   "outputs": [],
   "source": [
    "#随机生成样本（两个特征，2个分类）\n",
    "X,Y= make_blobs(n_samples=100,n_features=2,centers=2)\n",
    "#划分成训练集和测试集，测试集占总样本的30%，训练集占70%\n",
    "X_train,X_test,Y_train,Y_test=train_test_split(X,Y,test_size=0.30)"
   ]
  },
  {
   "cell_type": "markdown",
   "metadata": {},
   "source": [
    "训练感知机模型，并显示预测结果"
   ]
  },
  {
   "cell_type": "code",
   "execution_count": null,
   "metadata": {
    "scrolled": true
   },
   "outputs": [],
   "source": [
    "#定义感知机，并进行训练和评估\n",
    "clf = Perceptron()\n",
    "clf.fit(X_train,Y_train)\n",
    "print(\"model score\",clf.score(X_test,Y_test))\n",
    "print(\"w=%s\"%clf.coef_[0],\"b=\",clf.intercept_[0])\n",
    "#显示分类结果\n",
    "plt.scatter(X_test[Y_test==0][:,0],X_test[Y_test==0][:,1],marker='1',s=300)\n",
    "plt.scatter(X_test[Y_test==1][:,0],X_test[Y_test==1][:,1],marker='+',s=300)\n",
    "line_x = np.arange(-10,10)\n",
    "line_y = line_x*(-clf.coef_[0][0]/clf.coef_[0][1])-clf.intercept_\n",
    "plt.plot(line_x,line_y,color='g')"
   ]
  },
  {
   "cell_type": "code",
   "execution_count": null,
   "metadata": {
    "scrolled": true
   },
   "outputs": [],
   "source": []
  }
 ],
 "metadata": {
  "kernelspec": {
   "display_name": "Python 3",
   "language": "python",
   "name": "python3"
  },
  "language_info": {
   "codemirror_mode": {
    "name": "ipython",
    "version": 3
   },
   "file_extension": ".py",
   "mimetype": "text/x-python",
   "name": "python",
   "nbconvert_exporter": "python",
   "pygments_lexer": "ipython3",
   "version": "3.7.9"
  }
 },
 "nbformat": 4,
 "nbformat_minor": 4
}
