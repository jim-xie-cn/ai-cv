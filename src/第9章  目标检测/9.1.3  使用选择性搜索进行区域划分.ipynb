{
 "cells": [
  {
   "cell_type": "markdown",
   "metadata": {},
   "source": [
    "使用选择性搜索进行区域划分\n",
    "\n",
    "作者：谢文伟\n",
    "\n",
    "邮件：jim.xie.cn@outlook.com\n",
    "\n",
    "主页：https://github.com/jim-xie-cn/ai-cv"
   ]
  },
  {
   "cell_type": "code",
   "execution_count": null,
   "metadata": {},
   "outputs": [],
   "source": [
    "from matplotlib import pyplot as plt\n",
    "import cv2,random\n",
    "image = cv2.imread(\"./images/shapes.jpg\") #读取文件\n",
    "image= cv2.cvtColor(image.copy(),cv2.COLOR_BGR2RGB)\n",
    "#创建Selective search对象\n",
    "ss = cv2.ximgproc.segmentation.createSelectiveSearchSegmentation()\n",
    "ss.setBaseImage(image) #输入图像\n",
    "ss.switchToSelectiveSearchFast() #设置快速检测模式 \n",
    "rects_fast = ss.process() #开始检测\n",
    "ss.switchToSelectiveSearchQuality() #设置详细检测模式\n",
    "rects_full = ss.process() #开始检测\n",
    "print(\"    划分的子区域数量：%d(快速检测),%d(详细检测)\"%(len(rects_fast),len(rects_full)))\n",
    "#显示检测到的100个子区域\n",
    "for i in range(0,100):\n",
    "    x,y,w,h = rects_full[i]\n",
    "    color = [random.randint(0, 255) for j in range(0, 3)]\n",
    "    cv2.rectangle(image, (x, y), (x + w, y + h), color, 2)\n",
    "plt.imshow(image)\n",
    "plt.show()"
   ]
  },
  {
   "cell_type": "code",
   "execution_count": null,
   "metadata": {},
   "outputs": [],
   "source": []
  }
 ],
 "metadata": {
  "celltoolbar": "Raw Cell Format",
  "kernelspec": {
   "display_name": "Python 3",
   "language": "python",
   "name": "python3"
  },
  "language_info": {
   "codemirror_mode": {
    "name": "ipython",
    "version": 3
   },
   "file_extension": ".py",
   "mimetype": "text/x-python",
   "name": "python",
   "nbconvert_exporter": "python",
   "pygments_lexer": "ipython3",
   "version": "3.7.9"
  }
 },
 "nbformat": 4,
 "nbformat_minor": 2
}
