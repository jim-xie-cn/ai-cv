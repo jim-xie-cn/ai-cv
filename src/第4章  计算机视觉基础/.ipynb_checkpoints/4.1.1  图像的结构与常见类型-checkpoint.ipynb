{
 "cells": [
  {
   "cell_type": "markdown",
   "metadata": {},
   "source": [
    "图像的结构和常见类型\n",
    "\n",
    "作者：谢文伟\n",
    "\n",
    "邮件：jim.xie.cn@outlook.com\n",
    "\n",
    "主页：https://github.com/jim-xie-cn/ai-cv"
   ]
  },
  {
   "cell_type": "markdown",
   "metadata": {},
   "source": [
    "导入用到的开发库"
   ]
  },
  {
   "cell_type": "code",
   "execution_count": null,
   "metadata": {
    "scrolled": true
   },
   "outputs": [],
   "source": [
    "# -*- coding: utf-8 -*- \n",
    "import numpy as np\n",
    "import pandas as pd\n",
    "from matplotlib import pyplot as plt\n",
    "import cv2"
   ]
  },
  {
   "cell_type": "markdown",
   "metadata": {},
   "source": [
    "读取图像，不同的图像格式转换"
   ]
  },
  {
   "cell_type": "code",
   "execution_count": null,
   "metadata": {},
   "outputs": [],
   "source": [
    "img= cv2.imread('./images/zero.jpg')\n",
    "image= cv2.cvtColor(img.copy(),cv2.COLOR_BGR2RGB)\n",
    "gray = cv2.cvtColor(image.copy(),cv2.COLOR_RGB2GRAY)\n",
    "edge = cv2.Canny(gray.copy(),128,255)\n",
    "ret, binary = cv2.threshold(gray.copy(), 80, 255, cv2.THRESH_BINARY)\n",
    "binary = cv2.bitwise_not(binary)\n",
    "blur = cv2.GaussianBlur(gray.copy(),(5,5),3)\n",
    "\n",
    "fig,ax = plt.subplots(2,2,figsize=(30,10))\n",
    "plt.subplot(2,2,1)\n",
    "plt.imshow(image)\n",
    "plt.subplot(2,2,2)\n",
    "plt.imshow(gray,cmap='gray')\n",
    "plt.subplot(2,2,3)\n",
    "plt.imshow(binary,cmap=plt.get_cmap('binary'))\n",
    "plt.subplot(2,2,4)\n",
    "plt.imshow(edge,cmap='gray')\n",
    "binary"
   ]
  },
  {
   "cell_type": "code",
   "execution_count": null,
   "metadata": {
    "scrolled": true
   },
   "outputs": [],
   "source": [
    "img= cv2.imread('./images/zero.jpg')\n",
    "img=cv2.resize(img,(12,16))\n",
    "gray=cv2.cvtColor(img.copy(),cv2.COLOR_BGR2GRAY)\n",
    "cv2.imwrite('./output/zero-gray.jpg',img)\n",
    "ret, binary = cv2.threshold(gray.copy(), 80, 255, cv2.THRESH_BINARY)\n",
    "binary = cv2.bitwise_not(binary)\n",
    "cv2.imwrite('./output/zero-bin.jpg',binary)\n",
    "hsv = cv2.cvtColor(img, cv2.COLOR_BGR2HSV)\n",
    "cv2.imwrite('./output/zero-hsv.jpg',hsv)"
   ]
  },
  {
   "cell_type": "markdown",
   "metadata": {},
   "source": [
    "将图像数组导出到CSV文件中"
   ]
  },
  {
   "cell_type": "code",
   "execution_count": null,
   "metadata": {
    "scrolled": true
   },
   "outputs": [],
   "source": [
    "data=[]\n",
    "for y in range(len(gray)):\n",
    "    tmp = {}\n",
    "    for x in range(len(gray[y])):\n",
    "        d = gray[y][x]\n",
    "        tmp[str(x)]='['+str(d)+']'\n",
    "    data.append(tmp)\n",
    "df = pd.DataFrame(data)\n",
    "df.to_csv(\"./output/zero-gray.csv\")"
   ]
  },
  {
   "cell_type": "code",
   "execution_count": null,
   "metadata": {},
   "outputs": [],
   "source": [
    "data=[]\n",
    "for y in range(len(img)):\n",
    "    tmp = {}\n",
    "    for x in range(len(img[y])):\n",
    "        d = img[y][x]\n",
    "        tmp[str(x)]=str(d)\n",
    "    data.append(tmp)\n",
    "df = pd.DataFrame(data)\n",
    "df.to_csv(\"./output/zero-img.csv\")"
   ]
  },
  {
   "cell_type": "code",
   "execution_count": null,
   "metadata": {},
   "outputs": [],
   "source": [
    "data=[]\n",
    "for y in range(len(binary)):\n",
    "    tmp = {}\n",
    "    for x in range(len(binary[y])):\n",
    "        d = binary[y][x]\n",
    "        tmp[str(x)]=str(d)\n",
    "    data.append(tmp)\n",
    "df = pd.DataFrame(data)\n",
    "df.to_csv(\"./output/zero-binary.csv\")"
   ]
  },
  {
   "cell_type": "code",
   "execution_count": null,
   "metadata": {},
   "outputs": [],
   "source": [
    "data=[]\n",
    "for y in range(len(hsv)):\n",
    "    tmp = {}\n",
    "    for x in range(len(hsv[y])):\n",
    "        d = hsv[y][x]\n",
    "        tmp[str(x)]=str(d)\n",
    "    data.append(tmp)\n",
    "df = pd.DataFrame(data)\n",
    "df.to_csv(\"./output/zero-hsv.csv\")"
   ]
  },
  {
   "cell_type": "code",
   "execution_count": null,
   "metadata": {},
   "outputs": [],
   "source": []
  }
 ],
 "metadata": {
  "celltoolbar": "Raw Cell Format",
  "kernelspec": {
   "display_name": "Python 3",
   "language": "python",
   "name": "python3"
  },
  "language_info": {
   "codemirror_mode": {
    "name": "ipython",
    "version": 3
   },
   "file_extension": ".py",
   "mimetype": "text/x-python",
   "name": "python",
   "nbconvert_exporter": "python",
   "pygments_lexer": "ipython3",
   "version": "3.7.9"
  }
 },
 "nbformat": 4,
 "nbformat_minor": 2
}
