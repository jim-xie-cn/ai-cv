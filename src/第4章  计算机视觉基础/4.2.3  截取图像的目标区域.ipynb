{
 "cells": [
  {
   "cell_type": "markdown",
   "metadata": {
    "scrolled": true
   },
   "source": [
    "截取图像的目标区域\n",
    "\n",
    "作者：谢文伟\n",
    "\n",
    "邮件：jim.xie.cn@outlook.com\n",
    "\n",
    "主页：https://github.com/jim-xie-cn/ai-cv"
   ]
  },
  {
   "cell_type": "markdown",
   "metadata": {},
   "source": [
    "导入用到的开发库"
   ]
  },
  {
   "cell_type": "code",
   "execution_count": null,
   "metadata": {},
   "outputs": [],
   "source": [
    "from matplotlib import pyplot as plt\n",
    "import numpy as np\n",
    "import cv2"
   ]
  },
  {
   "cell_type": "markdown",
   "metadata": {},
   "source": [
    "根据颜色截取ROI"
   ]
  },
  {
   "cell_type": "code",
   "execution_count": null,
   "metadata": {},
   "outputs": [],
   "source": [
    "#读取图像，并转换为RGB格式\n",
    "bgr_img=cv2.imread('./images/color_shapes.jpg')\n",
    "rgb_img= cv2.cvtColor(bgr_img.copy(),cv2.COLOR_BGR2RGB)\n",
    "hsv=cv2.cvtColor(bgr_img,cv2.COLOR_BGR2HSV)#将RGB格式转换为HSV格式\n",
    "#根据颜色设置过滤条件，只保留黑色部分\n",
    "lower=np.array([0,0,0])\n",
    "upper=np.array([180,255,46])\n",
    "mask = cv2.inRange(hsv,lower, upper)#inRange函数将位于区域间的值置为255，位于区间外的值置为0。\n",
    "#显示原图与截取后的图\n",
    "plt.imshow(rgb_img);plt.show()\n",
    "plt.imshow(mask,cmap='gray');plt.show()"
   ]
  },
  {
   "cell_type": "code",
   "execution_count": null,
   "metadata": {},
   "outputs": [],
   "source": [
    "#读取图片文件，得到图像数组，默认是BGR格式\n",
    "bgr_img= cv2.imread('./images/sample_shapes.jpg')\n",
    "rgb_img= cv2.cvtColor(bgr_img.copy(),cv2.COLOR_BGR2RGB)#转换为RGB格式\n",
    "gray = cv2.cvtColor(rgb_img.copy(),cv2.COLOR_RGB2GRAY)#灰度化，转换为灰度图\n",
    "#检测图像中物体的轮廓，并标记检测到的物体\n",
    "contours,_ = cv2.findContours(gray,cv2.RETR_TREE,cv2.CHAIN_APPROX_NONE) \n",
    "cv2.drawContours(rgb_img,contours,-1,(255,0,0),thickness=5)  \n",
    "#显示结果\n",
    "plt.imshow(gray,cmap='gray');plt.show()\n",
    "plt.imshow(rgb_img);plt.show()"
   ]
  },
  {
   "cell_type": "code",
   "execution_count": null,
   "metadata": {},
   "outputs": [],
   "source": []
  },
  {
   "cell_type": "code",
   "execution_count": null,
   "metadata": {},
   "outputs": [],
   "source": []
  }
 ],
 "metadata": {
  "celltoolbar": "Raw Cell Format",
  "kernelspec": {
   "display_name": "Python 3",
   "language": "python",
   "name": "python3"
  },
  "language_info": {
   "codemirror_mode": {
    "name": "ipython",
    "version": 3
   },
   "file_extension": ".py",
   "mimetype": "text/x-python",
   "name": "python",
   "nbconvert_exporter": "python",
   "pygments_lexer": "ipython3",
   "version": "3.7.9"
  }
 },
 "nbformat": 4,
 "nbformat_minor": 2
}
