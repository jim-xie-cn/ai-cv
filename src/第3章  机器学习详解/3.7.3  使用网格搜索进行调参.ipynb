{
 "cells": [
  {
   "cell_type": "markdown",
   "metadata": {},
   "source": [
    "交叉验证与网格搜索\n",
    "\n",
    "作者：谢文伟\n",
    "\n",
    "邮件：jim.xie.cn@outlook.com\n",
    "\n",
    "主页：https://github.com/jim-xie-cn/ai-cv"
   ]
  },
  {
   "cell_type": "markdown",
   "metadata": {},
   "source": [
    "导入用到的开发库"
   ]
  },
  {
   "cell_type": "code",
   "execution_count": null,
   "metadata": {},
   "outputs": [],
   "source": [
    "from sklearn.feature_selection import f_classif,SelectKBest\n",
    "from sklearn.svm import SVC\n",
    "from sklearn.preprocessing import StandardScaler\n",
    "from sklearn.pipeline import Pipeline\n",
    "from sklearn.datasets import make_classification\n",
    "from sklearn.model_selection import train_test_split,GridSearchCV"
   ]
  },
  {
   "cell_type": "markdown",
   "metadata": {},
   "source": [
    "随机生成1000组样本，使用管道和网格搜索，寻找最优参数"
   ]
  },
  {
   "cell_type": "code",
   "execution_count": null,
   "metadata": {},
   "outputs": [],
   "source": [
    "X, Y = make_classification(n_samples=1000,n_features=20,n_classes=2)\n",
    "X_train,X_test,Y_train,Y_test=train_test_split(X,Y,test_size=0.10)\n",
    "#创建管道\n",
    "pipe_list =[]\n",
    "pipe_list.append((\"SC\",StandardScaler()))\n",
    "pipe_list.append((\"FE\",SelectKBest(f_classif, k=10)))\n",
    "pipe_list.append((\"SVM\",SVC(C=15)))\n",
    "pipe = Pipeline(steps=pipe_list,verbose=False)\n",
    "param_grid = {'FE__k':[1,2,3],'SVM__C': [1,5, 15, 30, 45, 64]}#设置管道的候选参数\n",
    "search = GridSearchCV(pipe, param_grid,cv=4) #使用4折交叉验证\n",
    "search.fit(X_train, Y_train)\n",
    "print(\"最佳模型:得分=%0.3f，参数=%s\" %(search.best_score_,search.best_params_))\n",
    "print('在测试集上得分:',search.best_estimator_.score(X_test,Y_test))"
   ]
  },
  {
   "cell_type": "code",
   "execution_count": null,
   "metadata": {},
   "outputs": [],
   "source": []
  }
 ],
 "metadata": {
  "kernelspec": {
   "display_name": "Python 3",
   "language": "python",
   "name": "python3"
  },
  "language_info": {
   "codemirror_mode": {
    "name": "ipython",
    "version": 3
   },
   "file_extension": ".py",
   "mimetype": "text/x-python",
   "name": "python",
   "nbconvert_exporter": "python",
   "pygments_lexer": "ipython3",
   "version": "3.7.9"
  }
 },
 "nbformat": 4,
 "nbformat_minor": 4
}
