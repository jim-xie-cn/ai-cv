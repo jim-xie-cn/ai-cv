{
 "cells": [
  {
   "cell_type": "raw",
   "metadata": {},
   "source": [
    "数据转换\n",
    "\n",
    "作者：谢文伟\n",
    "\n",
    "邮件：jim.xie.cn@outlook.com\n",
    "\n",
    "主页：https://github.com/jim-xie-cn/ai-cv"
   ]
  },
  {
   "cell_type": "raw",
   "metadata": {},
   "source": [
    "导入开发库"
   ]
  },
  {
   "cell_type": "code",
   "execution_count": null,
   "metadata": {},
   "outputs": [],
   "source": [
    "#引用以下包做数据处理\n",
    "import numpy as np\n",
    "import pandas as pd\n",
    "from sklearn import preprocessing\n",
    "from scipy.stats import norm,skewnorm\n",
    "#引用以下包做数据可视化\n",
    "import matplotlib.pyplot as plt\n",
    "import seaborn as sns\n",
    "from warnings import filterwarnings"
   ]
  },
  {
   "cell_type": "raw",
   "metadata": {},
   "source": [
    "初始化开发环境"
   ]
  },
  {
   "cell_type": "code",
   "execution_count": null,
   "metadata": {},
   "outputs": [],
   "source": [
    "filterwarnings('ignore')\n",
    "pd.set_option('display.float_format',lambda x:'%.2f'%x) #不使用科学计数法\n",
    "sns.set(font_scale=1.5) #设置统计图字体大小\n",
    "plt.rcParams['font.sans-serif']=['SimHei'] #在统计图上显示中文\n",
    "plt.style.use({'figure.figsize':(24, 8)})  #设置画布大小"
   ]
  },
  {
   "cell_type": "markdown",
   "metadata": {},
   "source": [
    "# 平滑处理\n",
    "Bin分箱方法平滑处理"
   ]
  },
  {
   "cell_type": "code",
   "execution_count": null,
   "metadata": {},
   "outputs": [],
   "source": [
    "df = pd.DataFrame({'原始数据':[10,13,11,19,25,32,24,9,46]})\n",
    "#调用qcut，将数据划分为3个不同的分箱（区间）,并为每个区间设置对应的标签\n",
    "bin_count = 3\n",
    "categoris=[]\n",
    "for i in range(bin_count):\n",
    "    categoris.append('category_'+str(i+1))\n",
    "new_data=pd.qcut(df['原始数据'],bin_count,labels=categoris)\n",
    "df['类别']=new_data  #为每条原始数据设置类别，表示属于哪个分箱\n",
    "#根据类别，将每个类别下的所有数据替换成平均数\n",
    "df['平滑后数据']=np.nan\n",
    "for cate in categoris:\n",
    "    ft = df['类别']== cate\n",
    "    df.loc[ft,'平滑后数据']=df[ft]['原始数据'].mean() #使用平均数替换该类别下的所有数\n",
    "df #显示样本"
   ]
  },
  {
   "cell_type": "raw",
   "metadata": {},
   "source": [
    "# 独热编码(one-hot)"
   ]
  },
  {
   "cell_type": "code",
   "execution_count": null,
   "metadata": {},
   "outputs": [],
   "source": [
    "df = pd.DataFrame()\n",
    "df['年龄']=pd.Series([1,2,3,3,4])\n",
    "dummy = pd.get_dummies(df['年龄'],prefix=\"年龄\")\n",
    "dummy"
   ]
  },
  {
   "cell_type": "markdown",
   "metadata": {},
   "source": [
    "# 规格化处理"
   ]
  },
  {
   "cell_type": "code",
   "execution_count": null,
   "metadata": {},
   "outputs": [],
   "source": [
    "#随机产生50个试验数据\n",
    "x = np.random.randint(1, 5, (50,1)) \n",
    "#显示员工人数，销售额变化图\n",
    "df1 = pd.DataFrame()\n",
    "df1['原始数据'] = x.squeeze() #squeeze函数将数组的空维去掉\n",
    "#进行归一化转换\n",
    "maxmin = preprocessing.MinMaxScaler()\n",
    "m_x = maxmin.fit_transform(x)\n",
    "df1['归一化后数据'] = pd.Series(m_x.squeeze())#squeeze函数将数组的空维去掉\n",
    "#进行标准化转换\n",
    "s_x = preprocessing.scale(x)\n",
    "df1['标准化后数据'] = pd.Series(s_x.squeeze())#squeeze函数将数组的空维去掉\n",
    "df1.plot(figsize=(10,4))\n",
    "plt.ticklabel_format(style='plain')\n",
    "plt.title('规格化数据')\n",
    "plt.show()"
   ]
  },
  {
   "cell_type": "markdown",
   "metadata": {},
   "source": [
    "# 特征构造"
   ]
  },
  {
   "cell_type": "code",
   "execution_count": null,
   "metadata": {},
   "outputs": [],
   "source": [
    "df = pd.read_csv(\"./dataset/bmi/500_Person_Gender_Height_Weight_Index.csv\")\n",
    "df = df.rename(columns={'Gender':'性别','Height':'身高','Weight':'体重','Index':'等级'})\n",
    "df['比值'] = df['体重']/df['身高']\n",
    "plt.style.use({'figure.figsize':(32, 8)})\n",
    "fig,axes=plt.subplots(1,3)\n",
    "sns.scatterplot(x=df.index, y='体重',hue='等级',s=300,data=df,ax=axes[0])\n",
    "sns.scatterplot(x=df.index, y='身高',hue='等级',s=300,data=df,ax=axes[1])\n",
    "sns.scatterplot(x=df.index, y='比值',hue='等级',s=300,data=df,ax=axes[2])"
   ]
  },
  {
   "cell_type": "code",
   "execution_count": null,
   "metadata": {},
   "outputs": [],
   "source": []
  }
 ],
 "metadata": {
  "kernelspec": {
   "display_name": "Python 3",
   "language": "python",
   "name": "python3"
  },
  "language_info": {
   "codemirror_mode": {
    "name": "ipython",
    "version": 3
   },
   "file_extension": ".py",
   "mimetype": "text/x-python",
   "name": "python",
   "nbconvert_exporter": "python",
   "pygments_lexer": "ipython3",
   "version": "3.7.9"
  }
 },
 "nbformat": 4,
 "nbformat_minor": 4
}
