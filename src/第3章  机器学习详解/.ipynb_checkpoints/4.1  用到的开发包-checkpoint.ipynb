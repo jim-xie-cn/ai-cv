{
 "cells": [
  {
   "cell_type": "raw",
   "metadata": {},
   "source": [
    "特征选择用到的开发库\n",
    "\n",
    "作者：谢文伟\n",
    "\n",
    "邮件：xiewenwei@sina.com\n",
    "\n",
    "主页：https://github.com/jimxie2012/ai-cv"
   ]
  },
  {
   "cell_type": "raw",
   "metadata": {},
   "source": [
    "导入开发库"
   ]
  },
  {
   "cell_type": "code",
   "execution_count": 1,
   "metadata": {
    "scrolled": true
   },
   "outputs": [],
   "source": [
    "import random\n",
    "import matplotlib.pyplot as plt\n",
    "import numpy as np\n",
    "import seaborn as sns\n",
    "import pandas as pd\n",
    "from scipy.stats import bernoulli,norm,geom,poisson,expon,binom\n",
    "from warnings import filterwarnings\n",
    "from sklearn import preprocessing"
   ]
  },
  {
   "cell_type": "raw",
   "metadata": {},
   "source": [
    "初始化开发环境"
   ]
  },
  {
   "cell_type": "code",
   "execution_count": 2,
   "metadata": {},
   "outputs": [],
   "source": [
    "filterwarnings('ignore')\n",
    "pd.set_option('display.float_format',lambda x:'%.2f'%x) #不使用科学计数法\n",
    "sns.set(font_scale=1.5) #设置统计图字体大小\n",
    "plt.rcParams['font.sans-serif']=['SimHei'] #在统计图上显示中文\n",
    "plt.style.use({'figure.figsize':(24, 8)})  #设置画布大小"
   ]
  },
  {
   "cell_type": "code",
   "execution_count": null,
   "metadata": {},
   "outputs": [],
   "source": []
  }
 ],
 "metadata": {
  "kernelspec": {
   "display_name": "Python 3",
   "language": "python",
   "name": "python3"
  },
  "language_info": {
   "codemirror_mode": {
    "name": "ipython",
    "version": 3
   },
   "file_extension": ".py",
   "mimetype": "text/x-python",
   "name": "python",
   "nbconvert_exporter": "python",
   "pygments_lexer": "ipython3",
   "version": "3.7.9"
  }
 },
 "nbformat": 4,
 "nbformat_minor": 4
}
