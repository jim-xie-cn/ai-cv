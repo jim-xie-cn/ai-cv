{
 "cells": [
  {
   "cell_type": "markdown",
   "metadata": {},
   "source": [
    "使用过滤法进行特征选择\n",
    "\n",
    "作者：谢文伟\n",
    "\n",
    "邮件：jim.xie.cn@outlook.com\n",
    "\n",
    "主页：https://github.com/jim-xie-cn/ai-cv"
   ]
  },
  {
   "cell_type": "raw",
   "metadata": {},
   "source": [
    "导入开发库"
   ]
  },
  {
   "cell_type": "code",
   "execution_count": null,
   "metadata": {},
   "outputs": [],
   "source": [
    "#引用以下包做数据处理\n",
    "import numpy as np   \n",
    "import pandas as pd     \n",
    "from sklearn.linear_model import Lasso\n",
    "from sklearn import preprocessing\n",
    "from sklearn.feature_selection import SelectFromModel\n",
    "from sklearn.datasets import make_regression,make_blobs\n",
    "from sklearn.ensemble import RandomForestClassifier\n",
    "from sklearn.feature_selection import SelectKBest,VarianceThreshold,chi2,f_classif\n",
    "from mlxtend.feature_selection import SequentialFeatureSelector,ExhaustiveFeatureSelector\n",
    "#引用以下包做数据可视化\n",
    "import seaborn as sns   \n",
    "import matplotlib.pyplot as plt\n",
    "from warnings import filterwarnings"
   ]
  },
  {
   "cell_type": "code",
   "execution_count": null,
   "metadata": {},
   "outputs": [],
   "source": [
    "from warnings import filterwarnings\n",
    "filterwarnings('ignore')"
   ]
  },
  {
   "cell_type": "raw",
   "metadata": {},
   "source": [
    "初始化开发环境"
   ]
  },
  {
   "cell_type": "code",
   "execution_count": null,
   "metadata": {},
   "outputs": [],
   "source": [
    "filterwarnings('ignore')\n",
    "pd.set_option('display.float_format',lambda x:'%.2f'%x) #不使用科学计数法\n",
    "sns.set(font_scale=1.5) #设置统计图字体大小\n",
    "plt.rcParams['font.sans-serif']=['SimHei'] #在统计图上显示中文\n",
    "plt.style.use({'figure.figsize':(24, 8)})  #设置画布大小"
   ]
  },
  {
   "cell_type": "markdown",
   "metadata": {},
   "source": [
    "# 基本特征过滤方法"
   ]
  },
  {
   "cell_type": "raw",
   "metadata": {},
   "source": [
    "常量检查：先计算各个特征的方差，然后根据阈值，选择方差大于阈值的特征。"
   ]
  },
  {
   "cell_type": "code",
   "execution_count": null,
   "metadata": {},
   "outputs": [],
   "source": [
    "df=pd.read_csv(\"./dataset/bmi/500_Person_Gender_Height_Weight_Index.csv\")\n",
    "df.replace({\"Male\":1,\"Female\":0},inplace=True)\n",
    "#常量检查演示：选取身高，体重为待选特征，丢弃掉方差小于阈值(100)的特征\n",
    "X=df.to_records(index=False).tolist()\n",
    "variance = VarianceThreshold(threshold=100) #选择方差超过100的特征\n",
    "newX = variance.fit_transform(X)\n",
    "print(\"特征数量：%d(过滤前),%d(过滤后)\"%(df.shape[1],newX.shape[1]))"
   ]
  },
  {
   "cell_type": "raw",
   "metadata": {},
   "source": [
    "准常量占比检查：计算每个特征中取值最多元素占总记录的比值，如果占比太大，丢弃该特征。"
   ]
  },
  {
   "cell_type": "code",
   "execution_count": null,
   "metadata": {},
   "outputs": [],
   "source": [
    "df=pd.read_csv(\"./dataset/bmi/500_Person_Gender_Height_Weight_Index.csv\")\n",
    "df.replace({\"Male\":1,\"Female\":0},inplace=True)\n",
    "#准常量占比检查演示：丢弃掉准常量占比超过阈值(0.5)的特征\n",
    "drop_feature = []\n",
    "for feature in df.columns:\n",
    "    diff_values = df[feature].value_counts() #计算最大占比(不同值个数/总记录数)\n",
    "    row_count = np.float(len(df))\n",
    "    max_percent = max(diff_values/row_count)\n",
    "    if max_percent >= 0.5: #准常量占比超过阈值(0.5)\n",
    "        drop_feature.append(feature)\n",
    "df1=df.drop(labels=drop_feature, axis=1)\n",
    "print(\"特征数量：%d(过滤前),%d(过滤后)\"%(df.shape[1],df1.shape[1]))"
   ]
  },
  {
   "cell_type": "raw",
   "metadata": {},
   "source": [
    "重复特征检查：丢弃重复特征"
   ]
  },
  {
   "cell_type": "code",
   "execution_count": null,
   "metadata": {},
   "outputs": [],
   "source": [
    "df=pd.read_csv(\"./dataset/bmi/500_Person_Gender_Height_Weight_Index.csv\")\n",
    "df.replace({\"Male\":1,\"Female\":0},inplace=True)\n",
    "#重复特征检查演示：丢弃掉重复特征\n",
    "df['Height1'] = df['Height'] #设置重复特征“Height1”\n",
    "df_T = df.T #转置操作，将行变成列，列变成行\n",
    "d_columns = df_T[df_T.duplicated()].index.values #得到重复特征列名\n",
    "df1=df.drop(labels=d_columns, axis=1)\n",
    "print(\"特征数量：%d(过滤前),%d(过滤后)\"%(df.shape[1],df1.shape[1]))"
   ]
  },
  {
   "cell_type": "markdown",
   "metadata": {},
   "source": [
    "# 相关系数法"
   ]
  },
  {
   "cell_type": "code",
   "execution_count": null,
   "metadata": {},
   "outputs": [],
   "source": [
    "df=pd.read_csv(\"./dataset/bmi/500_Person_Gender_Height_Weight_Index.csv\")\n",
    "#为了方便演示，增加一个年龄特征（随机的0至100之间的整数）\n",
    "df['Age']=np.random.randint(0,100,500)\n",
    "pear_matrix = df.corr() #计算皮尔森相关系数\n",
    "#如果相关系数大于0.5，认为两个特征相似，需要丢弃掉一个\n",
    "corr_features = set()\n",
    "for i in range(len(pear_matrix .columns)):\n",
    "    for j in range(i):\n",
    "        if abs(pear_matrix.iloc[i, j]) > 0.5:\n",
    "            colname = pear_matrix.columns[i]\n",
    "            corr_features.add(colname)\n",
    "df1=df.drop(labels=corr_features, axis=1)\n",
    "print(\"特征数量：%d(过滤前),%d(过滤后)\"%(df.shape[1],df1.shape[1]))"
   ]
  },
  {
   "cell_type": "markdown",
   "metadata": {},
   "source": [
    "# 通过统计量过滤"
   ]
  },
  {
   "cell_type": "code",
   "execution_count": null,
   "metadata": {},
   "outputs": [],
   "source": [
    "df=pd.read_csv(\"./dataset/bmi/500_Person_Gender_Height_Weight_Index.csv\")\n",
    "le = preprocessing.LabelEncoder() #将类别转换为编码表示\n",
    "df['Gender'] = le.fit_transform(df['Gender'])\n",
    "df1 = df[['Height','Weight']] #身高，体重作为输入向量，性别作为输出向量\n",
    "X = np.array(df1.to_records(index=False).tolist())\n",
    "y = np.array(df['Gender'].tolist())\n",
    "#定义特征选择器，使用方差分析f_classif(卡方检验使用chi2),只选择一个特征k=1\n",
    "sel = SelectKBest(f_classif, k=1) \n",
    "sel.fit(X, y) \n",
    "X_new = sel.transform(X)\n",
    "print(\"特征得分:%r,P值:%r\"%(sel.scores_,sel.pvalues_))\n",
    "print(\"特征数量：%d(过滤前),%d(过滤后)\"%(X.shape[1],X_new.shape[1]))"
   ]
  }
 ],
 "metadata": {
  "kernelspec": {
   "display_name": "Python 3",
   "language": "python",
   "name": "python3"
  },
  "language_info": {
   "codemirror_mode": {
    "name": "ipython",
    "version": 3
   },
   "file_extension": ".py",
   "mimetype": "text/x-python",
   "name": "python",
   "nbconvert_exporter": "python",
   "pygments_lexer": "ipython3",
   "version": "3.7.9"
  }
 },
 "nbformat": 4,
 "nbformat_minor": 4
}
