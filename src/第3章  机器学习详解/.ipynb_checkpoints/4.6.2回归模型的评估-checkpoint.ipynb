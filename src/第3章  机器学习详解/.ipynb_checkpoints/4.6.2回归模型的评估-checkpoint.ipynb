{
 "cells": [
  {
   "cell_type": "markdown",
   "metadata": {},
   "source": [
    "回归模型评估\n",
    "\n",
    "作者：谢文伟\n",
    "\n",
    "邮件：xiewenwei@sina.com\n",
    "\n",
    "主页：https://github.com/jimxie2012/ai-cv#"
   ]
  },
  {
   "cell_type": "markdown",
   "metadata": {},
   "source": [
    "导入用到的开发库"
   ]
  },
  {
   "cell_type": "code",
   "execution_count": 1,
   "metadata": {},
   "outputs": [],
   "source": [
    "from sklearn.metrics import mean_absolute_error\n",
    "from sklearn.metrics import mean_squared_error\n",
    "from sklearn.metrics import r2_score\n",
    "from sklearn.datasets import make_regression\n",
    "from sklearn.linear_model import LinearRegression\n",
    "from sklearn.model_selection import train_test_split\n",
    "import math"
   ]
  },
  {
   "cell_type": "markdown",
   "metadata": {},
   "source": [
    "训练模型（#随机生成5000组回归样本,4500组作为训练样本，500组作为测试样本）"
   ]
  },
  {
   "cell_type": "code",
   "execution_count": 2,
   "metadata": {
    "scrolled": true
   },
   "outputs": [
    {
     "data": {
      "text/plain": [
       "LinearRegression()"
      ]
     },
     "execution_count": 2,
     "metadata": {},
     "output_type": "execute_result"
    }
   ],
   "source": [
    "X,Y=make_regression(n_samples=5000,n_features=10,n_targets=1,noise=0.25)\n",
    "X_train,X_test,Y_train,Y_test=train_test_split(X,Y,test_size=0.10,shuffle=False)\n",
    "#训练线性回归模型，并在测试集上进行预测\n",
    "model = LinearRegression()\n",
    "model.fit(X_train, Y_train)\n",
    "pred_y = model.predict(X_test)"
   ]
  },
  {
   "cell_type": "markdown",
   "metadata": {},
   "source": [
    "#评估模型表现"
   ]
  },
  {
   "cell_type": "code",
   "execution_count": 3,
   "metadata": {},
   "outputs": [
    {
     "name": "stdout",
     "output_type": "stream",
     "text": [
      "平均绝对值误差(MAE): 0.1968613293368366\n",
      "均方误差(MSE): 0.061432162000513074\n",
      "均方根误差(RMSE): 0.24785512300639073\n",
      "决定系数(R²) 0.9999985065714221\n",
      "校正决定系数(adjusted R square) 0.9999985032445596\n"
     ]
    }
   ],
   "source": [
    "print(\"平均绝对值误差(MAE):\",mean_absolute_error(Y_test,pred_y))\n",
    "print(\"均方误差(MSE):\",mean_squared_error(Y_test,pred_y))\n",
    "print(\"均方根误差(RMSE):\",math.sqrt(mean_squared_error(Y_test,pred_y)))\n",
    "r_square=r2_score(Y_test,pred_y)\n",
    "print(\"决定系数(R²)\",r_square)\n",
    "n,p = X_train.shape\n",
    "print(\"校正决定系数(adjusted R square)\",(1-((1-r_square)*(n-1))/(n-p-1)))"
   ]
  }
 ],
 "metadata": {
  "kernelspec": {
   "display_name": "Python 3",
   "language": "python",
   "name": "python3"
  },
  "language_info": {
   "codemirror_mode": {
    "name": "ipython",
    "version": 3
   },
   "file_extension": ".py",
   "mimetype": "text/x-python",
   "name": "python",
   "nbconvert_exporter": "python",
   "pygments_lexer": "ipython3",
   "version": "3.7.9"
  }
 },
 "nbformat": 4,
 "nbformat_minor": 4
}
