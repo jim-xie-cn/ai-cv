{
 "cells": [
  {
   "cell_type": "raw",
   "metadata": {},
   "source": [
    "使用包裹法进行特征选择\n",
    "\n",
    "作者：谢文伟\n",
    "\n",
    "邮件：xiewenwei@sina.com\n",
    "\n",
    "主页：https://github.com/jimxie2012/ai-cv# 特征工程"
   ]
  },
  {
   "cell_type": "raw",
   "metadata": {},
   "source": [
    "导入开发库"
   ]
  },
  {
   "cell_type": "code",
   "execution_count": 1,
   "metadata": {},
   "outputs": [],
   "source": [
    "#引用以下包做数据处理\n",
    "import numpy as np   \n",
    "import pandas as pd     \n",
    "from sklearn.linear_model import Lasso\n",
    "from sklearn.feature_selection import SelectFromModel\n",
    "from sklearn.datasets import make_regression,make_blobs\n",
    "from sklearn.ensemble import RandomForestClassifier\n",
    "from mlxtend.feature_selection import SequentialFeatureSelector,ExhaustiveFeatureSelector\n",
    "#引用以下包做数据可视化\n",
    "import seaborn as sns   \n",
    "import matplotlib.pyplot as plt\n",
    "from warnings import filterwarnings"
   ]
  },
  {
   "cell_type": "raw",
   "metadata": {},
   "source": [
    "初始化开发环境"
   ]
  },
  {
   "cell_type": "code",
   "execution_count": 2,
   "metadata": {},
   "outputs": [],
   "source": [
    "filterwarnings('ignore')\n",
    "pd.set_option('display.float_format',lambda x:'%.2f'%x) #不使用科学计数法\n",
    "sns.set(font_scale=1.5) #设置统计图字体大小\n",
    "plt.rcParams['font.sans-serif']=['SimHei'] #在统计图上显示中文\n",
    "plt.style.use({'figure.figsize':(24, 8)})  #设置画布大小"
   ]
  },
  {
   "cell_type": "markdown",
   "metadata": {},
   "source": [
    "# 前向特征选择"
   ]
  },
  {
   "cell_type": "code",
   "execution_count": 3,
   "metadata": {},
   "outputs": [
    {
     "name": "stdout",
     "output_type": "stream",
     "text": [
      "Index(['F0', 'F3'], dtype='object') 1.0\n"
     ]
    },
    {
     "data": {
      "text/plain": [
       "array([[  8.94659337,  -7.85232293],\n",
       "       [  8.6426595 ,  -7.93005909],\n",
       "       [ -6.84798443,   9.04156003],\n",
       "       [ -7.16846429,  10.38428247],\n",
       "       [  6.52518394,  -8.52909252],\n",
       "       [ -5.62084602,  -0.45324491],\n",
       "       [ -8.69464717,   9.1894949 ],\n",
       "       [  8.31134683,  -9.24839218],\n",
       "       [ -7.11046876,   0.24021171],\n",
       "       [  6.91587889,  -7.9868507 ],\n",
       "       [-10.08072251,   6.73185837],\n",
       "       [ -5.16114826,  -1.94725637],\n",
       "       [ -6.96307877,  -1.46613174],\n",
       "       [ -6.75987416,  -0.1779367 ],\n",
       "       [ -9.2156508 ,   7.61766375],\n",
       "       [ -5.90736388,  -1.25158491],\n",
       "       [ -5.71773355,  -2.77292062],\n",
       "       [  7.42026395,  -7.02581381],\n",
       "       [ -9.53022469,   9.98444545],\n",
       "       [ -7.41440594,  -1.97668304],\n",
       "       [ -7.93518026,  10.38491793],\n",
       "       [ -6.10365132,  -1.85434503],\n",
       "       [  7.82403881,  -8.55003309],\n",
       "       [  9.27113293, -10.44247893],\n",
       "       [-10.02520583,  10.77346546],\n",
       "       [  8.10421148,  -8.64770036],\n",
       "       [ -8.96378609,   6.96335776],\n",
       "       [  8.47149614,  -9.03932285],\n",
       "       [  8.90184087,  -7.97862449],\n",
       "       [ -7.25583153,  -0.99540091],\n",
       "       [ -5.96555435,  -1.84357581],\n",
       "       [  8.90057036,  -8.6412632 ],\n",
       "       [  8.39037983,  -9.45882496],\n",
       "       [-10.72281771,   9.60683661],\n",
       "       [ -9.16992068,   9.87879329],\n",
       "       [  8.22857606,  -8.42876725],\n",
       "       [ -9.15188998,  10.09518766],\n",
       "       [ -8.17049423,   9.15220001],\n",
       "       [ -4.21429046,  -2.75372174],\n",
       "       [ -5.60002736,  -0.86352014],\n",
       "       [ -6.32644862,  -1.77327539],\n",
       "       [ -4.96370942,  -0.8161968 ],\n",
       "       [ -4.2675159 ,  -1.85315125],\n",
       "       [ -6.24392027,  -0.66748394],\n",
       "       [ -6.86839146,  -1.68633778],\n",
       "       [ -8.14916594,   6.31348705],\n",
       "       [ -9.82689941,   8.50611903],\n",
       "       [ -8.34830623,   9.34426128],\n",
       "       [-10.23370967,  10.19736803],\n",
       "       [  6.76027073,  -5.69887913],\n",
       "       [  8.77316191,  -8.39992424],\n",
       "       [ -9.17358307,   9.1300811 ],\n",
       "       [  8.90756678,  -9.28098524],\n",
       "       [ -7.55600416,   7.20786958],\n",
       "       [ -9.36897135,   7.90966804],\n",
       "       [  7.58953646,  -8.56035561],\n",
       "       [ -7.36709925,  -1.36813077],\n",
       "       [  7.50490573,  -7.91354045],\n",
       "       [  8.19866048,  -6.99591703],\n",
       "       [  5.46241038,  -7.4380734 ],\n",
       "       [ -8.9467359 ,   9.65430526],\n",
       "       [  8.88138883,  -9.26453581],\n",
       "       [ -4.45758661,  -2.02501818],\n",
       "       [ -6.78394033,   7.85791509],\n",
       "       [ -9.35337848,   8.73702074],\n",
       "       [ -5.41642946,  -1.12580746],\n",
       "       [  8.37134292,  -9.1762099 ],\n",
       "       [  6.16184038,  -8.80017282],\n",
       "       [  7.8898448 ,  -9.24009495],\n",
       "       [ -6.40908529,  -3.08820839],\n",
       "       [ -6.88707652,  -2.40270903],\n",
       "       [  7.53623953,  -9.28703212],\n",
       "       [  8.32984649,  -9.72340664],\n",
       "       [  7.72895062,  -7.50459001],\n",
       "       [ -6.62328618,  -0.67043266],\n",
       "       [ -7.92238146,   9.31131239],\n",
       "       [ -6.94903081,  -1.02642761],\n",
       "       [-10.44057738,   8.84236635],\n",
       "       [ -7.97728875,  -0.32435721],\n",
       "       [ -7.43986117,   8.46855601],\n",
       "       [ -7.92329047,   8.88469796],\n",
       "       [  6.57697855,  -7.66456664],\n",
       "       [ -5.38088917,  -0.11691545],\n",
       "       [  7.85059059,  -8.69073312],\n",
       "       [ -4.88066901,  -2.4975085 ],\n",
       "       [ -8.13820672,   8.91545436],\n",
       "       [-10.49919768,   8.36833636],\n",
       "       [ -5.90558984,  -1.26027538],\n",
       "       [  7.95532255,  -9.50511523],\n",
       "       [ -6.91031331,   9.51253454],\n",
       "       [ -5.3256197 ,  -3.42913742],\n",
       "       [ -8.10642748,   9.48198396],\n",
       "       [ -5.25228247,  -2.38196062],\n",
       "       [-10.09501165,   7.47387753],\n",
       "       [ -7.99800528,   9.64112647],\n",
       "       [  9.08807522,  -7.67639803],\n",
       "       [ -7.34937658,  -1.55703656],\n",
       "       [-10.86445392,  10.60989112],\n",
       "       [  8.63922158,  -7.61300304],\n",
       "       [ -4.93340695,  -0.15382855]])"
      ]
     },
     "execution_count": 3,
     "metadata": {},
     "output_type": "execute_result"
    }
   ],
   "source": [
    "#随机生成训练数据：100个样本，有5个特征，样本分布有3个中心\n",
    "features = 5\n",
    "X, y_train = make_blobs(n_samples=100,n_features=features,centers=3)\n",
    "x_train=pd.DataFrame(X,columns=['F{:d}'.format(i) for i in range(features)])\n",
    "#定义特征选择对象，使用随机森林作为评估模型\n",
    "rf=RandomForestClassifier()\n",
    "sfs=SequentialFeatureSelector(rf,k_features=2,forward=True,scoring='accuracy',cv=2)\n",
    "sfs = sfs.fit(x_train, y_train) #进行特征选择\n",
    "selected_features = x_train.columns[list(sfs.k_feature_idx_)]#输出最佳特征组合和模型得分\n",
    "print(selected_features,sfs.k_score_)\n",
    "#只使用最优特征组合作为训练数据\n",
    "x_train_sfs = sfs.transform(x_train)\n",
    "x_train_sfs"
   ]
  },
  {
   "cell_type": "markdown",
   "metadata": {},
   "source": [
    "# 向后特征消除"
   ]
  },
  {
   "cell_type": "code",
   "execution_count": 4,
   "metadata": {},
   "outputs": [
    {
     "name": "stdout",
     "output_type": "stream",
     "text": [
      "Index(['F0', 'F3'], dtype='object') 1.0\n"
     ]
    }
   ],
   "source": [
    "#随机生成训练数据：100个样本，有5个特征，样本分布有3个中心\n",
    "features = 5\n",
    "X, y_train = make_blobs(n_samples=100,n_features=features,centers=3)\n",
    "x_train=pd.DataFrame(X,columns=['F{:d}'.format(i) for i in range(features)])\n",
    "#定义特征选择对象，使用随机森林作为评估模型\n",
    "rf=RandomForestClassifier()\n",
    "sfs=SequentialFeatureSelector(rf,k_features=2,forward=False,scoring='accuracy',cv=2)\n",
    "sfs = sfs.fit(x_train, y_train)#进行特征选择\n",
    "selected_features = x_train.columns[list(sfs.k_feature_idx_)]#输出最佳特征组合和模型得分\n",
    "print(selected_features,sfs.k_score_)\n",
    "#只使用最优特征组合作为训练数据\n",
    "x_train_sfs = sfs.transform(x_train)\n",
    "#x_train_sfs"
   ]
  },
  {
   "cell_type": "markdown",
   "metadata": {},
   "source": [
    "# 穷举特征选择"
   ]
  },
  {
   "cell_type": "code",
   "execution_count": 5,
   "metadata": {},
   "outputs": [
    {
     "name": "stderr",
     "output_type": "stream",
     "text": [
      "Features: 4/4"
     ]
    },
    {
     "name": "stdout",
     "output_type": "stream",
     "text": [
      "['F0', 'F1'] 1.0\n"
     ]
    }
   ],
   "source": [
    "#随机生成训练数据：100个样本，有5个特征，样本分布有3个中心\n",
    "features = 3\n",
    "X, y_train = make_blobs(n_samples=100,n_features=features,centers=2)\n",
    "x_train=pd.DataFrame(X,columns=['F{:d}'.format(i) for i in range(features)])\n",
    "#定义特征选择对象，使用随机森林作为评估模型\n",
    "rf=RandomForestClassifier()\n",
    "efs=ExhaustiveFeatureSelector(rf,min_features=2,max_features=3,scoring='roc_auc',cv=2)\n",
    "efs = efs.fit(x_train, y_train)#进行特征选择\n",
    "selected_features = list(efs.best_feature_names_)#输出最佳特征组合和模型得分\n",
    "print(selected_features,efs.best_score_)\n",
    "#只使用最优特征组合作为训练数据\n",
    "x_train_efs = efs.transform(x_train)\n",
    "#x_train_efs"
   ]
  },
  {
   "cell_type": "code",
   "execution_count": null,
   "metadata": {},
   "outputs": [],
   "source": []
  }
 ],
 "metadata": {
  "kernelspec": {
   "display_name": "Python 3",
   "language": "python",
   "name": "python3"
  },
  "language_info": {
   "codemirror_mode": {
    "name": "ipython",
    "version": 3
   },
   "file_extension": ".py",
   "mimetype": "text/x-python",
   "name": "python",
   "nbconvert_exporter": "python",
   "pygments_lexer": "ipython3",
   "version": "3.7.9"
  }
 },
 "nbformat": 4,
 "nbformat_minor": 4
}
