{
 "cells": [
  {
   "cell_type": "markdown",
   "metadata": {},
   "source": [
    "一元线性回归与最小二乘法\n",
    "\n",
    "作者：谢文伟\n",
    "\n",
    "邮件：jim.xie.cn@outlook.com\n",
    "\n",
    "主页：https://github.com/jim-xie-cn/ai-cv"
   ]
  },
  {
   "cell_type": "raw",
   "metadata": {},
   "source": [
    "导入开发库"
   ]
  },
  {
   "cell_type": "code",
   "execution_count": null,
   "metadata": {},
   "outputs": [],
   "source": [
    "#引用以下包做数据处理\n",
    "import numpy as np\n",
    "import pandas as pd\n",
    "from sklearn import preprocessing\n",
    "from sklearn.linear_model import LinearRegression\n",
    "from sklearn.datasets import make_regression\n",
    "#引用以下包做数据可视化\n",
    "import matplotlib.pyplot as plt\n",
    "import seaborn as sns\n",
    "from warnings import filterwarnings\n",
    "import pandas as pd"
   ]
  },
  {
   "cell_type": "raw",
   "metadata": {},
   "source": [
    "初始化开发环境"
   ]
  },
  {
   "cell_type": "code",
   "execution_count": null,
   "metadata": {},
   "outputs": [],
   "source": [
    "filterwarnings('ignore')\n",
    "pd.set_option('display.float_format',lambda x:'%.2f'%x) #不使用科学计数法\n",
    "sns.set(font_scale=1.5) #设置统计图字体大小\n",
    "plt.rcParams['font.sans-serif']=['SimHei'] #在统计图上显示中文\n",
    "plt.style.use({'figure.figsize':(24, 8)})  #设置画布大小"
   ]
  },
  {
   "cell_type": "markdown",
   "metadata": {},
   "source": [
    "# 一元线性回归"
   ]
  },
  {
   "cell_type": "code",
   "execution_count": null,
   "metadata": {},
   "outputs": [],
   "source": [
    "#随机生成100个带噪音的样本（一维X和一维y)\n",
    "X,y=make_regression(n_samples=100, n_features=1,n_targets=1,noise=15,random_state=0)\n",
    "model = LinearRegression()#选择线性回归模型进行训练\n",
    "model.fit(X, y)\n",
    "df=pd.DataFrame() #使用pandas保持预测结果（为了可视化方便）\n",
    "df['变量(X)']=X.squeeze()\n",
    "df['真实值(Y)']=y\n",
    "df['预测值(Y)']=model.predict(X)\n",
    "#使用散点图显示真实值，折线图显示预测值\n",
    "sns.scatterplot(x='变量(X)',y='真实值(Y)',data=df)\n",
    "sns.lineplot(x='变量(X)',y='预测值(Y)',data=df,color='red')"
   ]
  },
  {
   "cell_type": "code",
   "execution_count": null,
   "metadata": {},
   "outputs": [],
   "source": []
  }
 ],
 "metadata": {
  "kernelspec": {
   "display_name": "Python 3",
   "language": "python",
   "name": "python3"
  },
  "language_info": {
   "codemirror_mode": {
    "name": "ipython",
    "version": 3
   },
   "file_extension": ".py",
   "mimetype": "text/x-python",
   "name": "python",
   "nbconvert_exporter": "python",
   "pygments_lexer": "ipython3",
   "version": "3.7.9"
  }
 },
 "nbformat": 4,
 "nbformat_minor": 4
}
