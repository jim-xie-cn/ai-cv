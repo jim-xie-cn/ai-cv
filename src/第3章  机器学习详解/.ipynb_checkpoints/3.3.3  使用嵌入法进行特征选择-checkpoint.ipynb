{
 "cells": [
  {
   "cell_type": "raw",
   "metadata": {},
   "source": [
    "使用嵌入法进行特征选择\n",
    "\n",
    "作者：谢文伟\n",
    "\n",
    "邮件：jim.xie.cn@outlook.com\n",
    "\n",
    "主页：https://github.com/jim-xie-cn/ai-cv"
   ]
  },
  {
   "cell_type": "raw",
   "metadata": {},
   "source": [
    "导入开发库"
   ]
  },
  {
   "cell_type": "code",
   "execution_count": null,
   "metadata": {},
   "outputs": [],
   "source": [
    "#引用以下包做数据处理\n",
    "import numpy as np   \n",
    "import pandas as pd     \n",
    "from sklearn.linear_model import Lasso\n",
    "from sklearn.feature_selection import SelectFromModel\n",
    "from sklearn.datasets import make_regression,make_blobs\n",
    "from sklearn.ensemble import RandomForestClassifier\n",
    "#引用以下包做数据可视化\n",
    "import seaborn as sns   \n",
    "import matplotlib.pyplot as plt\n",
    "from warnings import filterwarnings"
   ]
  },
  {
   "cell_type": "raw",
   "metadata": {},
   "source": [
    "初始化开发环境"
   ]
  },
  {
   "cell_type": "code",
   "execution_count": null,
   "metadata": {},
   "outputs": [],
   "source": [
    "filterwarnings('ignore')\n",
    "pd.set_option('display.float_format',lambda x:'%.2f'%x) #不使用科学计数法\n",
    "sns.set(font_scale=1.5) #设置统计图字体大小\n",
    "plt.rcParams['font.sans-serif']=['SimHei'] #在统计图上显示中文\n",
    "plt.style.use({'figure.figsize':(24, 8)})  #设置画布大小"
   ]
  },
  {
   "cell_type": "markdown",
   "metadata": {},
   "source": [
    "# 正则化方法"
   ]
  },
  {
   "cell_type": "code",
   "execution_count": null,
   "metadata": {},
   "outputs": [],
   "source": [
    "#随机生成训练数据：100个样本，有10个特征，样本分布有3个中心\n",
    "features = 10\n",
    "X, y_train = make_blobs(n_samples=500,n_features=features,centers=3)\n",
    "x_train=pd.DataFrame(X,columns=['F{:d}'.format(i) for i in range(features)])\n",
    "#选用岭回归模型进行特征选择\n",
    "selection = SelectFromModel(Lasso(alpha=1.5))\n",
    "selection.fit(x_train, y_train)\n",
    "#得到选择后的特征\n",
    "selected_features = x_train.columns[(selection.get_support())]\n",
    "print(\"原始特征:\",x_train.columns.tolist(),\"选择后的特征：\",selected_features)"
   ]
  },
  {
   "cell_type": "markdown",
   "metadata": {},
   "source": [
    "# 基于树的方法"
   ]
  },
  {
   "cell_type": "code",
   "execution_count": null,
   "metadata": {},
   "outputs": [],
   "source": [
    "#随机生成训练数据：100个样本，有10个特征，样本分布有3个中心\n",
    "features = 10\n",
    "X, y_train = make_blobs(n_samples=500,n_features=features,centers=3)\n",
    "x_train=pd.DataFrame(X,columns=['F{:d}'.format(i) for i in range(features)])\n",
    "#选用随机森林模型（300颗树）进行特征选择\n",
    "model = RandomForestClassifier(n_estimators=340)\n",
    "model.fit(x_train, y_train)\n",
    "#得到每个特征的重要分值\n",
    "importances = model.feature_importances_\n",
    "print(\"特征\",x_train.columns, \"重要分值\",importances)"
   ]
  },
  {
   "cell_type": "code",
   "execution_count": null,
   "metadata": {},
   "outputs": [],
   "source": []
  }
 ],
 "metadata": {
  "kernelspec": {
   "display_name": "Python 3",
   "language": "python",
   "name": "python3"
  },
  "language_info": {
   "codemirror_mode": {
    "name": "ipython",
    "version": 3
   },
   "file_extension": ".py",
   "mimetype": "text/x-python",
   "name": "python",
   "nbconvert_exporter": "python",
   "pygments_lexer": "ipython3",
   "version": "3.7.9"
  }
 },
 "nbformat": 4,
 "nbformat_minor": 4
}
