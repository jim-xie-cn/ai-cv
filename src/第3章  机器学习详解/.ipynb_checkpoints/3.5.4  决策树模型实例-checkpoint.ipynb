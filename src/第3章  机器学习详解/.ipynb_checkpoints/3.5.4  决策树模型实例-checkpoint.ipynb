{
 "cells": [
  {
   "cell_type": "markdown",
   "metadata": {},
   "source": [
    "决策树模型实例\n",
    "\n",
    "作者：谢文伟\n",
    "\n",
    "邮件：jim.xie.cn@outlook.com\n",
    "\n",
    "主页：https://github.com/jim-xie-cn/ai-cv"
   ]
  },
  {
   "cell_type": "raw",
   "metadata": {},
   "source": [
    "导入开发库"
   ]
  },
  {
   "cell_type": "code",
   "execution_count": null,
   "metadata": {},
   "outputs": [],
   "source": [
    "#引用以下包做数据处理\n",
    "import numpy as np\n",
    "import pandas as pd\n",
    "from sklearn import preprocessing\n",
    "from sklearn.feature_extraction import DictVectorizer\n",
    "from sklearn.model_selection import train_test_split\n",
    "from sklearn.tree import DecisionTreeClassifier\n",
    "#引用以下包做数据可视化\n",
    "import matplotlib.pyplot as plt\n",
    "from mpl_toolkits.mplot3d import Axes3D\n",
    "import seaborn as sns\n",
    "from warnings import filterwarnings"
   ]
  },
  {
   "cell_type": "raw",
   "metadata": {},
   "source": [
    "初始化开发环境"
   ]
  },
  {
   "cell_type": "code",
   "execution_count": null,
   "metadata": {},
   "outputs": [],
   "source": [
    "filterwarnings('ignore')\n",
    "pd.set_option('display.float_format',lambda x:'%.2f'%x) #不使用科学计数法\n",
    "sns.set(font_scale=1.5) #设置统计图字体大小\n",
    "plt.rcParams['font.sans-serif']=['SimHei'] #在统计图上显示中文\n",
    "plt.style.use({'figure.figsize':(24, 8)})  #设置画布大小"
   ]
  },
  {
   "cell_type": "raw",
   "metadata": {},
   "source": [
    "读取样本数据，并重新命名列名和性别"
   ]
  },
  {
   "cell_type": "code",
   "execution_count": null,
   "metadata": {
    "scrolled": true
   },
   "outputs": [],
   "source": [
    "df=pd.read_csv(\"./dataset/bmi/500_Person_Gender_Height_Weight_Index.csv\")\n",
    "df=df.rename(columns={'Gender':'性别','Height':'身高'})\n",
    "df=df.rename(columns={'Weight':'体重','Index':'等级'})\n",
    "df['性别']= df['性别'].str.replace(\"Male\",\"男\")\n",
    "df['性别']= df['性别'].str.replace(\"Female\",\"女\")"
   ]
  },
  {
   "cell_type": "raw",
   "metadata": {},
   "source": [
    "生成训练集和测试集"
   ]
  },
  {
   "cell_type": "code",
   "execution_count": null,
   "metadata": {},
   "outputs": [],
   "source": [
    "features=df[['性别','身高','体重']] #使用性别，身高，体重作为输入特征，等级作为预测标签\n",
    "labels=df['等级']\n",
    "#使用DictVectorizer将特征转换成训练的输入向量\n",
    "#sklearn需要numpy格式数据进行训练，现将数据集转化为numpy格式\n",
    "vec = DictVectorizer(sparse=False)\n",
    "X =  vec.fit_transform(features.to_dict(orient='records'))\n",
    "Y = np.array(labels)\n",
    "feature_names = vec.get_feature_names()\n",
    "#划分成训练集和测试集，测试集占总样本的10%，训练集占90%，不打乱顺序\n",
    "X_train,X_test,Y_train,Y_test=train_test_split(X,Y,test_size=0.10,shuffle=False)"
   ]
  },
  {
   "cell_type": "raw",
   "metadata": {},
   "source": [
    "选择算法训练模型，并评估性能"
   ]
  },
  {
   "cell_type": "code",
   "execution_count": null,
   "metadata": {},
   "outputs": [],
   "source": [
    "#设置分裂条件，当树的最大深度示15层或节点下样本多于5个停止分裂\n",
    "#使用C4.5算法训练决策树，如果使用CART算法，将criterion设置cart\n",
    "dt = DecisionTreeClassifier(criterion='entropy',max_depth=15,min_samples_split=5)\n",
    "#使用训练集训练模型\n",
    "dt.fit(X_train,Y_train)\n",
    "#在测试集上测试预测效果\n",
    "print(\"模型得分:\",dt.score(X_test,Y_test))"
   ]
  },
  {
   "cell_type": "raw",
   "metadata": {},
   "source": [
    "决策树可视化"
   ]
  },
  {
   "cell_type": "code",
   "execution_count": null,
   "metadata": {},
   "outputs": [],
   "source": [
    "from sklearn.tree import export_graphviz\n",
    "import graphviz\n",
    "#可视化决策树，只显示两层子节点\n",
    "dot_data = export_graphviz(dt,filled=False,rounded=True,max_depth=2,\n",
    "                           feature_names=feature_names,\n",
    "                           class_names=['非常虚弱','虚弱','瘦弱','正常','过重','肥胖'])\n",
    "graph = graphviz.Source(dot_data)\n",
    "#保存和显示可视化结果\n",
    "graph.render(filename =\"tree\", directory ='./output/', format='plain')\n",
    "graph.render(filename =\"tree\", directory ='./output/', format='jpg')\n",
    "graph"
   ]
  },
  {
   "cell_type": "code",
   "execution_count": null,
   "metadata": {},
   "outputs": [],
   "source": []
  }
 ],
 "metadata": {
  "kernelspec": {
   "display_name": "Python 3",
   "language": "python",
   "name": "python3"
  },
  "language_info": {
   "codemirror_mode": {
    "name": "ipython",
    "version": 3
   },
   "file_extension": ".py",
   "mimetype": "text/x-python",
   "name": "python",
   "nbconvert_exporter": "python",
   "pygments_lexer": "ipython3",
   "version": "3.7.9"
  }
 },
 "nbformat": 4,
 "nbformat_minor": 4
}
