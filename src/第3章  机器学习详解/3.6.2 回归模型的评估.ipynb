{
 "cells": [
  {
   "cell_type": "markdown",
   "metadata": {},
   "source": [
    "回归模型评估\n",
    "\n",
    "作者：谢文伟\n",
    "\n",
    "邮件：jim.xie.cn@outlook.com\n",
    "\n",
    "主页：https://github.com/jim-xie-cn/ai-cv"
   ]
  },
  {
   "cell_type": "markdown",
   "metadata": {},
   "source": [
    "导入用到的开发库"
   ]
  },
  {
   "cell_type": "code",
   "execution_count": null,
   "metadata": {},
   "outputs": [],
   "source": [
    "from sklearn.metrics import mean_absolute_error\n",
    "from sklearn.metrics import mean_squared_error\n",
    "from sklearn.metrics import r2_score\n",
    "from sklearn.datasets import make_regression\n",
    "from sklearn.linear_model import LinearRegression\n",
    "from sklearn.model_selection import train_test_split\n",
    "import math"
   ]
  },
  {
   "cell_type": "markdown",
   "metadata": {},
   "source": [
    "训练模型（#随机生成5000组回归样本,4500组作为训练样本，500组作为测试样本）"
   ]
  },
  {
   "cell_type": "code",
   "execution_count": null,
   "metadata": {
    "scrolled": true
   },
   "outputs": [],
   "source": [
    "X,Y=make_regression(n_samples=5000,n_features=10,n_targets=1,noise=0.25)\n",
    "X_train,X_test,Y_train,Y_test=train_test_split(X,Y,test_size=0.10,shuffle=False)\n",
    "#训练线性回归模型，并在测试集上进行预测\n",
    "model = LinearRegression()\n",
    "model.fit(X_train, Y_train)\n",
    "pred_y = model.predict(X_test)"
   ]
  },
  {
   "cell_type": "markdown",
   "metadata": {},
   "source": [
    "#评估模型表现"
   ]
  },
  {
   "cell_type": "code",
   "execution_count": null,
   "metadata": {},
   "outputs": [],
   "source": [
    "print(\"平均绝对值误差(MAE):\",mean_absolute_error(Y_test,pred_y))\n",
    "print(\"均方误差(MSE):\",mean_squared_error(Y_test,pred_y))\n",
    "print(\"均方根误差(RMSE):\",math.sqrt(mean_squared_error(Y_test,pred_y)))\n",
    "r_square=r2_score(Y_test,pred_y)\n",
    "print(\"决定系数(R²)\",r_square)\n",
    "n,p = X_train.shape\n",
    "print(\"校正决定系数(adjusted R square)\",(1-((1-r_square)*(n-1))/(n-p-1)))"
   ]
  }
 ],
 "metadata": {
  "kernelspec": {
   "display_name": "Python 3",
   "language": "python",
   "name": "python3"
  },
  "language_info": {
   "codemirror_mode": {
    "name": "ipython",
    "version": 3
   },
   "file_extension": ".py",
   "mimetype": "text/x-python",
   "name": "python",
   "nbconvert_exporter": "python",
   "pygments_lexer": "ipython3",
   "version": "3.7.9"
  }
 },
 "nbformat": 4,
 "nbformat_minor": 4
}
