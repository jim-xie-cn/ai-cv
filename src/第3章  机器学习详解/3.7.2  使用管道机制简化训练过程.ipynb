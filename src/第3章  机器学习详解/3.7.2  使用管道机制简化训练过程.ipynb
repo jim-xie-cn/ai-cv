{
 "cells": [
  {
   "cell_type": "markdown",
   "metadata": {},
   "source": [
    "使用管道机制简化训练过程\n",
    "\n",
    "作者：谢文伟\n",
    "\n",
    "邮件：jim.xie.cn@outlook.com\n",
    "\n",
    "主页：https://github.com/jim-xie-cn/ai-cv"
   ]
  },
  {
   "cell_type": "markdown",
   "metadata": {},
   "source": [
    "导入用到的开发库"
   ]
  },
  {
   "cell_type": "code",
   "execution_count": null,
   "metadata": {},
   "outputs": [],
   "source": [
    "from sklearn.feature_selection import f_classif,SelectKBest\n",
    "from sklearn.svm import SVC\n",
    "from sklearn.preprocessing import StandardScaler\n",
    "from sklearn.pipeline import Pipeline\n",
    "from sklearn.datasets import make_blobs\n",
    "from sklearn.model_selection import train_test_split"
   ]
  },
  {
   "cell_type": "markdown",
   "metadata": {},
   "source": [
    "随机生成1000组样本，100个测试样本，900个训练样本，并调用管道进行标准化、提取特征、训练、评估和预测"
   ]
  },
  {
   "cell_type": "code",
   "execution_count": null,
   "metadata": {},
   "outputs": [],
   "source": [
    "X, Y = make_blobs(n_samples=1000,n_features=10,centers=2) #准备样本\n",
    "X_train,X_test,Y_train,Y_test=train_test_split(X,Y,test_size=0.10)\n",
    "pipe_list =[]\n",
    "pipe_list.append((\"SC\",StandardScaler())) #增加标准化转换器\n",
    "pipe_list.append((\"FE\",SelectKBest(f_classif, k=2))) #增加特征选择转换器\n",
    "pipe_list.append((\"SVM\",SVC(C=15))) #增加SVM分类器\n",
    "pipe = Pipeline(steps=pipe_list,verbose=True)#创建管道\n",
    "pipe.set_params(SVM__C=10) #设置管道参数\n",
    "pipe.fit(X_train,Y_train)  #训练模型\n",
    "pipe.score(X_test,Y_test)  #评估\n",
    "pipe.predict(X_test)       #进行预测\n",
    "pipe.get_params()          #获取管道中的参数"
   ]
  },
  {
   "cell_type": "markdown",
   "metadata": {},
   "source": []
  },
  {
   "cell_type": "code",
   "execution_count": null,
   "metadata": {},
   "outputs": [],
   "source": []
  }
 ],
 "metadata": {
  "kernelspec": {
   "display_name": "Python 3",
   "language": "python",
   "name": "python3"
  },
  "language_info": {
   "codemirror_mode": {
    "name": "ipython",
    "version": 3
   },
   "file_extension": ".py",
   "mimetype": "text/x-python",
   "name": "python",
   "nbconvert_exporter": "python",
   "pygments_lexer": "ipython3",
   "version": "3.7.9"
  }
 },
 "nbformat": 4,
 "nbformat_minor": 4
}
