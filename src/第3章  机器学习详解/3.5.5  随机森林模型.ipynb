{
 "cells": [
  {
   "cell_type": "markdown",
   "metadata": {},
   "source": [
    "随机森林模型实例\n",
    "\n",
    "作者：谢文伟\n",
    "\n",
    "邮件：jim.xie.cn@outlook.com\n",
    "\n",
    "主页：https://github.com/jim-xie-cn/ai-cv"
   ]
  },
  {
   "cell_type": "raw",
   "metadata": {},
   "source": [
    "导入开发库"
   ]
  },
  {
   "cell_type": "code",
   "execution_count": null,
   "metadata": {},
   "outputs": [],
   "source": [
    "#引用以下包做数据处理\n",
    "import numpy as np\n",
    "import pandas as pd\n",
    "from sklearn import preprocessing\n",
    "from sklearn.feature_extraction import DictVectorizer\n",
    "from sklearn.model_selection import train_test_split\n",
    "from sklearn.tree import DecisionTreeClassifier\n",
    "#引用以下包做数据可视化\n",
    "import matplotlib.pyplot as plt\n",
    "from mpl_toolkits.mplot3d import Axes3D\n",
    "import seaborn as sns\n",
    "from warnings import filterwarnings"
   ]
  },
  {
   "cell_type": "raw",
   "metadata": {},
   "source": [
    "初始化开发环境"
   ]
  },
  {
   "cell_type": "code",
   "execution_count": null,
   "metadata": {},
   "outputs": [],
   "source": [
    "filterwarnings('ignore')\n",
    "pd.set_option('display.float_format',lambda x:'%.2f'%x) #不使用科学计数法\n",
    "sns.set(font_scale=1.5) #设置统计图字体大小\n",
    "plt.rcParams['font.sans-serif']=['SimHei'] #在统计图上显示中文\n",
    "plt.style.use({'figure.figsize':(24, 8)})  #设置画布大小"
   ]
  },
  {
   "cell_type": "raw",
   "metadata": {},
   "source": [
    "显示判别曲线"
   ]
  },
  {
   "cell_type": "code",
   "execution_count": null,
   "metadata": {},
   "outputs": [],
   "source": [
    "#显示数据集散点图\n",
    "def plot_dataset(x, y):\n",
    "    (min_x1,min_x2) = (np.min(x[:,0])-1,np.min(x[:,1])-1)\n",
    "    (max_x1,max_x2) = (np.max(x[:,0])+1,np.max(x[:,1])+1)\n",
    "    axes = [min_x1, max_x1, min_x2, max_x2]\n",
    "    plt.scatter(x[y==0][:,0],x[y==0][:,1],marker='*',s=150)\n",
    "    plt.scatter(x[y==1][:,0],x[y==1][:,1],marker='1',s=150)\n",
    "    plt.scatter(x[y==2][:,0],x[y==2][:,1],marker='+',s=150)\n",
    "#显示判别曲线\n",
    "def plot_predictions(clf,x):\n",
    "    (min_x1,min_x2)= (np.min(x[:,0])-1,np.min(x[:,1])-1)\n",
    "    (max_x1,max_x2)= (np.max(x[:,0])+1,np.max(x[:,1])+1)\n",
    "    axes = [min_x1, max_x1, min_x2, max_x2]\n",
    "    x0s = np.linspace(axes[0], axes[1] , 200)\n",
    "    x1s = np.linspace(axes[2], axes[3], 200)\n",
    "    x0, x1 = np.meshgrid(x0s, x1s)\n",
    "    test_x = np.c_[x0.ravel(), x1.ravel()]\n",
    "    y_pred = clf.predict(test_x)\n",
    "    y_pred = y_pred.reshape(x0.shape)\n",
    "    plt.contourf(x0, x1, y_pred, cmap=plt.cm.brg, alpha=0.25)\n",
    "#现实判别曲线和测试数据\n",
    "def plot_predict_curve(model,x,y):\n",
    "    plot_predictions(model,x)\n",
    "    plot_dataset(x,y)"
   ]
  },
  {
   "cell_type": "code",
   "execution_count": null,
   "metadata": {},
   "outputs": [],
   "source": [
    "from sklearn.ensemble import RandomForestClassifier\n",
    "from sklearn.datasets import make_blobs\n",
    "from sklearn.model_selection import train_test_split\n",
    "#随机生成样本（2个特征，3个分类）\n",
    "X,Y= make_blobs(n_samples=1000,n_features=2,centers=3)\n",
    "#划分成训练集和测试集，测试集占总样本的30%，训练集占70%\n",
    "X_train,X_test,Y_train,Y_test=train_test_split(X,Y,test_size=0.30)\n",
    "#定义、训练和评估模型(使用5棵决策树)\n",
    "model = RandomForestClassifier(n_estimators=5)\n",
    "model.fit(X_train, Y_train)\n",
    "score = model.score(X_test,Y_test)\n",
    "print(\"模型得分:\",score)\n",
    "#模型输出可视化\n",
    "plot_predict_curve(model,X_test, Y_test)"
   ]
  },
  {
   "cell_type": "code",
   "execution_count": null,
   "metadata": {},
   "outputs": [],
   "source": []
  }
 ],
 "metadata": {
  "kernelspec": {
   "display_name": "Python 3",
   "language": "python",
   "name": "python3"
  },
  "language_info": {
   "codemirror_mode": {
    "name": "ipython",
    "version": 3
   },
   "file_extension": ".py",
   "mimetype": "text/x-python",
   "name": "python",
   "nbconvert_exporter": "python",
   "pygments_lexer": "ipython3",
   "version": "3.7.9"
  }
 },
 "nbformat": 4,
 "nbformat_minor": 4
}
