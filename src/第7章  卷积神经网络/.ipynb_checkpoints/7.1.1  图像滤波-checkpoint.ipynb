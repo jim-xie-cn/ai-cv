{
 "cells": [
  {
   "cell_type": "markdown",
   "metadata": {
    "scrolled": true
   },
   "source": [
    "图像滤波运算\n",
    "\n",
    "作者：谢文伟\n",
    "\n",
    "邮件：jim.xie.cn@outlook.com\n",
    "\n",
    "主页：https://github.com/jim-xie-cn/ai-cv"
   ]
  },
  {
   "cell_type": "code",
   "execution_count": null,
   "metadata": {},
   "outputs": [],
   "source": [
    "from matplotlib import pyplot as plt\n",
    "import cv2\n",
    "import numpy as np\n",
    "#读取图像，并转换为RGB格式\n",
    "img= cv2.imread('./images/bridge.jpg')\n",
    "image= cv2.cvtColor(img.copy(),cv2.COLOR_BGR2RGB)\n",
    "#image= cv2.cvtColor(image.copy(),cv2.COLOR_RGB2GRAY)\n",
    "#设置滤波器参数为blur算子\n",
    "kernel = np.array((\n",
    "        [0.0625, 0.125, 0.0625],\n",
    "        [0.125, 0.25, 0.125],\n",
    "        [0.0625, 0.125, 0.0625]), dtype=\"float32\")\n",
    "#进行滤波运算，（为增强演示效果，将kernel放大1.5倍）\n",
    "dst = cv2.filter2D(image.copy(), -1, kernel*1.5)\n",
    "plt.imshow(image,cmap='gray')\n",
    "plt.show()\n",
    "plt.imshow(dst,cmap='gray')"
   ]
  },
  {
   "cell_type": "code",
   "execution_count": null,
   "metadata": {},
   "outputs": [],
   "source": []
  },
  {
   "cell_type": "code",
   "execution_count": null,
   "metadata": {},
   "outputs": [],
   "source": []
  }
 ],
 "metadata": {
  "celltoolbar": "Raw Cell Format",
  "kernelspec": {
   "display_name": "Python 3",
   "language": "python",
   "name": "python3"
  },
  "language_info": {
   "codemirror_mode": {
    "name": "ipython",
    "version": 3
   },
   "file_extension": ".py",
   "mimetype": "text/x-python",
   "name": "python",
   "nbconvert_exporter": "python",
   "pygments_lexer": "ipython3",
   "version": "3.7.9"
  }
 },
 "nbformat": 4,
 "nbformat_minor": 2
}
